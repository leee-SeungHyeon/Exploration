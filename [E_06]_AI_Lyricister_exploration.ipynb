{
 "cells": [
  {
   "cell_type": "markdown",
   "id": "c9a70865",
   "metadata": {},
   "source": [
    "# 평가 조건\n",
    "1. 데이터의 전처리 및 구성과정이 체계적으로 진행되었는가?\n",
    " - 특수문자 제거, 토크나이저 생성, 패딩 처리의 작업들이 빠짐없이 진행되었는가?\n",
    "2. 가사 텍스트 생성 모델이 정상적으로 동작하는가?\n",
    " - 텍스트 제너레이션 결과로 생성된 문장이 해석 가능한 문장인가?\n",
    "3. 텍스트 생성모델이 안정적으로 학습되었는가?\n",
    " - 텍스트 생성모델의 validation loss가 2.2 이하로 낮아졌는가?"
   ]
  },
  {
   "cell_type": "markdown",
   "id": "94311302",
   "metadata": {},
   "source": [
    "# 1. 모듈 임포트 및 데이터 불러오기"
   ]
  },
  {
   "cell_type": "code",
   "execution_count": 1,
   "id": "e37195a8",
   "metadata": {},
   "outputs": [
    {
     "name": "stdout",
     "output_type": "stream",
     "text": [
      "데이터 크기: 187088\n",
      "Examples:\n",
      " ['', '', '[Spoken Intro:]']\n"
     ]
    }
   ],
   "source": [
    "import os, re\n",
    "import glob\n",
    "import numpy as np\n",
    "import tensorflow as tf\n",
    "from sklearn.model_selection import train_test_split\n",
    "from collections import OrderedDict\n",
    "\n",
    "txt_file_path = os.getenv('HOME')+'/aiffel/lyricist/data/lyrics/*' #os.getenv(x)함수는 환경 변수x의 값을 포함하는 문자열 변수를 반환합니다. txt_file_path 에 \"/root/aiffel/lyricist/data/lyrics/*\" 저장\n",
    "#*는 해당 파일 안에 있는 모든 것을 불러오겠다는 의미\n",
    "\n",
    "txt_list = glob.glob(txt_file_path) #txt_file_path 경로에 있는 모든 파일명을 리스트 형식으로 txt_list 에 할당\n",
    "\n",
    "raw_corpus = [] \n",
    "\n",
    "# 여러개의 txt 파일을 모두 읽어서 raw_corpus 에 담습니다.\n",
    "for txt_file in txt_list:\n",
    "    with open(txt_file, \"r\") as f:\n",
    "        raw = f.read().splitlines() #read() : 파일 전체의 내용을 하나의 문자열로 읽어온다. , splitlines()  : 여러라인으로 구분되어 있는 문자열을 한라인씩 분리하여 리스트로 반환\n",
    "        raw_corpus.extend(raw) # extend() : 리스트함수로 추가적인 내용을 연장 한다.\n",
    "\n",
    "print(\"데이터 크기:\", len(raw_corpus))\n",
    "print(\"Examples:\\n\", raw_corpus[:3])"
   ]
  },
  {
   "cell_type": "code",
   "execution_count": 2,
   "id": "843301a9",
   "metadata": {},
   "outputs": [
    {
     "data": {
      "text/plain": [
       "49"
      ]
     },
     "execution_count": 2,
     "metadata": {},
     "output_type": "execute_result"
    }
   ],
   "source": [
    "len(txt_list)"
   ]
  },
  {
   "cell_type": "code",
   "execution_count": 3,
   "id": "62ac73db",
   "metadata": {},
   "outputs": [
    {
     "data": {
      "text/plain": [
       "['/aiffel/aiffel/lyricist/data/lyrics/michael-jackson.txt',\n",
       " '/aiffel/aiffel/lyricist/data/lyrics/blink-182.txt']"
      ]
     },
     "execution_count": 3,
     "metadata": {},
     "output_type": "execute_result"
    }
   ],
   "source": [
    "txt_list[:2]"
   ]
  },
  {
   "attachments": {
    "image.png": {
     "image/png": "[encoded data removed]"
    }
   },
   "cell_type": "markdown",
   "id": "171b9f84",
   "metadata": {},
   "source": [
    "- ![image.png](attachment:image.png)\n",
    "- 첫 파일을 열어보면 공백 2줄에 이어 가사가 시작됨을 알 수 있음\n",
    "- f.read().splitlines()는 한 라인에 있는 가사를 하나의 문장으로 구분하여 불러옴\n",
    "- 또한 파일은 총 49개이지만 그 안에 있는 가사를 한줄씩 데이터화 했을 경우 총 187,088개의 데이터가 존재하는것을 알 수 있음"
   ]
  },
  {
   "cell_type": "markdown",
   "id": "303b762a",
   "metadata": {},
   "source": [
    "# 2. 데이터 전처리\n",
    "- 모든 실험에서 데이터의 전처리는 중요한 과정이지만, 특히 NLP 태스크에서는 더욱 중요함\n",
    "- 전처리의 여부, 진행과정에 따라 결과가 천차만별로 달라질 수 있기 때문임"
   ]
  },
  {
   "cell_type": "code",
   "execution_count": 4,
   "id": "bdaa1720",
   "metadata": {},
   "outputs": [
    {
     "name": "stdout",
     "output_type": "stream",
     "text": [
      "7396\n"
     ]
    }
   ],
   "source": [
    "#단어 15개가 넘는 문장 갯수 확인\n",
    "\n",
    "c = 0\n",
    "for i in raw_corpus:\n",
    "    if len(i.split()) > 15:\n",
    "        c += 1\n",
    "print(c)"
   ]
  },
  {
   "cell_type": "code",
   "execution_count": 5,
   "id": "1d6e360b",
   "metadata": {},
   "outputs": [
    {
     "name": "stdout",
     "output_type": "stream",
     "text": [
      "sentence1:\n",
      " \n",
      "sentence2:\n",
      " \n",
      "sentence3:\n",
      " [Spoken Intro:]\n",
      "sentence4:\n",
      " You ever want something \n",
      "sentence5:\n",
      " that you know you shouldn't have \n",
      "sentence6:\n",
      " The more you know you shouldn't have it, \n",
      "sentence7:\n",
      " The more you want it \n",
      "sentence8:\n",
      " And then one day you get it, \n",
      "sentence9:\n",
      " It's so good too \n",
      "sentence10:\n",
      " But it's just like my girl \n"
     ]
    }
   ],
   "source": [
    "for i in range(len(raw_corpus[:10])):\n",
    "    print(\"sentence{}:\\n {}\".format(i+1,raw_corpus[i]))"
   ]
  },
  {
   "cell_type": "markdown",
   "id": "5312f02d",
   "metadata": {},
   "source": [
    "- 1, 2번 문장은 길이가 0(공백)이기 때문에 제거를 해줘야 할 것으로 생각됨\n",
    "- 3번은 특수문자가 들어가 있으며, 필요없는 문장으로 판단되어 제거해줘야 할 것으로 생각됨\n",
    "- 또한 문자가 아닌 특수문자 같은 것들과 불필요한 공백들도 제거해줘야함\n",
    "- 그리고 제거된 문장에 모델의 input값에 맞게 시작위치와 끝위치를 나타내는 문자를 삽입해줌\n",
    "- 추가로 지나치게 긴 문장은 다른 데이터들이 과도한 Padding을 갖게 하므로 제거(단어의 수가 15개가 넘어가는것을 제거)"
   ]
  },
  {
   "cell_type": "code",
   "execution_count": 6,
   "id": "a0fc480f",
   "metadata": {},
   "outputs": [],
   "source": [
    "def preprocess_sentence(sentence):\n",
    "    sentence = sentence.lower().strip() #소문자로 바꾸고, 양쪽 공백을 지움\n",
    "    sentence = re.sub(r\"([?.!,¿])\", r\" \\1 \", sentence) #특수문자 양쪽에 공백 추가\n",
    "    sentence = re.sub(r'[\" \"]+', \" \", sentence) #여러개의 공백은 하나의 공백으로 교체\n",
    "    sentence = re.sub(r\"[^a-zA-Z?.!,¿]+\", \" \", sentence) #-zA-Z?.!,¿가 아닌 모든 문자를 하나의 공백으로 교체\n",
    "    sentence = sentence.strip() #양쪽 공백 제거\n",
    "    sentence = '<start> ' + sentence + ' <end>' #문장 시작에는 <start>, 끝에는 <end>를 추가\n",
    "    return sentence"
   ]
  },
  {
   "cell_type": "code",
   "execution_count": 7,
   "id": "d17aca3c",
   "metadata": {},
   "outputs": [
    {
     "name": "stdout",
     "output_type": "stream",
     "text": [
      "168558\n"
     ]
    }
   ],
   "source": [
    "corpus = []\n",
    "\n",
    "for sentence in raw_corpus:\n",
    "    \n",
    "    if len(sentence) == 0 : continue #공백인 문장 제거\n",
    "    if len(sentence.split()) > 15 : continue #단어가 15개 이상인 문장 제거\n",
    "    if \"Intro\" in sentence : continue #분석에 중요하지 않은 문장 제거\n",
    "\n",
    "    preprocessed_sentence = preprocess_sentence(sentence)\n",
    "    corpus.append(preprocessed_sentence)\n",
    "    \n",
    "# corpus = list(OrderedDict.fromkeys(corpus)) #순서를 유지하되 중복된 노래 가사 제거\n",
    "\n",
    "print(len(corpus))"
   ]
  },
  {
   "cell_type": "markdown",
   "id": "eb13581c",
   "metadata": {},
   "source": [
    "## 토큰화"
   ]
  },
  {
   "cell_type": "code",
   "execution_count": 8,
   "id": "98a8ec3d",
   "metadata": {},
   "outputs": [
    {
     "name": "stdout",
     "output_type": "stream",
     "text": [
      "[[   2    7  159 ...    0    0    0]\n",
      " [   2   17    7 ...    0    0    0]\n",
      " [   2    6   99 ...    0    0    0]\n",
      " ...\n",
      " [   2  308    1 ...    0    0    0]\n",
      " [   2  726    5 ... 2305   19 1148]\n",
      " [   2  726    5 ... 2305   19 1148]] <keras_preprocessing.text.Tokenizer object at 0x7fa540726f40>\n"
     ]
    }
   ],
   "source": [
    "def tokenize(corpus):\n",
    "    # 사전에 없는 단어는 '<unk>'처리\n",
    "    tokenizer = tf.keras.preprocessing.text.Tokenizer(\n",
    "        num_words=12000, #사전의 전체 단어 갯수\n",
    "        filters=' ', #별도로 전처리 로직 추가 가능\n",
    "        oov_token=\"<unk>\" #사전에 없는 단어 처리\n",
    "    )\n",
    "    # tokenizer.fit_on_texts(texts): 문자 데이터를 입력받아 리스트의 형태로 변환하는 메서드\n",
    "    tokenizer.fit_on_texts(corpus)\n",
    "    \n",
    "    # 준비한 tokenizer를 이용해 corpus를 Tensor로 변환합니다\n",
    "    # tokenizer.texts_to_sequences(texts): 텍스트 안의 단어들을 숫자의 시퀀스 형태로 변환하는 메서드\n",
    "    tensor = tokenizer.texts_to_sequences(corpus)   \n",
    "    # 입력 데이터의 시퀀스 길이를 일정하게 맞춰줍니다\n",
    "    # 만약 시퀀스가 짧다면 문장 뒤에 패딩을 붙여 길이를 맞춰줍니다.\n",
    "    # 문장 앞에 패딩을 붙여 길이를 맞추고 싶다면 padding='pre'를 사용합니다\n",
    "    tensor = tf.keras.preprocessing.sequence.pad_sequences(tensor, padding='post',truncating='post', maxlen=15)  #maxlen는 텐서 한 문장의 길이를 나타냄\n",
    "    \n",
    "    print(tensor,tokenizer)\n",
    "    return tensor, tokenizer\n",
    "\n",
    "tensor, tokenizer = tokenize(corpus)"
   ]
  },
  {
   "cell_type": "code",
   "execution_count": 9,
   "id": "22258930",
   "metadata": {},
   "outputs": [
    {
     "name": "stdout",
     "output_type": "stream",
     "text": [
      "1 : <unk>\n",
      "2 : <start>\n",
      "3 : <end>\n",
      "4 : ,\n",
      "5 : i\n",
      "6 : the\n",
      "7 : you\n",
      "8 : and\n",
      "9 : a\n",
      "10 : to\n"
     ]
    }
   ],
   "source": [
    "#단어 사전 확인\n",
    "\n",
    "for idx in tokenizer.index_word:\n",
    "    print(idx, \":\", tokenizer.index_word[idx])\n",
    "\n",
    "    if idx >= 10: break"
   ]
  },
  {
   "cell_type": "code",
   "execution_count": 10,
   "id": "1691bb24",
   "metadata": {},
   "outputs": [
    {
     "name": "stdout",
     "output_type": "stream",
     "text": [
      "[  2   7 159  65 195   3   0   0   0   0   0   0   0   0]\n",
      "[  7 159  65 195   3   0   0   0   0   0   0   0   0   0]\n"
     ]
    }
   ],
   "source": [
    "src_input = tensor[:, :-1]  #행은 다 들어가고 열에서 마지막것만 제거\n",
    "# tensor에서 <start>를 잘라내서 타겟 문장을 생성합니다.\n",
    "tgt_input = tensor[:, 1:]   #행은 다 들어가고 열에서 첫번째것만 제거\n",
    "\n",
    "print(src_input[0])#마지막 열의 토큰만 없음(end)\n",
    "print(tgt_input[0])#첫번째 열의 토큰만 없음(start)"
   ]
  },
  {
   "cell_type": "markdown",
   "id": "5b9503a4",
   "metadata": {},
   "source": [
    "# 3. 평가 데이터셋 분리"
   ]
  },
  {
   "cell_type": "code",
   "execution_count": 11,
   "id": "8f64f3e9",
   "metadata": {},
   "outputs": [],
   "source": [
    "enc_train, enc_val, dec_train, dec_val = train_test_split(src_input, tgt_input, test_size=0.2, shuffle=True, random_state=1234)"
   ]
  },
  {
   "cell_type": "code",
   "execution_count": 12,
   "id": "1b4986b7",
   "metadata": {},
   "outputs": [],
   "source": [
    "BUFFER_SIZE = len(enc_train)\n",
    "BATCH_SIZE = 512\n",
    "steps_per_epoch = len(enc_train) // BATCH_SIZE\n",
    "\n",
    "VOCAB_SIZE = tokenizer.num_words + 1 #10000+ unk 1로 총 10001개의 사전 "
   ]
  },
  {
   "cell_type": "code",
   "execution_count": 13,
   "id": "e4c270b0",
   "metadata": {},
   "outputs": [],
   "source": [
    "#데이터셋 만들기\n",
    "\n",
    "train_dataset = tf.data.Dataset.from_tensor_slices((enc_train, dec_train)).shuffle(BUFFER_SIZE)\n",
    "train_dataset = train_dataset.batch(BATCH_SIZE, drop_remainder=True)\n",
    "\n",
    "val_dataset  = tf.data.Dataset.from_tensor_slices((enc_val, dec_val))\n",
    "val_dataset  = val_dataset.batch(BATCH_SIZE, drop_remainder=True)"
   ]
  },
  {
   "cell_type": "code",
   "execution_count": 14,
   "id": "16f5d2ff",
   "metadata": {},
   "outputs": [
    {
     "name": "stdout",
     "output_type": "stream",
     "text": [
      "Source Train: (134846, 14)\n",
      "Target Train: (134846, 14)\n"
     ]
    }
   ],
   "source": [
    "print(\"Source Train:\", enc_train.shape)\n",
    "print(\"Target Train:\", dec_train.shape)"
   ]
  },
  {
   "cell_type": "markdown",
   "id": "3474562a",
   "metadata": {},
   "source": [
    "# 4. 모델링"
   ]
  },
  {
   "cell_type": "code",
   "execution_count": 15,
   "id": "808a70c8",
   "metadata": {},
   "outputs": [],
   "source": [
    "class TextGenerator(tf.keras.Model):\n",
    "    def __init__(self, vocab_size, embedding_size, hidden_size):\n",
    "        super().__init__()\n",
    "        # Embedding 레이어, 2개의 LSTM 레이어, 1개의 Dense 레이어로 구성\n",
    "        self.embedding = tf.keras.layers.Embedding(vocab_size, embedding_size) \n",
    "        self.rnn_1 = tf.keras.layers.LSTM(hidden_size, return_sequences=True)\n",
    "        self.rnn_2 = tf.keras.layers.LSTM(hidden_size, return_sequences=True)\n",
    "        self.linear = tf.keras.layers.Dense(vocab_size)\n",
    "        \n",
    "    def call(self, x):\n",
    "        out = self.embedding(x)\n",
    "        out = self.rnn_1(out)\n",
    "        out = self.rnn_2(out)\n",
    "        out = self.linear(out)\n",
    "        \n",
    "        return out\n",
    "\n",
    "embedding_size =1024\n",
    "hidden_size = 2048\n",
    "model = TextGenerator(tokenizer.num_words + 1, embedding_size , hidden_size) # tokenizer.num_words에 +1인 이유는 문장에 없는 pad가 사용되었기 때문"
   ]
  },
  {
   "cell_type": "code",
   "execution_count": 16,
   "id": "43bac877",
   "metadata": {},
   "outputs": [
    {
     "data": {
      "text/plain": [
       "<tf.Tensor: shape=(512, 14, 12001), dtype=float32, numpy=\n",
       "array([[[ 5.0981366e-04,  2.9586579e-04, -2.4138368e-04, ...,\n",
       "         -1.2676860e-04, -5.2766118e-04, -1.5074124e-04],\n",
       "        [ 4.7207330e-05,  6.9492968e-04, -1.8736637e-04, ...,\n",
       "         -2.6227708e-04, -8.9079671e-04, -5.6201225e-04],\n",
       "        [-3.6083005e-04,  1.0014438e-03, -5.6520355e-04, ...,\n",
       "         -3.9616771e-04, -8.9518086e-04, -1.2011711e-03],\n",
       "        ...,\n",
       "        [ 1.3363869e-03, -3.8774556e-04,  2.7741288e-04, ...,\n",
       "         -1.9959873e-03, -1.6162307e-03, -1.8367515e-03],\n",
       "        [ 2.0307701e-03, -5.2778830e-04,  9.4975589e-04, ...,\n",
       "         -2.3666569e-03, -1.7837470e-03, -1.7243606e-03],\n",
       "        [ 2.6648783e-03, -5.1660329e-04,  1.6408662e-03, ...,\n",
       "         -2.7808286e-03, -1.9759783e-03, -1.6376951e-03]],\n",
       "\n",
       "       [[ 5.0981366e-04,  2.9586579e-04, -2.4138368e-04, ...,\n",
       "         -1.2676860e-04, -5.2766118e-04, -1.5074124e-04],\n",
       "        [ 1.0269537e-03,  1.7662288e-04, -4.0670243e-04, ...,\n",
       "         -3.0941493e-04, -6.4504863e-04, -1.4093274e-04],\n",
       "        [ 1.4821659e-03, -3.2052205e-05, -2.6417198e-04, ...,\n",
       "         -7.4064609e-04, -6.1456754e-04, -2.1239149e-04],\n",
       "        ...,\n",
       "        [ 2.1329569e-03, -6.4190693e-04,  1.0084683e-03, ...,\n",
       "         -1.2349761e-03, -2.6119349e-03, -8.3509390e-04],\n",
       "        [ 2.6777592e-03, -4.2671841e-04,  1.5826327e-03, ...,\n",
       "         -1.7267197e-03, -2.7526822e-03, -8.9181564e-04],\n",
       "        [ 3.1618425e-03, -1.6059513e-04,  2.1660628e-03, ...,\n",
       "         -2.2485333e-03, -2.8870562e-03, -9.8763779e-04]],\n",
       "\n",
       "       [[ 5.0981366e-04,  2.9586579e-04, -2.4138368e-04, ...,\n",
       "         -1.2676860e-04, -5.2766118e-04, -1.5074124e-04],\n",
       "        [ 6.1458017e-04, -3.8104467e-04, -2.9418821e-04, ...,\n",
       "         -6.9118483e-04, -6.3780713e-04, -1.6887483e-04],\n",
       "        [-2.0610919e-04, -6.6711579e-04, -1.9771614e-04, ...,\n",
       "         -5.9025385e-04, -8.4264093e-04,  4.3789233e-04],\n",
       "        ...,\n",
       "        [ 3.1101627e-03, -6.7418173e-04,  1.4909259e-04, ...,\n",
       "         -1.6259557e-03,  6.8749313e-04, -3.9930397e-04],\n",
       "        [ 3.4409743e-03, -6.3196837e-04,  7.1832351e-04, ...,\n",
       "         -1.9174373e-03,  2.1861737e-04, -5.1839318e-04],\n",
       "        [ 3.7372047e-03, -5.0390203e-04,  1.3513447e-03, ...,\n",
       "         -2.2860223e-03, -2.8750682e-04, -6.2855321e-04]],\n",
       "\n",
       "       ...,\n",
       "\n",
       "       [[ 5.0981366e-04,  2.9586579e-04, -2.4138368e-04, ...,\n",
       "         -1.2676860e-04, -5.2766118e-04, -1.5074124e-04],\n",
       "        [ 5.0571811e-04,  3.4581707e-04, -4.3676337e-04, ...,\n",
       "          5.1054906e-04, -6.9710618e-04, -9.4441282e-05],\n",
       "        [ 3.3463934e-04,  1.4164783e-04, -1.1491014e-03, ...,\n",
       "          7.1984204e-04, -3.8371363e-04,  2.1960681e-04],\n",
       "        ...,\n",
       "        [ 3.2793556e-03, -3.9217185e-04,  1.3146864e-03, ...,\n",
       "         -7.0026773e-04, -1.9460614e-03, -9.8089885e-04],\n",
       "        [ 3.7840926e-03, -1.9342368e-04,  1.9832931e-03, ...,\n",
       "         -1.4165699e-03, -2.1049676e-03, -1.1092995e-03],\n",
       "        [ 4.1943104e-03,  4.5749708e-05,  2.5867019e-03, ...,\n",
       "         -2.1125043e-03, -2.2788015e-03, -1.2558786e-03]],\n",
       "\n",
       "       [[ 5.0981366e-04,  2.9586579e-04, -2.4138368e-04, ...,\n",
       "         -1.2676860e-04, -5.2766118e-04, -1.5074124e-04],\n",
       "        [ 9.6270832e-04,  5.7778956e-04, -2.8317832e-04, ...,\n",
       "         -4.6532581e-04, -8.8349287e-04, -2.7830189e-04],\n",
       "        [ 9.3686261e-04,  7.6200027e-04, -3.9245418e-04, ...,\n",
       "         -4.9505342e-04, -1.1540117e-03, -6.9255481e-04],\n",
       "        ...,\n",
       "        [ 3.1567961e-03,  1.3039527e-04,  1.8025248e-03, ...,\n",
       "         -5.3947879e-04, -1.4697614e-03, -2.4714491e-03],\n",
       "        [ 3.4879206e-03,  2.4614975e-04,  2.3940690e-03, ...,\n",
       "         -1.1807497e-03, -1.6635804e-03, -2.3038231e-03],\n",
       "        [ 3.8005654e-03,  4.2028658e-04,  2.9520963e-03, ...,\n",
       "         -1.8311861e-03, -1.8659990e-03, -2.1908362e-03]],\n",
       "\n",
       "       [[ 5.0981366e-04,  2.9586579e-04, -2.4138368e-04, ...,\n",
       "         -1.2676860e-04, -5.2766118e-04, -1.5074124e-04],\n",
       "        [ 2.7857631e-04, -2.1852367e-04, -9.8514080e-04, ...,\n",
       "         -2.0704555e-04, -1.1724632e-03, -3.1406712e-04],\n",
       "        [ 2.4237906e-04, -3.1802661e-04, -1.1186455e-03, ...,\n",
       "          1.8531788e-05, -1.0101221e-03, -2.8306438e-04],\n",
       "        ...,\n",
       "        [ 1.9406241e-03,  4.0939526e-04,  8.8626443e-04, ...,\n",
       "         -1.5073497e-03, -1.5335452e-03, -1.7077706e-03],\n",
       "        [ 2.5420671e-03,  4.6219266e-04,  1.5553954e-03, ...,\n",
       "         -2.0766931e-03, -1.7665710e-03, -1.7231846e-03],\n",
       "        [ 3.0711920e-03,  5.9420947e-04,  2.1949015e-03, ...,\n",
       "         -2.6519541e-03, -2.0035396e-03, -1.7633492e-03]]], dtype=float32)>"
      ]
     },
     "execution_count": 16,
     "metadata": {},
     "output_type": "execute_result"
    }
   ],
   "source": [
    "for src_sample, tgt_sample in train_dataset.take(1): break\n",
    "model(src_sample)"
   ]
  },
  {
   "cell_type": "code",
   "execution_count": 17,
   "id": "1215b283",
   "metadata": {
    "scrolled": true
   },
   "outputs": [
    {
     "name": "stdout",
     "output_type": "stream",
     "text": [
      "Model: \"text_generator\"\n",
      "_________________________________________________________________\n",
      "Layer (type)                 Output Shape              Param #   \n",
      "=================================================================\n",
      "embedding (Embedding)        multiple                  12289024  \n",
      "_________________________________________________________________\n",
      "lstm (LSTM)                  multiple                  25174016  \n",
      "_________________________________________________________________\n",
      "lstm_1 (LSTM)                multiple                  33562624  \n",
      "_________________________________________________________________\n",
      "dense (Dense)                multiple                  24590049  \n",
      "=================================================================\n",
      "Total params: 95,615,713\n",
      "Trainable params: 95,615,713\n",
      "Non-trainable params: 0\n",
      "_________________________________________________________________\n"
     ]
    }
   ],
   "source": [
    "model.summary()"
   ]
  },
  {
   "cell_type": "code",
   "execution_count": 18,
   "id": "eb28d540",
   "metadata": {},
   "outputs": [
    {
     "name": "stdout",
     "output_type": "stream",
     "text": [
      "Epoch 1/10\n",
      "263/263 [==============================] - 276s 1s/step - loss: 3.5463 - val_loss: 3.1107\n",
      "Epoch 2/10\n",
      "263/263 [==============================] - 274s 1s/step - loss: 2.9408 - val_loss: 2.8622\n",
      "Epoch 3/10\n",
      "263/263 [==============================] - 274s 1s/step - loss: 2.6699 - val_loss: 2.6942\n",
      "Epoch 4/10\n",
      "263/263 [==============================] - 274s 1s/step - loss: 2.4165 - val_loss: 2.5625\n",
      "Epoch 5/10\n",
      "263/263 [==============================] - 274s 1s/step - loss: 2.1671 - val_loss: 2.4557\n",
      "Epoch 6/10\n",
      "263/263 [==============================] - 275s 1s/step - loss: 1.9230 - val_loss: 2.3695\n",
      "Epoch 7/10\n",
      "263/263 [==============================] - 275s 1s/step - loss: 1.6902 - val_loss: 2.3055\n",
      "Epoch 8/10\n",
      "263/263 [==============================] - 275s 1s/step - loss: 1.4810 - val_loss: 2.2653\n",
      "Epoch 9/10\n",
      "263/263 [==============================] - 275s 1s/step - loss: 1.3055 - val_loss: 2.2488\n",
      "Epoch 10/10\n",
      "263/263 [==============================] - 275s 1s/step - loss: 1.1703 - val_loss: 2.2495\n"
     ]
    }
   ],
   "source": [
    "optimizer = tf.keras.optimizers.Adam() # Adam은 현재 가장 많이 사용하는 옵티마이저\n",
    "loss = tf.keras.losses.SparseCategoricalCrossentropy( # 훈련 데이터의 라벨이 정수의 형태로 제공될 때 사용하는 손실함수\n",
    "    from_logits=True, # 기본값은 False이다. 모델에 의해 생성된 출력 값이 정규화되지 않았음을 손실 함수에 알려준다. 즉 softmax함수가 적용되지 않았다는걸 의미한다. \n",
    "    reduction='none'  # 기본값은 SUM이다. 각자 나오는 값의 반환 원할 때 None을 사용한다.\n",
    ")\n",
    "\n",
    "model.compile(loss=loss, optimizer=optimizer)\n",
    "history = model.fit(train_dataset, epochs=10, batch_size=512,\n",
    "          validation_data=val_dataset,validation_batch_size=512)"
   ]
  },
  {
   "cell_type": "code",
   "execution_count": 19,
   "id": "e0e13eb8",
   "metadata": {},
   "outputs": [],
   "source": [
    "#문장생성 함수 정의\n",
    "#모델에게 시작 문장을 전달하면 모델이 시작 문장을 바탕으로 작문을 진행\n",
    "def generate_text(model, tokenizer, init_sentence=\"<start>\", max_len=15): #시작 문자열을 init_sentence 로 받으며 디폴트값은 <start> 를 받는다\n",
    "    # 테스트를 위해서 입력받은 init_sentence도 텐서로 변환합니다\n",
    "    test_input = tokenizer.texts_to_sequences([init_sentence]) #텍스트 안의 단어들을 숫자의 시퀀스의 형태로 변환\n",
    "    test_tensor = tf.convert_to_tensor(test_input, dtype=tf.int64)\n",
    "    end_token = tokenizer.word_index[\"<end>\"]\n",
    "\n",
    "    # 단어 하나씩 예측해 문장을 만듭니다\n",
    "    #    1. 입력받은 문장의 텐서를 입력합니다\n",
    "    #    2. 예측된 값 중 가장 높은 확률인 word index를 뽑아냅니다\n",
    "    #    3. 2에서 예측된 word index를 문장 뒤에 붙입니다\n",
    "    #    4. 모델이 <end>를 예측했거나, max_len에 도달했다면 문장 생성을 마칩니다 (도달 하지 못하였으면 while 루프를 돌면서 다음 단어를 예측)\n",
    "    while True: #루프를 돌면서 init_sentence에 단어를 하나씩 생성성\n",
    "        # 1\n",
    "        predict = model(test_tensor) \n",
    "        # 2\n",
    "        predict_word = tf.argmax(tf.nn.softmax(predict, axis=-1), axis=-1)[:, -1] \n",
    "        # 3 \n",
    "        test_tensor = tf.concat([test_tensor, tf.expand_dims(predict_word, axis=0)], axis=-1)\n",
    "        # 4 \n",
    "        if predict_word.numpy()[0] == end_token: break\n",
    "        if test_tensor.shape[1] >= max_len: break\n",
    "\n",
    "    generated = \"\"\n",
    "    # tokenizer를 이용해 word index를 단어로 하나씩 변환합니다 \n",
    "    for word_index in test_tensor[0].numpy():\n",
    "        generated += tokenizer.index_word[word_index] + \" \"\n",
    "\n",
    "    return generated #최종적으로 모델이 생성한 문장을 반환"
   ]
  },
  {
   "cell_type": "code",
   "execution_count": 21,
   "id": "63b8b771",
   "metadata": {},
   "outputs": [
    {
     "data": {
      "text/plain": [
       "'<start> i m the worlds greatest i m that little bit of hope <end> '"
      ]
     },
     "execution_count": 21,
     "metadata": {},
     "output_type": "execute_result"
    }
   ],
   "source": [
    "generate_text(model, tokenizer, init_sentence=\"<start> i\")"
   ]
  },
  {
   "cell_type": "markdown",
   "id": "2e417d2e",
   "metadata": {},
   "source": [
    "- 번역 : 나는 세상에서 가장 작은 희망입니다"
   ]
  },
  {
   "cell_type": "code",
   "execution_count": 22,
   "id": "7427399e",
   "metadata": {},
   "outputs": [
    {
     "data": {
      "text/plain": [
       "'<start> we re gonna have a good time <end> '"
      ]
     },
     "execution_count": 22,
     "metadata": {},
     "output_type": "execute_result"
    }
   ],
   "source": [
    "generate_text(model, tokenizer, init_sentence=\"<start> we\")"
   ]
  },
  {
   "cell_type": "markdown",
   "id": "7b60abd7",
   "metadata": {},
   "source": [
    "- 번역 : 우리는 좋은 시간을 보낼 것입니다"
   ]
  },
  {
   "cell_type": "code",
   "execution_count": 26,
   "id": "3acb160c",
   "metadata": {},
   "outputs": [
    {
     "data": {
      "text/plain": [
       "'<start> love is a beautiful thing <end> '"
      ]
     },
     "execution_count": 26,
     "metadata": {},
     "output_type": "execute_result"
    }
   ],
   "source": [
    "generate_text(model, tokenizer, init_sentence=\"<start> love\")"
   ]
  },
  {
   "cell_type": "markdown",
   "id": "d82731db",
   "metadata": {},
   "source": [
    "- 번역 : 사랑은 아름다운 것입니다"
   ]
  },
  {
   "cell_type": "markdown",
   "id": "8800ded0",
   "metadata": {},
   "source": [
    "# 전체회고\n",
    "- 시도해본 방법\n",
    "1. layer 추가\n",
    "2. dropout 추가\n",
    "3. 하이퍼파라미터 변경\n",
    "4. 데이터 전처리\n",
    " - 사전 크기 변경\n",
    " - 중복된 노래 가사 제거\n",
    " - 15개 단어 이상이 존재하는 가사 제거\n",
    " - intro 등 불필요한 단어가 존재하는 가사 제거\n",
    " - model.fit 파라미터 추가\n",
    " - pad_sequences 패딩 위치 변경\n",
    " \n",
    "- 문장 생성 NLP는 처음 다뤄 보았음\n",
    "- 생각보다 loss 값이 안떨어져서 시간이 오래 걸렸음\n",
    "- loss값을 보면 결국 과적합이 된것으로 판단됨\n",
    "- 과적합을 방지하기위해 위에서 제시한 다양한 방법들과 이전 기수들것들을 참고하여 시도하였지만, 결국 2.2 이하로는 떨어뜨리지 못하였음\n",
    "- RNN이나 LSTM을 직접 만들어서 쓴것은 처음인데, 아직 부족한 점과 공부해야할 점이 많다고 생각됨"
   ]
  }
 ],
 "metadata": {
  "kernelspec": {
   "display_name": "Python 3 (ipykernel)",
   "language": "python",
   "name": "python3"
  },
  "language_info": {
   "codemirror_mode": {
    "name": "ipython",
    "version": 3
   },
   "file_extension": ".py",
   "mimetype": "text/x-python",
   "name": "python",
   "nbconvert_exporter": "python",
   "pygments_lexer": "ipython3",
   "version": "3.9.7"
  }
 },
 "nbformat": 4,
 "nbformat_minor": 5
}
