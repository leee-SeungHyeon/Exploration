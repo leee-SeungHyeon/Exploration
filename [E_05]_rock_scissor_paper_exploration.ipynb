{
 "cells": [
  {
   "cell_type": "markdown",
   "id": "8a349d10",
   "metadata": {},
   "source": [
    "# 평가 조건\n",
    "- 평가 문항\n",
    "1. 이미지 분류기 모델이 성공적으로 만들어졌는가?\n",
    " - 학습과정이 정상적으로 수행되었으며, 학습 결과에 대한 그래프를 시각화(ex. train acc / train loss / val acc / val loss 등) 해 보았음\n",
    "2. 오버피팅을 극복하기 위한 적절한 시도가 있었는가?\n",
    " - 오버피팅 극복을 위하여 데이터셋의 다양성, 정규화 등을 2가지 이상 시도해보았음\n",
    "3. 분류모델의 test accuracy가 기준 이상 높게 나왔는가?\n",
    " - 60% 이상 도달하였음"
   ]
  },
  {
   "cell_type": "markdown",
   "id": "306a4e22",
   "metadata": {},
   "source": [
    "# 모듈 임포트"
   ]
  },
  {
   "cell_type": "code",
   "execution_count": 1,
   "id": "4be199dc",
   "metadata": {},
   "outputs": [],
   "source": [
    "import tensorflow as tf\n",
    "from tensorflow import keras\n",
    "\n",
    "import numpy as np\n",
    "import matplotlib.pyplot as plt\n",
    "import os\n",
    "from PIL import Image\n",
    "import glob"
   ]
  },
  {
   "attachments": {
    "image-3.png": {
     "image/png": "[encoded data removed]"
    },
    "image-4.png": {
     "image/png": "[encoded data removed]"
    }
   },
   "cell_type": "markdown",
   "id": "7b3482e4",
   "metadata": {},
   "source": [
    "# 데이터 만들기\n",
    "- https://teachablemachine.withgoogle.com/ 여기에서 무료로 사진 만들수 있음\n",
    "- 디렉토리 만들기\n",
    "![image-3.png](attachment:image-3.png)\n",
    "- 사진 압축 해제\n",
    "![image-4.png](attachment:image-4.png)"
   ]
  },
  {
   "cell_type": "markdown",
   "id": "38315575",
   "metadata": {},
   "source": [
    "## 사진 28,28로 resize"
   ]
  },
  {
   "cell_type": "code",
   "execution_count": 2,
   "id": "e1fbc8bc",
   "metadata": {},
   "outputs": [],
   "source": [
    "def resize_images(img_path):\n",
    "\timages=glob.glob(img_path + \"/*.jpg\")  \n",
    "    \n",
    "\tprint(len(images), \" images to be resized.\")\n",
    "\n",
    "\ttarget_size=(28,28) #파일마다 모두 28x28 사이즈로 바꾸어 저장\n",
    "\tfor img in images:\n",
    "\t\told_img=Image.open(img)\n",
    "\t\tnew_img=old_img.resize(target_size,Image.ANTIALIAS)\n",
    "\t\tnew_img.save(img, \"JPEG\")\n",
    "    \n",
    "\tprint(len(images), \" images resized.\")"
   ]
  },
  {
   "cell_type": "code",
   "execution_count": 3,
   "id": "d301690b",
   "metadata": {},
   "outputs": [
    {
     "name": "stdout",
     "output_type": "stream",
     "text": [
      "100  images to be resized.\n",
      "100  images resized.\n",
      "가위 이미지 resize 완료\n"
     ]
    }
   ],
   "source": [
    "image_dir_path = os.getenv(\"HOME\") + \"/aiffel/rock_scissor_paper/scissor/lsh\"\n",
    "resize_images(image_dir_path)\n",
    "\n",
    "print(\"가위 이미지 resize 완료\")"
   ]
  },
  {
   "cell_type": "code",
   "execution_count": 4,
   "id": "6a63346c",
   "metadata": {},
   "outputs": [
    {
     "name": "stdout",
     "output_type": "stream",
     "text": [
      "100  images to be resized.\n",
      "100  images resized.\n",
      "바위 이미지 resize 완료\n"
     ]
    }
   ],
   "source": [
    "image_dir_path = os.getenv(\"HOME\") + \"/aiffel/rock_scissor_paper/rock/lsh\"\n",
    "resize_images(image_dir_path)\n",
    "\n",
    "print(\"바위 이미지 resize 완료\")"
   ]
  },
  {
   "cell_type": "code",
   "execution_count": 5,
   "id": "25fb7f71",
   "metadata": {},
   "outputs": [
    {
     "name": "stdout",
     "output_type": "stream",
     "text": [
      "100  images to be resized.\n",
      "100  images resized.\n",
      "보 이미지 resize 완료\n"
     ]
    }
   ],
   "source": [
    "image_dir_path = os.getenv(\"HOME\") + \"/aiffel/rock_scissor_paper/paper/lsh\"\n",
    "resize_images(image_dir_path)\n",
    "\n",
    "print(\"보 이미지 resize 완료\")"
   ]
  },
  {
   "cell_type": "markdown",
   "id": "7cefb480",
   "metadata": {},
   "source": [
    "## load_data 함수 만들기"
   ]
  },
  {
   "cell_type": "code",
   "execution_count": 6,
   "id": "8a015a15",
   "metadata": {},
   "outputs": [],
   "source": [
    "import numpy as np\n",
    "\n",
    "def load_data(img_path, number_of_data=300):#사진 총 합 넣기\n",
    "    # 가위 : 0, 바위 : 1, 보 : 2\n",
    "    img_size=28\n",
    "    color=3\n",
    "    #이미지 데이터와 라벨(가위 : 0, 바위 : 1, 보 : 2) 데이터를 담을 행렬(matrix) 영역을 생성\n",
    "    imgs=np.zeros(number_of_data*img_size*img_size*color,dtype=np.int32).reshape(number_of_data,img_size,img_size,color)\n",
    "    labels=np.zeros(number_of_data,dtype=np.int32)\n",
    "\n",
    "    idx=0\n",
    "    for file in glob.iglob(img_path+'/scissor/lsh/*.jpg'):\n",
    "        img = np.array(Image.open(file),dtype=np.int32)\n",
    "        imgs[idx,:,:,:]=img    # 데이터 영역에 이미지 행렬을 복사\n",
    "        labels[idx]=0   # 가위 : 0\n",
    "        idx=idx+1\n",
    "\n",
    "    for file in glob.iglob(img_path+'/rock/lsh/*.jpg'):\n",
    "        img = np.array(Image.open(file),dtype=np.int32)\n",
    "        imgs[idx,:,:,:]=img    # 데이터 영역에 이미지 행렬을 복사\n",
    "        labels[idx]=1   # 바위 : 1\n",
    "        idx=idx+1  \n",
    "    \n",
    "    for file in glob.iglob(img_path+'/paper/lsh/*.jpg'):\n",
    "        img = np.array(Image.open(file),dtype=np.int32)\n",
    "        imgs[idx,:,:,:]=img    # 데이터 영역에 이미지 행렬을 복사\n",
    "        labels[idx]=2   # 보 : 2\n",
    "        idx=idx+1\n",
    "        \n",
    "    print(\"학습데이터(x_train)의 이미지 개수는\", idx,\"입니다.\")\n",
    "    return imgs, labels"
   ]
  },
  {
   "cell_type": "code",
   "execution_count": 7,
   "id": "120bd546",
   "metadata": {},
   "outputs": [
    {
     "name": "stdout",
     "output_type": "stream",
     "text": [
      "학습데이터(x_train)의 이미지 개수는 300 입니다.\n",
      "x_train shape: (300, 28, 28, 3)\n",
      "y_train shape: (300,)\n"
     ]
    }
   ],
   "source": [
    "image_dir_path = os.getenv(\"HOME\") + \"/aiffel/rock_scissor_paper\"\n",
    "(x_train, y_train)=load_data(image_dir_path)\n",
    "x_train_norm = x_train/255.0   # 입력은 0~1 사이의 값으로 정규화\n",
    "\n",
    "print(\"x_train shape: {}\".format(x_train.shape))\n",
    "print(\"y_train shape: {}\".format(y_train.shape))"
   ]
  },
  {
   "cell_type": "markdown",
   "id": "004b5493",
   "metadata": {},
   "source": [
    "## 데이터 확인"
   ]
  },
  {
   "cell_type": "code",
   "execution_count": 8,
   "id": "7e44765c",
   "metadata": {},
   "outputs": [
    {
     "name": "stdout",
     "output_type": "stream",
     "text": [
      "라벨:  0\n"
     ]
    },
    {
     "data": {
      "image/png": "[encoded data removed]",
      "text/plain": [
       "<Figure size 432x288 with 1 Axes>"
      ]
     },
     "metadata": {
      "needs_background": "light"
     },
     "output_type": "display_data"
    }
   ],
   "source": [
    "plt.imshow(x_train[1])\n",
    "print('라벨: ', y_train[1])"
   ]
  },
  {
   "cell_type": "markdown",
   "id": "efa370b6",
   "metadata": {},
   "source": [
    "# 모델 만들기"
   ]
  },
  {
   "cell_type": "code",
   "execution_count": 9,
   "id": "7028d967",
   "metadata": {},
   "outputs": [
    {
     "name": "stdout",
     "output_type": "stream",
     "text": [
      "Model에 추가된 Layer 개수:  7\n"
     ]
    }
   ],
   "source": [
    "np.random.seed(1234)\n",
    "tf.random.set_seed(1234)\n",
    "\n",
    "model=keras.models.Sequential()\n",
    "model.add(keras.layers.Conv2D(16, (3,3), activation='relu', input_shape=(28,28,3)))\n",
    "model.add(keras.layers.MaxPool2D(2,2))\n",
    "model.add(keras.layers.Conv2D(32, (3,3), activation='relu'))\n",
    "model.add(keras.layers.MaxPooling2D((2,2)))\n",
    "model.add(keras.layers.Flatten())\n",
    "model.add(keras.layers.Dense(32, activation='relu'))\n",
    "model.add(keras.layers.Dense(3, activation='softmax'))\n",
    "\n",
    "print('Model에 추가된 Layer 개수: ', len(model.layers))"
   ]
  },
  {
   "cell_type": "code",
   "execution_count": 10,
   "id": "bba71372",
   "metadata": {},
   "outputs": [
    {
     "name": "stdout",
     "output_type": "stream",
     "text": [
      "Model: \"sequential\"\n",
      "_________________________________________________________________\n",
      "Layer (type)                 Output Shape              Param #   \n",
      "=================================================================\n",
      "conv2d (Conv2D)              (None, 26, 26, 16)        448       \n",
      "_________________________________________________________________\n",
      "max_pooling2d (MaxPooling2D) (None, 13, 13, 16)        0         \n",
      "_________________________________________________________________\n",
      "conv2d_1 (Conv2D)            (None, 11, 11, 32)        4640      \n",
      "_________________________________________________________________\n",
      "max_pooling2d_1 (MaxPooling2 (None, 5, 5, 32)          0         \n",
      "_________________________________________________________________\n",
      "flatten (Flatten)            (None, 800)               0         \n",
      "_________________________________________________________________\n",
      "dense (Dense)                (None, 32)                25632     \n",
      "_________________________________________________________________\n",
      "dense_1 (Dense)              (None, 3)                 99        \n",
      "=================================================================\n",
      "Total params: 30,819\n",
      "Trainable params: 30,819\n",
      "Non-trainable params: 0\n",
      "_________________________________________________________________\n"
     ]
    }
   ],
   "source": [
    "#딥러닝 모델 확인\n",
    "\n",
    "model.summary()"
   ]
  },
  {
   "cell_type": "markdown",
   "id": "8ddfb9f8",
   "metadata": {},
   "source": [
    "# 학습시키기"
   ]
  },
  {
   "cell_type": "code",
   "execution_count": 11,
   "id": "ef29a1cc",
   "metadata": {},
   "outputs": [
    {
     "name": "stdout",
     "output_type": "stream",
     "text": [
      "Epoch 1/10\n",
      "10/10 [==============================] - 3s 12ms/step - loss: 22.4532 - accuracy: 0.3033\n",
      "Epoch 2/10\n",
      "10/10 [==============================] - 0s 3ms/step - loss: 3.0118 - accuracy: 0.5500\n",
      "Epoch 3/10\n",
      "10/10 [==============================] - 0s 4ms/step - loss: 0.7277 - accuracy: 0.8333\n",
      "Epoch 4/10\n",
      "10/10 [==============================] - 0s 3ms/step - loss: 0.4449 - accuracy: 0.9033\n",
      "Epoch 5/10\n",
      "10/10 [==============================] - 0s 3ms/step - loss: 0.1578 - accuracy: 0.9500\n",
      "Epoch 6/10\n",
      "10/10 [==============================] - 0s 3ms/step - loss: 0.0102 - accuracy: 0.9967\n",
      "Epoch 7/10\n",
      "10/10 [==============================] - 0s 3ms/step - loss: 0.0037 - accuracy: 1.0000\n",
      "Epoch 8/10\n",
      "10/10 [==============================] - 0s 3ms/step - loss: 0.0017 - accuracy: 1.0000\n",
      "Epoch 9/10\n",
      "10/10 [==============================] - 0s 3ms/step - loss: 2.2999e-04 - accuracy: 1.0000\n",
      "Epoch 10/10\n",
      "10/10 [==============================] - 0s 3ms/step - loss: 1.2905e-04 - accuracy: 1.0000\n"
     ]
    },
    {
     "data": {
      "text/plain": [
       "<keras.callbacks.History at 0x7efe740b7310>"
      ]
     },
     "execution_count": 11,
     "metadata": {},
     "output_type": "execute_result"
    }
   ],
   "source": [
    "model.compile(optimizer='adam',\n",
    "             loss='sparse_categorical_crossentropy',\n",
    "             metrics=['accuracy'])\n",
    "\n",
    "model.fit(x_train, y_train, epochs=10)"
   ]
  },
  {
   "attachments": {
    "image.png": {
     "image/png": "[encoded data removed]"
    }
   },
   "cell_type": "markdown",
   "id": "05b941ce",
   "metadata": {},
   "source": [
    "## 평가데이터 셋 만들기\n",
    "- testset은 같이 교육을 듣는 다른 그루분의 사진으로 test 진행\n",
    "- trainset과 똑같이 알집 파일을 풀어줘야함\n",
    "![image.png](attachment:image.png)"
   ]
  },
  {
   "cell_type": "code",
   "execution_count": 12,
   "id": "05b427b4",
   "metadata": {},
   "outputs": [
    {
     "name": "stdout",
     "output_type": "stream",
     "text": [
      "100  images to be resized.\n",
      "100  images resized.\n",
      "테스트 가위 이미지 resize 완료\n"
     ]
    }
   ],
   "source": [
    "image_dir_path = os.getenv(\"HOME\") + \"/aiffel/rock_scissor_paper/test/scissor\"\n",
    "resize_images(image_dir_path)\n",
    "\n",
    "print(\"테스트 가위 이미지 resize 완료\")"
   ]
  },
  {
   "cell_type": "code",
   "execution_count": 13,
   "id": "79b018bb",
   "metadata": {},
   "outputs": [
    {
     "name": "stdout",
     "output_type": "stream",
     "text": [
      "100  images to be resized.\n",
      "100  images resized.\n",
      "테스트 바위 이미지 resize 완료\n"
     ]
    }
   ],
   "source": [
    "image_dir_path = os.getenv(\"HOME\") + \"/aiffel/rock_scissor_paper/test/rock\"\n",
    "resize_images(image_dir_path)\n",
    "\n",
    "print(\"테스트 바위 이미지 resize 완료\")"
   ]
  },
  {
   "cell_type": "code",
   "execution_count": 14,
   "id": "f0b5a7af",
   "metadata": {},
   "outputs": [
    {
     "name": "stdout",
     "output_type": "stream",
     "text": [
      "100  images to be resized.\n",
      "100  images resized.\n",
      "테스트 보 이미지 resize 완료\n"
     ]
    }
   ],
   "source": [
    "image_dir_path = os.getenv(\"HOME\") + \"/aiffel/rock_scissor_paper/test/paper\"\n",
    "resize_images(image_dir_path)\n",
    "\n",
    "print(\"테스트 보 이미지 resize 완료\")"
   ]
  },
  {
   "cell_type": "code",
   "execution_count": 15,
   "id": "f849b096",
   "metadata": {},
   "outputs": [],
   "source": [
    "import numpy as np\n",
    "\n",
    "def test_load_data(img_path, number_of_data=300):#사진 총 합 넣기\n",
    "    # 가위 : 0, 바위 : 1, 보 : 2\n",
    "    img_size=28\n",
    "    color=3\n",
    "    #이미지 데이터와 라벨(가위 : 0, 바위 : 1, 보 : 2) 데이터를 담을 행렬(matrix) 영역을 생성\n",
    "    imgs=np.zeros(number_of_data*img_size*img_size*color,dtype=np.int32).reshape(number_of_data,img_size,img_size,color)\n",
    "    labels=np.zeros(number_of_data,dtype=np.int32)\n",
    "\n",
    "    idx=0\n",
    "    for file in glob.iglob(img_path+'/scissor/*.jpg'):\n",
    "        img = np.array(Image.open(file),dtype=np.int32)\n",
    "        imgs[idx,:,:,:]=img    # 데이터 영역에 이미지 행렬을 복사\n",
    "        labels[idx]=0   # 가위 : 0\n",
    "        idx=idx+1\n",
    "\n",
    "    for file in glob.iglob(img_path+'/rock/*.jpg'):\n",
    "        img = np.array(Image.open(file),dtype=np.int32)\n",
    "        imgs[idx,:,:,:]=img    # 데이터 영역에 이미지 행렬을 복사\n",
    "        labels[idx]=1   # 바위 : 1\n",
    "        idx=idx+1  \n",
    "    \n",
    "    for file in glob.iglob(img_path+'/paper/*.jpg'):\n",
    "        img = np.array(Image.open(file),dtype=np.int32)\n",
    "        imgs[idx,:,:,:]=img    # 데이터 영역에 이미지 행렬을 복사\n",
    "        labels[idx]=2   # 보 : 2\n",
    "        idx=idx+1\n",
    "        \n",
    "    print(\"학습데이터(x_test)의 이미지 개수는\", idx,\"입니다.\")\n",
    "    return imgs, labels\n"
   ]
  },
  {
   "cell_type": "code",
   "execution_count": 16,
   "id": "b0b04301",
   "metadata": {},
   "outputs": [
    {
     "name": "stdout",
     "output_type": "stream",
     "text": [
      "학습데이터(x_test)의 이미지 개수는 300 입니다.\n",
      "x_test shape: (300, 28, 28, 3)\n",
      "y_test shape: (300,)\n"
     ]
    }
   ],
   "source": [
    "image_dir_path = os.getenv(\"HOME\") + \"/aiffel/rock_scissor_paper/test\"\n",
    "(x_test, y_test)=test_load_data(image_dir_path)\n",
    "x_test_norm = x_test/255.0   # 입력은 0~1 사이의 값으로 정규화\n",
    "\n",
    "print(\"x_test shape: {}\".format(x_test.shape))\n",
    "print(\"y_test shape: {}\".format(y_test.shape))"
   ]
  },
  {
   "cell_type": "markdown",
   "id": "b1bc83e1",
   "metadata": {},
   "source": [
    "# 모델 평가"
   ]
  },
  {
   "cell_type": "code",
   "execution_count": 17,
   "id": "0562b881",
   "metadata": {},
   "outputs": [
    {
     "name": "stdout",
     "output_type": "stream",
     "text": [
      "10/10 - 0s - loss: 8.3007 - accuracy: 0.3267\n",
      "test_loss: 8.300652503967285\n",
      "test_accuracy: 0.3266666531562805\n"
     ]
    }
   ],
   "source": [
    "test_loss, test_accuracy = model.evaluate(x_test,y_test, verbose=2)\n",
    "print(f\"test_loss: {test_loss}\")\n",
    "print(f\"test_accuracy: {test_accuracy}\")"
   ]
  },
  {
   "cell_type": "markdown",
   "id": "6b2e25f0",
   "metadata": {},
   "source": [
    "- 1차적인 베이스라인는 정확도가 약 0.32정도 나왔음"
   ]
  },
  {
   "cell_type": "markdown",
   "id": "e3f753d3",
   "metadata": {},
   "source": [
    "## 모델 추론값 확인"
   ]
  },
  {
   "cell_type": "code",
   "execution_count": 18,
   "id": "1bad17fe",
   "metadata": {},
   "outputs": [
    {
     "name": "stdout",
     "output_type": "stream",
     "text": [
      "model.predict() 결과 :  [9.9936646e-01 3.4025984e-09 6.3359656e-04]\n",
      "model이 추론한 가장 가능성이 높은 결과 :  0\n",
      "실제 데이터의 라벨 :  0\n"
     ]
    }
   ],
   "source": [
    "predicted_result = model.predict(x_test)  # model이 추론한 확률값. \n",
    "predicted_labels = np.argmax(predicted_result, axis=1)\n",
    "\n",
    "idx=0  #1번째 x_test를 살펴보자. \n",
    "print('model.predict() 결과 : ', predicted_result[idx])\n",
    "print('model이 추론한 가장 가능성이 높은 결과 : ', predicted_labels[idx])\n",
    "print('실제 데이터의 라벨 : ', y_test[idx])"
   ]
  },
  {
   "cell_type": "code",
   "execution_count": 19,
   "id": "6c54350d",
   "metadata": {},
   "outputs": [
    {
     "name": "stdout",
     "output_type": "stream",
     "text": [
      "예측확률분포: [3.8204327e-01 2.5285922e-09 6.1795670e-01]\n",
      "라벨: 1, 예측결과: 2\n"
     ]
    },
    {
     "data": {
      "image/png": "[encoded data removed]",
      "text/plain": [
       "<Figure size 432x288 with 1 Axes>"
      ]
     },
     "metadata": {
      "needs_background": "light"
     },
     "output_type": "display_data"
    },
    {
     "name": "stdout",
     "output_type": "stream",
     "text": [
      "예측확률분포: [2.1232261e-01 4.1344745e-09 7.8767735e-01]\n",
      "라벨: 1, 예측결과: 2\n"
     ]
    },
    {
     "data": {
      "image/png": "[encoded data removed]",
      "text/plain": [
       "<Figure size 432x288 with 1 Axes>"
      ]
     },
     "metadata": {
      "needs_background": "light"
     },
     "output_type": "display_data"
    },
    {
     "name": "stdout",
     "output_type": "stream",
     "text": [
      "예측확률분포: [8.5710269e-01 9.1478549e-09 1.4289732e-01]\n",
      "라벨: 1, 예측결과: 0\n"
     ]
    },
    {
     "data": {
      "image/png": "[encoded data removed]",
      "text/plain": [
       "<Figure size 432x288 with 1 Axes>"
      ]
     },
     "metadata": {
      "needs_background": "light"
     },
     "output_type": "display_data"
    },
    {
     "name": "stdout",
     "output_type": "stream",
     "text": [
      "예측확률분포: [9.4636965e-01 3.2436744e-11 5.3630367e-02]\n",
      "라벨: 2, 예측결과: 0\n"
     ]
    },
    {
     "data": {
      "image/png": "[encoded data removed]",
      "text/plain": [
       "<Figure size 432x288 with 1 Axes>"
      ]
     },
     "metadata": {
      "needs_background": "light"
     },
     "output_type": "display_data"
    },
    {
     "name": "stdout",
     "output_type": "stream",
     "text": [
      "예측확률분포: [2.4830982e-01 1.3608478e-10 7.5169015e-01]\n",
      "라벨: 0, 예측결과: 2\n"
     ]
    },
    {
     "data": {
      "image/png": "[encoded data removed]",
      "text/plain": [
       "<Figure size 432x288 with 1 Axes>"
      ]
     },
     "metadata": {
      "needs_background": "light"
     },
     "output_type": "display_data"
    }
   ],
   "source": [
    "import random\n",
    "wrong_predict_list=[]\n",
    "for i, _ in enumerate(predicted_labels):\n",
    "    # i번째 test_labels과 y_test이 다른 경우만 모아 봅시다. \n",
    "    if predicted_labels[i] != y_test[i]:\n",
    "        wrong_predict_list.append(i)\n",
    "\n",
    "# wrong_predict_list 에서 랜덤하게 5개만 뽑아봅시다.\n",
    "samples = random.choices(population=wrong_predict_list, k=5)\n",
    "\n",
    "for n in samples:\n",
    "    print(\"예측확률분포: \" + str(predicted_result[n]))\n",
    "    print(\"라벨: \" + str(y_test[n]) + \", 예측결과: \" + str(predicted_labels[n]))\n",
    "    plt.imshow(x_test[n], cmap=plt.cm.binary)\n",
    "    plt.show()\n",
    "    \n",
    "#0: 가위 / 1: 바위 / 2: 보"
   ]
  },
  {
   "cell_type": "markdown",
   "id": "4e5c99dc",
   "metadata": {},
   "source": [
    "- 예측 결과를 확인해본 결과, 사진이 흐릿해서 제대로 예측을 못하는 것인지 파악이 안됨\n",
    "- 또한 300개 데이터를 학습하였는데, 학습 당시의 accuracy를 보면 오버피팅이 되었음\n",
    "- 학습 데이터의 수를 사진의 위치를 90도 회전 시키거나, 180도 뒤집는 방법등으로 늘려주는 것도 괜찮을 것이라고 생각되며, 추가적으로 그루분들의 사진도 추가하는것도 방법이 될 수 있음\n",
    "- 그리고 모델 layer를 더 설계하는 방법도 존재하고, parameter값도 변경해줄 수 있음"
   ]
  },
  {
   "cell_type": "markdown",
   "id": "1a80d35b",
   "metadata": {},
   "source": [
    "## 성능을 향상시킬 수 있는 방법 정리\n",
    "1. 학습 데이터의 수를 늘린다.\n",
    " - 사진을 회전 및 뒤집기, 그루분들의 사진 추가 등\n",
    "2. 모델 layer를 추가로 구성한다.\n",
    "3. dropout 등의 방법 사용\n",
    "4. hyper parameter값들을 수정한다.\n",
    "5. 여러가지 방법 조합 시도"
   ]
  },
  {
   "cell_type": "markdown",
   "id": "a029b355",
   "metadata": {},
   "source": [
    "## 1. 학습 데이터의 수를 늘린다.\n",
    " - 사진을 회전 및 뒤집기, 그루 사진 추가\n",
    " - https://hipolarbear.tistory.com/19 참고"
   ]
  },
  {
   "cell_type": "code",
   "execution_count": 20,
   "id": "53a6bf4c",
   "metadata": {},
   "outputs": [],
   "source": [
    "import re\n",
    "\n",
    "def Augmentation_images(img_path):\n",
    "    images=glob.glob(img_path + \"/*.jpg\")\n",
    "    new_path = img_path\n",
    "    print(len(images), \" images to be resized.\")\n",
    "    \n",
    "    target_size=(28,28) #파일마다 모두 28x28 사이즈로 바꾸어 저장\n",
    "    for img in images:\n",
    "        old_img=Image.open(img)\n",
    "        new_img=old_img.resize(target_size,Image.ANTIALIAS)\n",
    "        new_img.save(img, \"JPEG\")\n",
    "    \n",
    "    for img in images: #이미지 좌우 반전\n",
    "        old_img=Image.open(img)\n",
    "        LEFT_RIGHT_new_img = old_img.transpose(Image.FLIP_LEFT_RIGHT)\n",
    "        numbers = re.sub(r'[^0-9]', '', img)\n",
    "        LEFT_RIGHT_new_img.save(new_path+'/'+numbers+'_LEFT_RIGHT.jpg',\"JPEG\")\n",
    "    \n",
    "    print('이미지 좌우 반전 완료')\n",
    "    \n",
    "    for img in images: #이미지 상하 반전\n",
    "        old_img=Image.open(img)\n",
    "        TOP_BOTTOM_new_img = old_img.transpose(Image.FLIP_TOP_BOTTOM)\n",
    "        numbers = re.sub(r'[^0-9]', '', img)\n",
    "        TOP_BOTTOM_new_img.save(new_path+'/'+numbers+'_TOP_BOTTOM.jpg',\"JPEG\")\n",
    "\n",
    "    print('이미지 상하 반전 완료')\n",
    "    \n",
    "    new_images=glob.glob(img_path + \"/*.jpg\")\n",
    "    print(len(new_images), \" images Augmentation.\")"
   ]
  },
  {
   "cell_type": "code",
   "execution_count": 21,
   "id": "aacbed9b",
   "metadata": {},
   "outputs": [
    {
     "name": "stdout",
     "output_type": "stream",
     "text": [
      "100  images to be resized.\n",
      "이미지 좌우 반전 완료\n",
      "이미지 상하 반전 완료\n",
      "300  images Augmentation.\n",
      "가위 이미지 Augmentation 완료\n"
     ]
    }
   ],
   "source": [
    "image_dir_path = os.getenv(\"HOME\") + \"/aiffel/rock_scissor_paper/scissor/lsh\"\n",
    "Augmentation_images(image_dir_path)\n",
    "\n",
    "print(\"가위 이미지 Augmentation 완료\")"
   ]
  },
  {
   "cell_type": "code",
   "execution_count": 22,
   "id": "f083d203",
   "metadata": {},
   "outputs": [
    {
     "name": "stdout",
     "output_type": "stream",
     "text": [
      "100  images to be resized.\n",
      "이미지 좌우 반전 완료\n",
      "이미지 상하 반전 완료\n",
      "300  images Augmentation.\n",
      "바위 이미지 Augmentation 완료\n"
     ]
    }
   ],
   "source": [
    "image_dir_path = os.getenv(\"HOME\") + \"/aiffel/rock_scissor_paper/rock/lsh\"\n",
    "Augmentation_images(image_dir_path)\n",
    "\n",
    "print(\"바위 이미지 Augmentation 완료\")"
   ]
  },
  {
   "cell_type": "code",
   "execution_count": 23,
   "id": "146ee058",
   "metadata": {},
   "outputs": [
    {
     "name": "stdout",
     "output_type": "stream",
     "text": [
      "100  images to be resized.\n",
      "이미지 좌우 반전 완료\n",
      "이미지 상하 반전 완료\n",
      "300  images Augmentation.\n",
      "보 이미지 Augmentation 완료\n"
     ]
    }
   ],
   "source": [
    "image_dir_path = os.getenv(\"HOME\") + \"/aiffel/rock_scissor_paper/paper/lsh\"\n",
    "Augmentation_images(image_dir_path)\n",
    "\n",
    "print(\"보 이미지 Augmentation 완료\")"
   ]
  },
  {
   "cell_type": "code",
   "execution_count": 24,
   "id": "5fd26c60",
   "metadata": {},
   "outputs": [
    {
     "name": "stdout",
     "output_type": "stream",
     "text": [
      "100  images to be resized.\n",
      "이미지 좌우 반전 완료\n",
      "이미지 상하 반전 완료\n",
      "300  images Augmentation.\n",
      "가위 이미지 Augmentation 완료\n"
     ]
    }
   ],
   "source": [
    "image_dir_path = os.getenv(\"HOME\") + \"/aiffel/rock_scissor_paper/scissor/llsh\"\n",
    "Augmentation_images(image_dir_path)\n",
    "\n",
    "print(\"가위 이미지 Augmentation 완료\")"
   ]
  },
  {
   "cell_type": "code",
   "execution_count": 25,
   "id": "716977f2",
   "metadata": {},
   "outputs": [
    {
     "name": "stdout",
     "output_type": "stream",
     "text": [
      "100  images to be resized.\n",
      "이미지 좌우 반전 완료\n",
      "이미지 상하 반전 완료\n",
      "300  images Augmentation.\n",
      "바위 이미지 Augmentation 완료\n"
     ]
    }
   ],
   "source": [
    "image_dir_path = os.getenv(\"HOME\") + \"/aiffel/rock_scissor_paper/rock/llsh\"\n",
    "Augmentation_images(image_dir_path)\n",
    "\n",
    "print(\"바위 이미지 Augmentation 완료\")"
   ]
  },
  {
   "cell_type": "code",
   "execution_count": 26,
   "id": "217a3884",
   "metadata": {},
   "outputs": [
    {
     "name": "stdout",
     "output_type": "stream",
     "text": [
      "100  images to be resized.\n",
      "이미지 좌우 반전 완료\n",
      "이미지 상하 반전 완료\n",
      "300  images Augmentation.\n",
      "보 이미지 Augmentation 완료\n"
     ]
    }
   ],
   "source": [
    "image_dir_path = os.getenv(\"HOME\") + \"/aiffel/rock_scissor_paper/paper/llsh\"\n",
    "Augmentation_images(image_dir_path)\n",
    "\n",
    "print(\"보 이미지 Augmentation 완료\")"
   ]
  },
  {
   "cell_type": "code",
   "execution_count": 27,
   "id": "83172e47",
   "metadata": {},
   "outputs": [
    {
     "name": "stdout",
     "output_type": "stream",
     "text": [
      "100  images to be resized.\n",
      "이미지 좌우 반전 완료\n",
      "이미지 상하 반전 완료\n",
      "300  images Augmentation.\n",
      "가위 이미지 Augmentation 완료\n"
     ]
    }
   ],
   "source": [
    "image_dir_path = os.getenv(\"HOME\") + \"/aiffel/rock_scissor_paper/scissor/psw\"\n",
    "Augmentation_images(image_dir_path)\n",
    "\n",
    "print(\"가위 이미지 Augmentation 완료\")"
   ]
  },
  {
   "cell_type": "code",
   "execution_count": 28,
   "id": "19cc7599",
   "metadata": {},
   "outputs": [
    {
     "name": "stdout",
     "output_type": "stream",
     "text": [
      "100  images to be resized.\n",
      "이미지 좌우 반전 완료\n",
      "이미지 상하 반전 완료\n",
      "300  images Augmentation.\n",
      "바위 이미지 Augmentation 완료\n"
     ]
    }
   ],
   "source": [
    "image_dir_path = os.getenv(\"HOME\") + \"/aiffel/rock_scissor_paper/rock/psw\"\n",
    "Augmentation_images(image_dir_path)\n",
    "\n",
    "print(\"바위 이미지 Augmentation 완료\")"
   ]
  },
  {
   "cell_type": "code",
   "execution_count": 29,
   "id": "ec0a1f4f",
   "metadata": {},
   "outputs": [
    {
     "name": "stdout",
     "output_type": "stream",
     "text": [
      "100  images to be resized.\n",
      "이미지 좌우 반전 완료\n",
      "이미지 상하 반전 완료\n",
      "300  images Augmentation.\n",
      "보 이미지 Augmentation 완료\n"
     ]
    }
   ],
   "source": [
    "image_dir_path = os.getenv(\"HOME\") + \"/aiffel/rock_scissor_paper/paper/psw\"\n",
    "Augmentation_images(image_dir_path)\n",
    "\n",
    "print(\"보 이미지 Augmentation 완료\")"
   ]
  },
  {
   "cell_type": "markdown",
   "id": "daa9aa3a",
   "metadata": {},
   "source": [
    "### load_data 함수 만들기"
   ]
  },
  {
   "cell_type": "code",
   "execution_count": 30,
   "id": "8f94a7ef",
   "metadata": {},
   "outputs": [],
   "source": [
    "import numpy as np\n",
    "\n",
    "def ag_load_data(img_path, number_of_data=900):#사진 총 합 넣기\n",
    "    # 가위 : 0, 바위 : 1, 보 : 2\n",
    "    img_size=28\n",
    "    color=3\n",
    "    #이미지 데이터와 라벨(가위 : 0, 바위 : 1, 보 : 2) 데이터를 담을 행렬(matrix) 영역을 생성\n",
    "    imgs=np.zeros(number_of_data*img_size*img_size*color,dtype=np.int32).reshape(number_of_data,img_size,img_size,color)\n",
    "    labels=np.zeros(number_of_data,dtype=np.int32)\n",
    "\n",
    "    idx=0\n",
    "    for file in glob.iglob(img_path+'/scissor/lsh/*.jpg'):\n",
    "        img = np.array(Image.open(file),dtype=np.int32)\n",
    "        imgs[idx,:,:,:]=img    # 데이터 영역에 이미지 행렬을 복사\n",
    "        labels[idx]=0   # 가위 : 0\n",
    "        idx=idx+1\n",
    "\n",
    "    for file in glob.iglob(img_path+'/rock/lsh/*.jpg'):\n",
    "        img = np.array(Image.open(file),dtype=np.int32)\n",
    "        imgs[idx,:,:,:]=img    # 데이터 영역에 이미지 행렬을 복사\n",
    "        labels[idx]=1   # 바위 : 1\n",
    "        idx=idx+1  \n",
    "    \n",
    "    for file in glob.iglob(img_path+'/paper/lsh/*.jpg'):\n",
    "        img = np.array(Image.open(file),dtype=np.int32)\n",
    "        imgs[idx,:,:,:]=img    # 데이터 영역에 이미지 행렬을 복사\n",
    "        labels[idx]=2   # 보 : 2\n",
    "        idx=idx+1\n",
    "        \n",
    "    print(\"학습데이터(x_train)의 이미지 개수는\", idx,\"입니다.\")\n",
    "    return imgs, labels"
   ]
  },
  {
   "cell_type": "code",
   "execution_count": 31,
   "id": "05337ebb",
   "metadata": {},
   "outputs": [
    {
     "name": "stdout",
     "output_type": "stream",
     "text": [
      "학습데이터(x_train)의 이미지 개수는 900 입니다.\n",
      "x_train shape: (900, 28, 28, 3)\n",
      "y_train shape: (900,)\n"
     ]
    }
   ],
   "source": [
    "image_dir_path = os.getenv(\"HOME\") + \"/aiffel/rock_scissor_paper\"\n",
    "(x_train1, y_train1)=ag_load_data(image_dir_path)\n",
    "x_train_norm = x_train/255.0   # 입력은 0~1 사이의 값으로 정규화\n",
    "\n",
    "print(\"x_train shape: {}\".format(x_train1.shape))\n",
    "print(\"y_train shape: {}\".format(y_train1.shape))"
   ]
  },
  {
   "cell_type": "code",
   "execution_count": 34,
   "id": "f0ab8770",
   "metadata": {},
   "outputs": [],
   "source": [
    "import numpy as np\n",
    "\n",
    "def ag_load_data(img_path, number_of_data=900):#사진 총 합 넣기\n",
    "    # 가위 : 0, 바위 : 1, 보 : 2\n",
    "    img_size=28\n",
    "    color=3\n",
    "    #이미지 데이터와 라벨(가위 : 0, 바위 : 1, 보 : 2) 데이터를 담을 행렬(matrix) 영역을 생성\n",
    "    imgs=np.zeros(number_of_data*img_size*img_size*color,dtype=np.int32).reshape(number_of_data,img_size,img_size,color)\n",
    "    labels=np.zeros(number_of_data,dtype=np.int32)\n",
    "\n",
    "    idx=0\n",
    "    for file in glob.iglob(img_path+'/scissor/llsh/*.jpg'):\n",
    "        img = np.array(Image.open(file),dtype=np.int32)\n",
    "        imgs[idx,:,:,:]=img    # 데이터 영역에 이미지 행렬을 복사\n",
    "        labels[idx]=0   # 가위 : 0\n",
    "        idx=idx+1\n",
    "\n",
    "    for file in glob.iglob(img_path+'/rock/llsh/*.jpg'):\n",
    "        img = np.array(Image.open(file),dtype=np.int32)\n",
    "        imgs[idx,:,:,:]=img    # 데이터 영역에 이미지 행렬을 복사\n",
    "        labels[idx]=1   # 바위 : 1\n",
    "        idx=idx+1  \n",
    "    \n",
    "    for file in glob.iglob(img_path+'/paper/llsh/*.jpg'):\n",
    "        img = np.array(Image.open(file),dtype=np.int32)\n",
    "        imgs[idx,:,:,:]=img    # 데이터 영역에 이미지 행렬을 복사\n",
    "        labels[idx]=2   # 보 : 2\n",
    "        idx=idx+1\n",
    "        \n",
    "    print(\"학습데이터(x_train)의 이미지 개수는\", idx,\"입니다.\")\n",
    "    return imgs, labels"
   ]
  },
  {
   "cell_type": "code",
   "execution_count": 35,
   "id": "4075f2a6",
   "metadata": {},
   "outputs": [
    {
     "name": "stdout",
     "output_type": "stream",
     "text": [
      "학습데이터(x_train)의 이미지 개수는 900 입니다.\n",
      "x_train shape: (900, 28, 28, 3)\n",
      "y_train shape: (900,)\n"
     ]
    }
   ],
   "source": [
    "image_dir_path = os.getenv(\"HOME\") + \"/aiffel/rock_scissor_paper\"\n",
    "(x_train2, y_train2)=ag_load_data(image_dir_path)\n",
    "x_train_norm = x_train/255.0   # 입력은 0~1 사이의 값으로 정규화\n",
    "\n",
    "print(\"x_train shape: {}\".format(x_train2.shape))\n",
    "print(\"y_train shape: {}\".format(y_train2.shape))"
   ]
  },
  {
   "cell_type": "code",
   "execution_count": 37,
   "id": "4f2fd905",
   "metadata": {},
   "outputs": [],
   "source": [
    "import numpy as np\n",
    "\n",
    "def ag_load_data(img_path, number_of_data=900):#사진 총 합 넣기\n",
    "    # 가위 : 0, 바위 : 1, 보 : 2\n",
    "    img_size=28\n",
    "    color=3\n",
    "    #이미지 데이터와 라벨(가위 : 0, 바위 : 1, 보 : 2) 데이터를 담을 행렬(matrix) 영역을 생성\n",
    "    imgs=np.zeros(number_of_data*img_size*img_size*color,dtype=np.int32).reshape(number_of_data,img_size,img_size,color)\n",
    "    labels=np.zeros(number_of_data,dtype=np.int32)\n",
    "\n",
    "    idx=0\n",
    "    for file in glob.iglob(img_path+'/scissor/psw/*.jpg'):\n",
    "        img = np.array(Image.open(file),dtype=np.int32)\n",
    "        imgs[idx,:,:,:]=img    # 데이터 영역에 이미지 행렬을 복사\n",
    "        labels[idx]=0   # 가위 : 0\n",
    "        idx=idx+1\n",
    "\n",
    "    for file in glob.iglob(img_path+'/rock/psw/*.jpg'):\n",
    "        img = np.array(Image.open(file),dtype=np.int32)\n",
    "        imgs[idx,:,:,:]=img    # 데이터 영역에 이미지 행렬을 복사\n",
    "        labels[idx]=1   # 바위 : 1\n",
    "        idx=idx+1  \n",
    "    \n",
    "    for file in glob.iglob(img_path+'/paper/psw/*.jpg'):\n",
    "        img = np.array(Image.open(file),dtype=np.int32)\n",
    "        imgs[idx,:,:,:]=img    # 데이터 영역에 이미지 행렬을 복사\n",
    "        labels[idx]=2   # 보 : 2\n",
    "        idx=idx+1\n",
    "        \n",
    "    print(\"학습데이터(x_train)의 이미지 개수는\", idx,\"입니다.\")\n",
    "    return imgs, labels"
   ]
  },
  {
   "cell_type": "code",
   "execution_count": 38,
   "id": "88587477",
   "metadata": {},
   "outputs": [
    {
     "name": "stdout",
     "output_type": "stream",
     "text": [
      "학습데이터(x_train)의 이미지 개수는 900 입니다.\n",
      "x_train shape: (900, 28, 28, 3)\n",
      "y_train shape: (900,)\n"
     ]
    }
   ],
   "source": [
    "image_dir_path = os.getenv(\"HOME\") + \"/aiffel/rock_scissor_paper\"\n",
    "(x_train3, y_train3)=ag_load_data(image_dir_path)\n",
    "x_train_norm = x_train/255.0   # 입력은 0~1 사이의 값으로 정규화\n",
    "\n",
    "print(\"x_train shape: {}\".format(x_train3.shape))\n",
    "print(\"y_train shape: {}\".format(y_train3.shape))"
   ]
  },
  {
   "cell_type": "markdown",
   "id": "c3090f56",
   "metadata": {},
   "source": [
    "### 데이터 합치기"
   ]
  },
  {
   "cell_type": "code",
   "execution_count": 40,
   "id": "e4c832ea",
   "metadata": {},
   "outputs": [],
   "source": [
    "ag_x_train = np.concatenate([x_train1, x_train2, x_train3], 0)\n",
    "ag_y_train = np.concatenate([y_train1, y_train2, y_train3], 0)"
   ]
  },
  {
   "cell_type": "code",
   "execution_count": 41,
   "id": "e184239b",
   "metadata": {},
   "outputs": [
    {
     "name": "stdout",
     "output_type": "stream",
     "text": [
      "ag_x_train shape: (2700, 28, 28, 3)\n",
      "ag_y_train shape: (2700,)\n"
     ]
    }
   ],
   "source": [
    "print(\"ag_x_train shape: {}\".format(ag_x_train.shape))\n",
    "print(\"ag_y_train shape: {}\".format(ag_y_train.shape))"
   ]
  },
  {
   "cell_type": "markdown",
   "id": "5be719d3",
   "metadata": {},
   "source": [
    "### 모델 학습"
   ]
  },
  {
   "cell_type": "code",
   "execution_count": 44,
   "id": "435df4bf",
   "metadata": {},
   "outputs": [
    {
     "name": "stdout",
     "output_type": "stream",
     "text": [
      "Model에 추가된 Layer 개수:  7\n"
     ]
    }
   ],
   "source": [
    "np.random.seed(1234)\n",
    "tf.random.set_seed(1234)\n",
    "\n",
    "model=keras.models.Sequential()\n",
    "model.add(keras.layers.Conv2D(16, (3,3), activation='relu', input_shape=(28,28,3)))\n",
    "model.add(keras.layers.MaxPool2D(2,2))\n",
    "model.add(keras.layers.Conv2D(32, (3,3), activation='relu'))\n",
    "model.add(keras.layers.MaxPooling2D((2,2)))\n",
    "model.add(keras.layers.Flatten())\n",
    "model.add(keras.layers.Dense(32, activation='relu'))\n",
    "model.add(keras.layers.Dense(3, activation='softmax'))\n",
    "\n",
    "print('Model에 추가된 Layer 개수: ', len(model.layers))"
   ]
  },
  {
   "cell_type": "code",
   "execution_count": 45,
   "id": "6cfaa866",
   "metadata": {},
   "outputs": [
    {
     "name": "stdout",
     "output_type": "stream",
     "text": [
      "Epoch 1/10\n",
      "85/85 [==============================] - 1s 3ms/step - loss: 4.6311 - accuracy: 0.4856\n",
      "Epoch 2/10\n",
      "85/85 [==============================] - 0s 3ms/step - loss: 0.6358 - accuracy: 0.7415\n",
      "Epoch 3/10\n",
      "85/85 [==============================] - 0s 3ms/step - loss: 0.3193 - accuracy: 0.8796\n",
      "Epoch 4/10\n",
      "85/85 [==============================] - 0s 3ms/step - loss: 0.2004 - accuracy: 0.9285\n",
      "Epoch 5/10\n",
      "85/85 [==============================] - 0s 3ms/step - loss: 0.1105 - accuracy: 0.9633\n",
      "Epoch 6/10\n",
      "85/85 [==============================] - 0s 3ms/step - loss: 0.0676 - accuracy: 0.9778\n",
      "Epoch 7/10\n",
      "85/85 [==============================] - 0s 3ms/step - loss: 0.0351 - accuracy: 0.9893\n",
      "Epoch 8/10\n",
      "85/85 [==============================] - 0s 3ms/step - loss: 0.0317 - accuracy: 0.9907\n",
      "Epoch 9/10\n",
      "85/85 [==============================] - 0s 3ms/step - loss: 0.0275 - accuracy: 0.9904\n",
      "Epoch 10/10\n",
      "85/85 [==============================] - 0s 3ms/step - loss: 0.0134 - accuracy: 0.9978\n"
     ]
    },
    {
     "data": {
      "text/plain": [
       "<keras.callbacks.History at 0x7efe8099a520>"
      ]
     },
     "execution_count": 45,
     "metadata": {},
     "output_type": "execute_result"
    }
   ],
   "source": [
    "model.compile(optimizer='adam',\n",
    "             loss='sparse_categorical_crossentropy',\n",
    "             metrics=['accuracy'])\n",
    "\n",
    "model.fit(ag_x_train, ag_y_train, epochs=10)"
   ]
  },
  {
   "cell_type": "markdown",
   "id": "97fb2fd4",
   "metadata": {},
   "source": [
    "### 모델 평가"
   ]
  },
  {
   "cell_type": "code",
   "execution_count": 46,
   "id": "dec4289e",
   "metadata": {},
   "outputs": [
    {
     "name": "stdout",
     "output_type": "stream",
     "text": [
      "10/10 - 0s - loss: 0.8487 - accuracy: 0.6200\n",
      "test_loss: 0.8486971259117126\n",
      "test_accuracy: 0.6200000047683716\n"
     ]
    }
   ],
   "source": [
    "test_loss, test_accuracy = model.evaluate(x_test,y_test, verbose=2)\n",
    "print(f\"test_loss: {test_loss}\")\n",
    "print(f\"test_accuracy: {test_accuracy}\")"
   ]
  },
  {
   "cell_type": "markdown",
   "id": "3e48ca08",
   "metadata": {},
   "source": [
    "## 2. 모델 layer를 추가로 구성한다."
   ]
  },
  {
   "cell_type": "code",
   "execution_count": 56,
   "id": "f4d95c1b",
   "metadata": {},
   "outputs": [
    {
     "name": "stdout",
     "output_type": "stream",
     "text": [
      "Model에 추가된 Layer 개수:  9\n"
     ]
    }
   ],
   "source": [
    "np.random.seed(1234)\n",
    "tf.random.set_seed(1234)\n",
    "\n",
    "model=keras.models.Sequential()\n",
    "model.add(keras.layers.Conv2D(16, (3,3), activation='relu', input_shape=(28,28,3)))\n",
    "model.add(keras.layers.MaxPool2D(2,2))\n",
    "model.add(keras.layers.Conv2D(32, (3,3), activation='relu'))\n",
    "model.add(keras.layers.MaxPooling2D((2,2)))\n",
    "model.add(keras.layers.Conv2D(64, (3,3), activation='relu'))\n",
    "model.add(keras.layers.MaxPooling2D((2,2)))\n",
    "model.add(keras.layers.Flatten())\n",
    "model.add(keras.layers.Dense(32, activation='relu'))\n",
    "model.add(keras.layers.Dense(3, activation='softmax'))\n",
    "\n",
    "print('Model에 추가된 Layer 개수: ', len(model.layers))"
   ]
  },
  {
   "cell_type": "code",
   "execution_count": 57,
   "id": "6bb2beb8",
   "metadata": {},
   "outputs": [
    {
     "name": "stdout",
     "output_type": "stream",
     "text": [
      "Epoch 1/10\n",
      "85/85 [==============================] - 1s 4ms/step - loss: 1.7308 - accuracy: 0.5152\n",
      "Epoch 2/10\n",
      "85/85 [==============================] - 0s 4ms/step - loss: 0.5485 - accuracy: 0.7656\n",
      "Epoch 3/10\n",
      "85/85 [==============================] - 0s 4ms/step - loss: 0.2889 - accuracy: 0.8952\n",
      "Epoch 4/10\n",
      "85/85 [==============================] - 0s 4ms/step - loss: 0.1686 - accuracy: 0.9437\n",
      "Epoch 5/10\n",
      "85/85 [==============================] - 0s 4ms/step - loss: 0.1255 - accuracy: 0.9622\n",
      "Epoch 6/10\n",
      "85/85 [==============================] - 0s 4ms/step - loss: 0.0742 - accuracy: 0.9819\n",
      "Epoch 7/10\n",
      "85/85 [==============================] - 0s 4ms/step - loss: 0.0703 - accuracy: 0.9815\n",
      "Epoch 8/10\n",
      "85/85 [==============================] - 0s 4ms/step - loss: 0.0417 - accuracy: 0.9889\n",
      "Epoch 9/10\n",
      "85/85 [==============================] - 0s 4ms/step - loss: 0.0562 - accuracy: 0.9826\n",
      "Epoch 10/10\n",
      "85/85 [==============================] - 0s 4ms/step - loss: 0.0199 - accuracy: 0.9967\n"
     ]
    },
    {
     "data": {
      "text/plain": [
       "<keras.callbacks.History at 0x7efe805d1b50>"
      ]
     },
     "execution_count": 57,
     "metadata": {},
     "output_type": "execute_result"
    }
   ],
   "source": [
    "model.compile(optimizer='adam',\n",
    "             loss='sparse_categorical_crossentropy',\n",
    "             metrics=['accuracy'])\n",
    "\n",
    "model.fit(ag_x_train, ag_y_train, epochs=10)"
   ]
  },
  {
   "cell_type": "code",
   "execution_count": 58,
   "id": "6ff1afae",
   "metadata": {},
   "outputs": [
    {
     "name": "stdout",
     "output_type": "stream",
     "text": [
      "10/10 - 0s - loss: 0.7917 - accuracy: 0.6333\n",
      "test_loss: 0.7917166352272034\n",
      "test_accuracy: 0.6333333253860474\n"
     ]
    }
   ],
   "source": [
    "test_loss, test_accuracy = model.evaluate(x_test,y_test, verbose=2)\n",
    "print(f\"test_loss: {test_loss}\")\n",
    "print(f\"test_accuracy: {test_accuracy}\")"
   ]
  },
  {
   "cell_type": "markdown",
   "id": "8830b387",
   "metadata": {},
   "source": [
    "## 3. dropout 등의 방법 사용"
   ]
  },
  {
   "cell_type": "code",
   "execution_count": 59,
   "id": "0edcac30",
   "metadata": {},
   "outputs": [
    {
     "name": "stdout",
     "output_type": "stream",
     "text": [
      "Model에 추가된 Layer 개수:  9\n"
     ]
    }
   ],
   "source": [
    "from keras.layers import Dropout\n",
    "\n",
    "np.random.seed(1234)\n",
    "tf.random.set_seed(1234)\n",
    "\n",
    "model=keras.models.Sequential()\n",
    "model.add(keras.layers.Conv2D(16, (3,3), activation='relu', input_shape=(28,28,3)))\n",
    "model.add(keras.layers.MaxPool2D(2,2))\n",
    "model.add(Dropout(0.15))\n",
    "model.add(keras.layers.Conv2D(32, (3,3), activation='relu'))\n",
    "model.add(keras.layers.MaxPooling2D((2,2)))\n",
    "model.add(Dropout(0.15))\n",
    "model.add(keras.layers.Flatten())\n",
    "model.add(keras.layers.Dense(32, activation='relu'))\n",
    "model.add(keras.layers.Dense(3, activation='softmax'))\n",
    "\n",
    "print('Model에 추가된 Layer 개수: ', len(model.layers))"
   ]
  },
  {
   "cell_type": "code",
   "execution_count": 60,
   "id": "eb63b7dc",
   "metadata": {},
   "outputs": [
    {
     "name": "stdout",
     "output_type": "stream",
     "text": [
      "Epoch 1/10\n",
      "85/85 [==============================] - 1s 3ms/step - loss: 7.6624 - accuracy: 0.3389\n",
      "Epoch 2/10\n",
      "85/85 [==============================] - 0s 3ms/step - loss: 1.1103 - accuracy: 0.3296\n",
      "Epoch 3/10\n",
      "85/85 [==============================] - 0s 3ms/step - loss: 1.1065 - accuracy: 0.3348\n",
      "Epoch 4/10\n",
      "85/85 [==============================] - 0s 3ms/step - loss: 1.1063 - accuracy: 0.3352\n",
      "Epoch 5/10\n",
      "85/85 [==============================] - 0s 3ms/step - loss: 1.1001 - accuracy: 0.3374\n",
      "Epoch 6/10\n",
      "85/85 [==============================] - 0s 3ms/step - loss: 1.0982 - accuracy: 0.3307\n",
      "Epoch 7/10\n",
      "85/85 [==============================] - 0s 3ms/step - loss: 1.0922 - accuracy: 0.3422\n",
      "Epoch 8/10\n",
      "85/85 [==============================] - 0s 3ms/step - loss: 1.0941 - accuracy: 0.3441\n",
      "Epoch 9/10\n",
      "85/85 [==============================] - 0s 3ms/step - loss: 1.0502 - accuracy: 0.4041\n",
      "Epoch 10/10\n",
      "85/85 [==============================] - 0s 3ms/step - loss: 1.0272 - accuracy: 0.4163\n"
     ]
    },
    {
     "data": {
      "text/plain": [
       "<keras.callbacks.History at 0x7efdb7d26490>"
      ]
     },
     "execution_count": 60,
     "metadata": {},
     "output_type": "execute_result"
    }
   ],
   "source": [
    "model.compile(optimizer='adam',\n",
    "             loss='sparse_categorical_crossentropy',\n",
    "             metrics=['accuracy'])\n",
    "\n",
    "model.fit(ag_x_train, ag_y_train, epochs=10)"
   ]
  },
  {
   "cell_type": "code",
   "execution_count": 61,
   "id": "cad1837b",
   "metadata": {},
   "outputs": [
    {
     "name": "stdout",
     "output_type": "stream",
     "text": [
      "10/10 - 0s - loss: 1.1003 - accuracy: 0.3333\n",
      "test_loss: 1.1002861261367798\n",
      "test_accuracy: 0.3333333432674408\n"
     ]
    }
   ],
   "source": [
    "test_loss, test_accuracy = model.evaluate(x_test,y_test, verbose=2)\n",
    "print(f\"test_loss: {test_loss}\")\n",
    "print(f\"test_accuracy: {test_accuracy}\")"
   ]
  },
  {
   "cell_type": "markdown",
   "id": "19b9cf60",
   "metadata": {},
   "source": [
    "## 4. hyper parameter값들을 수정한다."
   ]
  },
  {
   "cell_type": "code",
   "execution_count": 62,
   "id": "0b462ccb",
   "metadata": {},
   "outputs": [
    {
     "name": "stdout",
     "output_type": "stream",
     "text": [
      "Model에 추가된 Layer 개수:  7\n"
     ]
    }
   ],
   "source": [
    "np.random.seed(1234)\n",
    "tf.random.set_seed(1234)\n",
    "\n",
    "model=keras.models.Sequential()\n",
    "model.add(keras.layers.Conv2D(32, (3,3), activation='relu', input_shape=(28,28,3)))\n",
    "model.add(keras.layers.MaxPool2D(2,2))\n",
    "model.add(keras.layers.Conv2D(64, (3,3), activation='relu'))\n",
    "model.add(keras.layers.MaxPooling2D((2,2)))\n",
    "model.add(keras.layers.Flatten())\n",
    "model.add(keras.layers.Dense(64, activation='relu'))\n",
    "model.add(keras.layers.Dense(3, activation='softmax'))\n",
    "\n",
    "print('Model에 추가된 Layer 개수: ', len(model.layers))"
   ]
  },
  {
   "cell_type": "code",
   "execution_count": 63,
   "id": "60ae1cb7",
   "metadata": {},
   "outputs": [
    {
     "name": "stdout",
     "output_type": "stream",
     "text": [
      "Epoch 1/10\n",
      "85/85 [==============================] - 1s 4ms/step - loss: 4.2582 - accuracy: 0.6181\n",
      "Epoch 2/10\n",
      "85/85 [==============================] - 0s 3ms/step - loss: 0.2245 - accuracy: 0.9256\n",
      "Epoch 3/10\n",
      "85/85 [==============================] - 0s 3ms/step - loss: 0.0706 - accuracy: 0.9833\n",
      "Epoch 4/10\n",
      "85/85 [==============================] - 0s 3ms/step - loss: 0.0226 - accuracy: 0.9967\n",
      "Epoch 5/10\n",
      "85/85 [==============================] - 0s 3ms/step - loss: 0.0094 - accuracy: 0.9993\n",
      "Epoch 6/10\n",
      "85/85 [==============================] - 0s 4ms/step - loss: 0.0029 - accuracy: 1.0000\n",
      "Epoch 7/10\n",
      "85/85 [==============================] - 0s 3ms/step - loss: 0.0015 - accuracy: 1.0000\n",
      "Epoch 8/10\n",
      "85/85 [==============================] - 0s 3ms/step - loss: 8.7768e-04 - accuracy: 1.0000\n",
      "Epoch 9/10\n",
      "85/85 [==============================] - 0s 3ms/step - loss: 5.8295e-04 - accuracy: 1.0000\n",
      "Epoch 10/10\n",
      "85/85 [==============================] - 0s 3ms/step - loss: 4.4156e-04 - accuracy: 1.0000\n"
     ]
    },
    {
     "data": {
      "text/plain": [
       "<keras.callbacks.History at 0x7efdb7c6be80>"
      ]
     },
     "execution_count": 63,
     "metadata": {},
     "output_type": "execute_result"
    }
   ],
   "source": [
    "model.compile(optimizer='adam',\n",
    "             loss='sparse_categorical_crossentropy',\n",
    "             metrics=['accuracy'])\n",
    "\n",
    "model.fit(ag_x_train, ag_y_train, epochs=10)"
   ]
  },
  {
   "cell_type": "code",
   "execution_count": 64,
   "id": "c3249b92",
   "metadata": {},
   "outputs": [
    {
     "name": "stdout",
     "output_type": "stream",
     "text": [
      "10/10 - 0s - loss: 2.6359 - accuracy: 0.4100\n",
      "test_loss: 2.63588809967041\n",
      "test_accuracy: 0.4099999964237213\n"
     ]
    }
   ],
   "source": [
    "test_loss, test_accuracy = model.evaluate(x_test,y_test, verbose=2)\n",
    "print(f\"test_loss: {test_loss}\")\n",
    "print(f\"test_accuracy: {test_accuracy}\")"
   ]
  },
  {
   "cell_type": "markdown",
   "id": "e2861ff7",
   "metadata": {},
   "source": [
    "- 학습데이터 추가와 모델의 layer를 추가하여 루브릭 조건인 accuracy 60%를 넘을 수 있었음\n",
    "- 추가적으로 위에서 사용한 방법들을 조합하여 시도해보았음"
   ]
  },
  {
   "cell_type": "markdown",
   "id": "6be39721",
   "metadata": {},
   "source": [
    "## 5. 여러가지 방법 조합 시도"
   ]
  },
  {
   "cell_type": "code",
   "execution_count": 75,
   "id": "17709931",
   "metadata": {},
   "outputs": [
    {
     "name": "stdout",
     "output_type": "stream",
     "text": [
      "Model에 추가된 Layer 개수:  13\n"
     ]
    }
   ],
   "source": [
    "model=keras.models.Sequential()\n",
    "model.add(keras.layers.Conv2D(32, (3,3), activation='relu', input_shape=(28,28,3)))\n",
    "model.add(keras.layers.MaxPool2D(1,1))\n",
    "model.add(Dropout(0.30))\n",
    "model.add(keras.layers.Conv2D(64, (3,3), activation='relu'))\n",
    "model.add(keras.layers.MaxPooling2D((1,1)))\n",
    "model.add(Dropout(0.30))\n",
    "model.add(keras.layers.Conv2D(128, (3,3), activation='relu'))\n",
    "model.add(keras.layers.MaxPooling2D((2,2)))\n",
    "model.add(Dropout(0.30))\n",
    "model.add(keras.layers.Flatten())\n",
    "model.add(keras.layers.Dense(256, activation='relu'))\n",
    "model.add(Dropout(0.30))\n",
    "model.add(keras.layers.Dense(3, activation='softmax'))\n",
    "\n",
    "print('Model에 추가된 Layer 개수: ', len(model.layers))"
   ]
  },
  {
   "cell_type": "code",
   "execution_count": 76,
   "id": "ba4309f5",
   "metadata": {},
   "outputs": [
    {
     "name": "stdout",
     "output_type": "stream",
     "text": [
      "Epoch 1/10\n",
      "85/85 [==============================] - 1s 7ms/step - loss: 23.9955 - accuracy: 0.3356\n",
      "Epoch 2/10\n",
      "85/85 [==============================] - 1s 6ms/step - loss: 1.0971 - accuracy: 0.3700\n",
      "Epoch 3/10\n",
      "85/85 [==============================] - 1s 6ms/step - loss: 1.0069 - accuracy: 0.4648\n",
      "Epoch 4/10\n",
      "85/85 [==============================] - 1s 6ms/step - loss: 0.7994 - accuracy: 0.6067\n",
      "Epoch 5/10\n",
      "85/85 [==============================] - 1s 6ms/step - loss: 0.6457 - accuracy: 0.6952\n",
      "Epoch 6/10\n",
      "85/85 [==============================] - 1s 6ms/step - loss: 0.5072 - accuracy: 0.7852\n",
      "Epoch 7/10\n",
      "85/85 [==============================] - 1s 6ms/step - loss: 0.3438 - accuracy: 0.8500\n",
      "Epoch 8/10\n",
      "85/85 [==============================] - 1s 6ms/step - loss: 0.2789 - accuracy: 0.8959\n",
      "Epoch 9/10\n",
      "85/85 [==============================] - 1s 6ms/step - loss: 0.2121 - accuracy: 0.9207\n",
      "Epoch 10/10\n",
      "85/85 [==============================] - 1s 6ms/step - loss: 0.1278 - accuracy: 0.9563\n"
     ]
    },
    {
     "data": {
      "text/plain": [
       "<keras.callbacks.History at 0x7efdb761b820>"
      ]
     },
     "execution_count": 76,
     "metadata": {},
     "output_type": "execute_result"
    }
   ],
   "source": [
    "model.compile(optimizer='adam',\n",
    "             loss='sparse_categorical_crossentropy',\n",
    "             metrics=['accuracy'])\n",
    "\n",
    "model.fit(ag_x_train, ag_y_train, epochs=10)"
   ]
  },
  {
   "cell_type": "code",
   "execution_count": 77,
   "id": "0d9f0fa1",
   "metadata": {},
   "outputs": [
    {
     "name": "stdout",
     "output_type": "stream",
     "text": [
      "10/10 - 0s - loss: 0.6318 - accuracy: 0.7300\n",
      "test_loss: 0.6317572593688965\n",
      "test_accuracy: 0.7300000190734863\n"
     ]
    }
   ],
   "source": [
    "test_loss, test_accuracy = model.evaluate(x_test,y_test, verbose=2)\n",
    "print(f\"test_loss: {test_loss}\")\n",
    "print(f\"test_accuracy: {test_accuracy}\")"
   ]
  },
  {
   "cell_type": "markdown",
   "id": "1031da7a",
   "metadata": {},
   "source": [
    "# 전체 회고\n",
    "- 케라스 모델을 이용하여 이미지 분류 모델을 만들어보았음\n",
    "- 학습데이터와 layer를 추가하여 루브릭 조건을 달성할 수 있었지만, 추가적인 방법들을 적용하여 73%의 정확도를 달성하였음\n",
    "- 이번 exploration은 데이터를 내가 직접 만들었다는 것이 재미가 있었음\n",
    "- 이미지를 많이 다뤄보지 않았지만, 이미지도 다루다 보니 재미가 있다는 생각이 들었음\n",
    "- 성능을 올리기 위하여 다양한 방법들을 생각하고 시도하느라 모델과 함수를 수정하는것이 재미있었음\n",
    "- 데이터를 증강시키는 코드를 효율적으로 만들지 못해서 조금은 아쉬움\n",
    "- 딥러닝은 학습 데이터가 많은 것이 과적합을 방지할 수 있는 첫번째인것 같고, 추가적으로 dropout 등의 기술도 중요하다고 생각됨\n",
    "- 이번 exploration을 하면서 이미지 딥러닝에 대해 스스로 찾아보고 공부할 수 있었으며, 모델을 설계하는 방법이나 과적합을 방지하는 방법 등을 아직 완벽하게 이해한것은 아니지만, 공부할 수 있어서 좋았음"
   ]
  },
  {
   "cell_type": "code",
   "execution_count": null,
   "id": "e848572d",
   "metadata": {},
   "outputs": [],
   "source": []
  }
 ],
 "metadata": {
  "kernelspec": {
   "display_name": "Python 3 (ipykernel)",
   "language": "python",
   "name": "python3"
  },
  "language_info": {
   "codemirror_mode": {
    "name": "ipython",
    "version": 3
   },
   "file_extension": ".py",
   "mimetype": "text/x-python",
   "name": "python",
   "nbconvert_exporter": "python",
   "pygments_lexer": "ipython3",
   "version": "3.9.7"
  }
 },
 "nbformat": 4,
 "nbformat_minor": 5
}
