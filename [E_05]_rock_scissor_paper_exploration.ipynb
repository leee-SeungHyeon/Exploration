{
 "cells": [
  {
   "cell_type": "markdown",
   "id": "1e7860f2",
   "metadata": {},
   "source": [
    "# 평가 조건\n",
    "- 평가 문항\n",
    "1. 이미지 분류기 모델이 성공적으로 만들어졌는가?\n",
    " - 학습과정이 정상적으로 수행되었으며, 학습 결과에 대한 그래프를 시각화(ex. train acc / train loss / val acc / val loss 등) 해 보았음\n",
    "2. 오버피팅을 극복하기 위한 적절한 시도가 있었는가?\n",
    " - 오버피팅 극복을 위하여 데이터셋의 다양성, 정규화 등을 2가지 이상 시도해보았음\n",
    "3. 분류모델의 test accuracy가 기준 이상 높게 나왔는가?\n",
    " - 60% 이상 도달하였음"
   ]
  },
  {
   "cell_type": "markdown",
   "id": "ec2ee23c",
   "metadata": {},
   "source": [
    "# 모듈 임포트"
   ]
  },
  {
   "cell_type": "code",
   "execution_count": 1,
   "id": "a57efa7b",
   "metadata": {},
   "outputs": [],
   "source": [
    "import tensorflow as tf\n",
    "from tensorflow import keras\n",
    "\n",
    "import numpy as np\n",
    "import matplotlib.pyplot as plt\n",
    "import os\n",
    "from PIL import Image\n",
    "import glob"
   ]
  },
  {
   "attachments": {
    "image-3.png": {
     "image/png": "[encoded data removed]"
    },
    "image-4.png": {
     "image/png": "[encoded data removed]"
    }
   },
   "cell_type": "markdown",
   "id": "1d038704",
   "metadata": {},
   "source": [
    "# 데이터 만들기\n",
    "- https://teachablemachine.withgoogle.com/ 여기에서 무료로 사진 만들수 있음\n",
    "- 디렉토리 만들기\n",
    "![image-3.png](attachment:image-3.png)\n",
    "- 사진 압축 해제\n",
    "![image-4.png](attachment:image-4.png)"
   ]
  },
  {
   "cell_type": "markdown",
   "id": "6aa10146",
   "metadata": {},
   "source": [
    "## 사진 28,28로 resize"
   ]
  },
  {
   "cell_type": "code",
   "execution_count": 2,
   "id": "95dee218",
   "metadata": {},
   "outputs": [],
   "source": [
    "def resize_images(img_path):\n",
    "\timages=glob.glob(img_path + \"/*.jpg\")  \n",
    "    \n",
    "\tprint(len(images), \" images to be resized.\")\n",
    "\n",
    "\ttarget_size=(28,28) #파일마다 모두 28x28 사이즈로 바꾸어 저장\n",
    "\tfor img in images:\n",
    "\t\told_img=Image.open(img)\n",
    "\t\tnew_img=old_img.resize(target_size,Image.ANTIALIAS)\n",
    "\t\tnew_img.save(img, \"JPEG\")\n",
    "    \n",
    "\tprint(len(images), \" images resized.\")"
   ]
  },
  {
   "cell_type": "code",
   "execution_count": 3,
   "id": "11c52f1a",
   "metadata": {},
   "outputs": [
    {
     "name": "stdout",
     "output_type": "stream",
     "text": [
      "100  images to be resized.\n",
      "100  images resized.\n",
      "가위 이미지 resize 완료\n"
     ]
    }
   ],
   "source": [
    "image_dir_path = os.getenv(\"HOME\") + \"/aiffel/rock_scissor_paper/scissor/lsh\"\n",
    "resize_images(image_dir_path)\n",
    "\n",
    "print(\"가위 이미지 resize 완료\")"
   ]
  },
  {
   "cell_type": "code",
   "execution_count": 4,
   "id": "15524ed8",
   "metadata": {},
   "outputs": [
    {
     "name": "stdout",
     "output_type": "stream",
     "text": [
      "100  images to be resized.\n",
      "100  images resized.\n",
      "바위 이미지 resize 완료\n"
     ]
    }
   ],
   "source": [
    "image_dir_path = os.getenv(\"HOME\") + \"/aiffel/rock_scissor_paper/rock/lsh\"\n",
    "resize_images(image_dir_path)\n",
    "\n",
    "print(\"바위 이미지 resize 완료\")"
   ]
  },
  {
   "cell_type": "code",
   "execution_count": 5,
   "id": "b6ecad28",
   "metadata": {},
   "outputs": [
    {
     "name": "stdout",
     "output_type": "stream",
     "text": [
      "100  images to be resized.\n",
      "100  images resized.\n",
      "보 이미지 resize 완료\n"
     ]
    }
   ],
   "source": [
    "image_dir_path = os.getenv(\"HOME\") + \"/aiffel/rock_scissor_paper/paper/lsh\"\n",
    "resize_images(image_dir_path)\n",
    "\n",
    "print(\"보 이미지 resize 완료\")"
   ]
  },
  {
   "cell_type": "markdown",
   "id": "a2e95546",
   "metadata": {},
   "source": [
    "## load_data 함수 만들기"
   ]
  },
  {
   "cell_type": "code",
   "execution_count": 6,
   "id": "540db536",
   "metadata": {},
   "outputs": [],
   "source": [
    "import numpy as np\n",
    "\n",
    "def load_data(img_path, number_of_data=300):#사진 총 합 넣기\n",
    "    # 가위 : 0, 바위 : 1, 보 : 2\n",
    "    img_size=28\n",
    "    color=3\n",
    "    #이미지 데이터와 라벨(가위 : 0, 바위 : 1, 보 : 2) 데이터를 담을 행렬(matrix) 영역을 생성\n",
    "    imgs=np.zeros(number_of_data*img_size*img_size*color,dtype=np.int32).reshape(number_of_data,img_size,img_size,color)\n",
    "    labels=np.zeros(number_of_data,dtype=np.int32)\n",
    "\n",
    "    idx=0\n",
    "    for file in glob.iglob(img_path+'/scissor/lsh/*.jpg'):\n",
    "        img = np.array(Image.open(file),dtype=np.int32)\n",
    "        imgs[idx,:,:,:]=img    # 데이터 영역에 이미지 행렬을 복사\n",
    "        labels[idx]=0   # 가위 : 0\n",
    "        idx=idx+1\n",
    "\n",
    "    for file in glob.iglob(img_path+'/rock/lsh/*.jpg'):\n",
    "        img = np.array(Image.open(file),dtype=np.int32)\n",
    "        imgs[idx,:,:,:]=img    # 데이터 영역에 이미지 행렬을 복사\n",
    "        labels[idx]=1   # 바위 : 1\n",
    "        idx=idx+1  \n",
    "    \n",
    "    for file in glob.iglob(img_path+'/paper/lsh/*.jpg'):\n",
    "        img = np.array(Image.open(file),dtype=np.int32)\n",
    "        imgs[idx,:,:,:]=img    # 데이터 영역에 이미지 행렬을 복사\n",
    "        labels[idx]=2   # 보 : 2\n",
    "        idx=idx+1\n",
    "        \n",
    "    print(\"학습데이터(x_train)의 이미지 개수는\", idx,\"입니다.\")\n",
    "    return imgs, labels"
   ]
  },
  {
   "cell_type": "code",
   "execution_count": 7,
   "id": "c2482f0f",
   "metadata": {},
   "outputs": [
    {
     "name": "stdout",
     "output_type": "stream",
     "text": [
      "학습데이터(x_train)의 이미지 개수는 300 입니다.\n",
      "x_train shape: (300, 28, 28, 3)\n",
      "y_train shape: (300,)\n"
     ]
    }
   ],
   "source": [
    "image_dir_path = os.getenv(\"HOME\") + \"/aiffel/rock_scissor_paper\"\n",
    "(x_train, y_train)=load_data(image_dir_path)\n",
    "x_train_norm = x_train/255.0   # 입력은 0~1 사이의 값으로 정규화\n",
    "\n",
    "print(\"x_train shape: {}\".format(x_train.shape))\n",
    "print(\"y_train shape: {}\".format(y_train.shape))"
   ]
  },
  {
   "cell_type": "markdown",
   "id": "c7f0f3e8",
   "metadata": {},
   "source": [
    "## 데이터 확인"
   ]
  },
  {
   "cell_type": "code",
   "execution_count": 8,
   "id": "9f75f79d",
   "metadata": {},
   "outputs": [
    {
     "name": "stdout",
     "output_type": "stream",
     "text": [
      "라벨:  0\n"
     ]
    },
    {
     "data": {
      "image/png": "[encoded data removed]",
      "text/plain": [
       "<Figure size 432x288 with 1 Axes>"
      ]
     },
     "metadata": {
      "needs_background": "light"
     },
     "output_type": "display_data"
    }
   ],
   "source": [
    "plt.imshow(x_train[1])\n",
    "print('라벨: ', y_train[1])"
   ]
  },
  {
   "cell_type": "markdown",
   "id": "4d53e392",
   "metadata": {},
   "source": [
    "# 모델 만들기"
   ]
  },
  {
   "cell_type": "code",
   "execution_count": 13,
   "id": "888edbcc",
   "metadata": {},
   "outputs": [
    {
     "name": "stdout",
     "output_type": "stream",
     "text": [
      "Model에 추가된 Layer 개수:  7\n"
     ]
    }
   ],
   "source": [
    "np.random.seed(1234)\n",
    "tf.random.set_seed(1234)\n",
    "\n",
    "model=keras.models.Sequential()\n",
    "model.add(keras.layers.Conv2D(16, (3,3), activation='relu', input_shape=(28,28,3)))\n",
    "model.add(keras.layers.MaxPool2D(2,2))\n",
    "model.add(keras.layers.Conv2D(32, (3,3), activation='relu'))\n",
    "model.add(keras.layers.MaxPooling2D((2,2)))\n",
    "model.add(keras.layers.Flatten())\n",
    "model.add(keras.layers.Dense(32, activation='relu'))\n",
    "model.add(keras.layers.Dense(3, activation='softmax'))\n",
    "\n",
    "print('Model에 추가된 Layer 개수: ', len(model.layers))"
   ]
  },
  {
   "cell_type": "code",
   "execution_count": 14,
   "id": "8ddf3519",
   "metadata": {},
   "outputs": [
    {
     "name": "stdout",
     "output_type": "stream",
     "text": [
      "Model: \"sequential_1\"\n",
      "_________________________________________________________________\n",
      "Layer (type)                 Output Shape              Param #   \n",
      "=================================================================\n",
      "conv2d_2 (Conv2D)            (None, 26, 26, 16)        448       \n",
      "_________________________________________________________________\n",
      "max_pooling2d_2 (MaxPooling2 (None, 13, 13, 16)        0         \n",
      "_________________________________________________________________\n",
      "conv2d_3 (Conv2D)            (None, 11, 11, 32)        4640      \n",
      "_________________________________________________________________\n",
      "max_pooling2d_3 (MaxPooling2 (None, 5, 5, 32)          0         \n",
      "_________________________________________________________________\n",
      "flatten_1 (Flatten)          (None, 800)               0         \n",
      "_________________________________________________________________\n",
      "dense_2 (Dense)              (None, 32)                25632     \n",
      "_________________________________________________________________\n",
      "dense_3 (Dense)              (None, 3)                 99        \n",
      "=================================================================\n",
      "Total params: 30,819\n",
      "Trainable params: 30,819\n",
      "Non-trainable params: 0\n",
      "_________________________________________________________________\n"
     ]
    }
   ],
   "source": [
    "#딥러닝 모델 확인\n",
    "\n",
    "model.summary()"
   ]
  },
  {
   "cell_type": "markdown",
   "id": "3c63f180",
   "metadata": {},
   "source": [
    "# 학습시키기\n",
    "- validation_split을 적용해주면 split을 하지 않아도, train데이터에서 20%를 validation set으로 평가해줌"
   ]
  },
  {
   "cell_type": "code",
   "execution_count": 15,
   "id": "cc9e0713",
   "metadata": {},
   "outputs": [
    {
     "name": "stdout",
     "output_type": "stream",
     "text": [
      "Epoch 1/10\n",
      "8/8 [==============================] - 1s 23ms/step - loss: 20.4881 - accuracy: 0.4417 - val_loss: 56.6182 - val_accuracy: 0.0000e+00\n",
      "Epoch 2/10\n",
      "8/8 [==============================] - 0s 6ms/step - loss: 7.0482 - accuracy: 0.4625 - val_loss: 2.7530 - val_accuracy: 0.2833\n",
      "Epoch 3/10\n",
      "8/8 [==============================] - 0s 6ms/step - loss: 1.0911 - accuracy: 0.7875 - val_loss: 1.9572 - val_accuracy: 0.5000\n",
      "Epoch 4/10\n",
      "8/8 [==============================] - 0s 6ms/step - loss: 0.5215 - accuracy: 0.8208 - val_loss: 1.2893 - val_accuracy: 0.7333\n",
      "Epoch 5/10\n",
      "8/8 [==============================] - 0s 6ms/step - loss: 0.3042 - accuracy: 0.9250 - val_loss: 0.2503 - val_accuracy: 0.9000\n",
      "Epoch 6/10\n",
      "8/8 [==============================] - 0s 6ms/step - loss: 0.1187 - accuracy: 0.9667 - val_loss: 0.5012 - val_accuracy: 0.8667\n",
      "Epoch 7/10\n",
      "8/8 [==============================] - 0s 6ms/step - loss: 0.0862 - accuracy: 0.9667 - val_loss: 0.2985 - val_accuracy: 0.9000\n",
      "Epoch 8/10\n",
      "8/8 [==============================] - 0s 6ms/step - loss: 0.0942 - accuracy: 0.9792 - val_loss: 0.1166 - val_accuracy: 0.9667\n",
      "Epoch 9/10\n",
      "8/8 [==============================] - 0s 7ms/step - loss: 0.0194 - accuracy: 1.0000 - val_loss: 0.2389 - val_accuracy: 0.9500\n",
      "Epoch 10/10\n",
      "8/8 [==============================] - 0s 6ms/step - loss: 0.0052 - accuracy: 1.0000 - val_loss: 0.1120 - val_accuracy: 0.9667\n",
      "<keras.callbacks.History object at 0x7f085d1f03d0>\n"
     ]
    }
   ],
   "source": [
    "model.compile(optimizer='adam',\n",
    "             loss='sparse_categorical_crossentropy',\n",
    "             metrics=['accuracy'])\n",
    "\n",
    "history = model.fit(x_train, y_train, validation_split = 0.2, epochs=10) \n",
    "print(history)"
   ]
  },
  {
   "cell_type": "markdown",
   "id": "c3657f13",
   "metadata": {},
   "source": [
    "## 훈련 과정 시각화(accuracy & loss)"
   ]
  },
  {
   "cell_type": "code",
   "execution_count": 20,
   "id": "c4e88ca6",
   "metadata": {},
   "outputs": [
    {
     "data": {
      "image/png": "[encoded data removed]",
      "text/plain": [
       "<Figure size 1008x360 with 2 Axes>"
      ]
     },
     "metadata": {
      "needs_background": "light"
     },
     "output_type": "display_data"
    }
   ],
   "source": [
    "#정확도\n",
    "plt.figure(figsize=(14,5))\n",
    "plt.subplot(121)\n",
    "plt.plot(history.history['accuracy'])\n",
    "plt.plot(history.history['val_accuracy'])\n",
    "plt.title('Model accuracy')\n",
    "plt.xlabel('Epoch')\n",
    "plt.ylabel('Accuracy')\n",
    "plt.legend(['Train', 'Test'], loc='upper left')\n",
    "\n",
    "#loss\n",
    "plt.subplot(122)\n",
    "plt.plot(history.history['loss'])\n",
    "plt.plot(history.history['val_loss'])\n",
    "plt.title('Model loss')\n",
    "plt.xlabel('Epoch')\n",
    "plt.ylabel('Loss')\n",
    "plt.legend(['Train', 'Test'], loc='upper left')\n",
    "plt.show()"
   ]
  },
  {
   "cell_type": "markdown",
   "id": "d45aeaad",
   "metadata": {},
   "source": [
    "- accuracy가 급격하게 상승하는 것을 보아 오버피팅이 발생한것으로 생각됨\n",
    "- loss값도 비정상적으로 급격하게 떨어진것을 볼 수 있음"
   ]
  },
  {
   "attachments": {
    "image.png": {
     "image/png": "[encoded data removed]"
    }
   },
   "cell_type": "markdown",
   "id": "308e93d0",
   "metadata": {},
   "source": [
    "## 평가데이터 셋 만들기\n",
    "- testset은 같이 교육을 듣는 다른 그루분의 사진으로 test 진행\n",
    "- trainset과 똑같이 알집 파일을 풀어줘야함\n",
    "![image.png](attachment:image.png)"
   ]
  },
  {
   "cell_type": "code",
   "execution_count": 21,
   "id": "9844b8f3",
   "metadata": {},
   "outputs": [
    {
     "name": "stdout",
     "output_type": "stream",
     "text": [
      "100  images to be resized.\n",
      "100  images resized.\n",
      "테스트 가위 이미지 resize 완료\n"
     ]
    }
   ],
   "source": [
    "image_dir_path = os.getenv(\"HOME\") + \"/aiffel/rock_scissor_paper/test/scissor\"\n",
    "resize_images(image_dir_path)\n",
    "\n",
    "print(\"테스트 가위 이미지 resize 완료\")"
   ]
  },
  {
   "cell_type": "code",
   "execution_count": 22,
   "id": "4fcb1e30",
   "metadata": {},
   "outputs": [
    {
     "name": "stdout",
     "output_type": "stream",
     "text": [
      "100  images to be resized.\n",
      "100  images resized.\n",
      "테스트 바위 이미지 resize 완료\n"
     ]
    }
   ],
   "source": [
    "image_dir_path = os.getenv(\"HOME\") + \"/aiffel/rock_scissor_paper/test/rock\"\n",
    "resize_images(image_dir_path)\n",
    "\n",
    "print(\"테스트 바위 이미지 resize 완료\")"
   ]
  },
  {
   "cell_type": "code",
   "execution_count": 23,
   "id": "a8c58c08",
   "metadata": {},
   "outputs": [
    {
     "name": "stdout",
     "output_type": "stream",
     "text": [
      "100  images to be resized.\n",
      "100  images resized.\n",
      "테스트 보 이미지 resize 완료\n"
     ]
    }
   ],
   "source": [
    "image_dir_path = os.getenv(\"HOME\") + \"/aiffel/rock_scissor_paper/test/paper\"\n",
    "resize_images(image_dir_path)\n",
    "\n",
    "print(\"테스트 보 이미지 resize 완료\")"
   ]
  },
  {
   "cell_type": "code",
   "execution_count": 24,
   "id": "fe7f687f",
   "metadata": {},
   "outputs": [],
   "source": [
    "import numpy as np\n",
    "\n",
    "def test_load_data(img_path, number_of_data=300):#사진 총 합 넣기\n",
    "    # 가위 : 0, 바위 : 1, 보 : 2\n",
    "    img_size=28\n",
    "    color=3\n",
    "    #이미지 데이터와 라벨(가위 : 0, 바위 : 1, 보 : 2) 데이터를 담을 행렬(matrix) 영역을 생성\n",
    "    imgs=np.zeros(number_of_data*img_size*img_size*color,dtype=np.int32).reshape(number_of_data,img_size,img_size,color)\n",
    "    labels=np.zeros(number_of_data,dtype=np.int32)\n",
    "\n",
    "    idx=0\n",
    "    for file in glob.iglob(img_path+'/scissor/*.jpg'):\n",
    "        img = np.array(Image.open(file),dtype=np.int32)\n",
    "        imgs[idx,:,:,:]=img    # 데이터 영역에 이미지 행렬을 복사\n",
    "        labels[idx]=0   # 가위 : 0\n",
    "        idx=idx+1\n",
    "\n",
    "    for file in glob.iglob(img_path+'/rock/*.jpg'):\n",
    "        img = np.array(Image.open(file),dtype=np.int32)\n",
    "        imgs[idx,:,:,:]=img    # 데이터 영역에 이미지 행렬을 복사\n",
    "        labels[idx]=1   # 바위 : 1\n",
    "        idx=idx+1  \n",
    "    \n",
    "    for file in glob.iglob(img_path+'/paper/*.jpg'):\n",
    "        img = np.array(Image.open(file),dtype=np.int32)\n",
    "        imgs[idx,:,:,:]=img    # 데이터 영역에 이미지 행렬을 복사\n",
    "        labels[idx]=2   # 보 : 2\n",
    "        idx=idx+1\n",
    "        \n",
    "    print(\"학습데이터(x_test)의 이미지 개수는\", idx,\"입니다.\")\n",
    "    return imgs, labels\n"
   ]
  },
  {
   "cell_type": "code",
   "execution_count": 25,
   "id": "365882a1",
   "metadata": {},
   "outputs": [
    {
     "name": "stdout",
     "output_type": "stream",
     "text": [
      "학습데이터(x_test)의 이미지 개수는 300 입니다.\n",
      "x_test shape: (300, 28, 28, 3)\n",
      "y_test shape: (300,)\n"
     ]
    }
   ],
   "source": [
    "image_dir_path = os.getenv(\"HOME\") + \"/aiffel/rock_scissor_paper/test\"\n",
    "(x_test, y_test)=test_load_data(image_dir_path)\n",
    "x_test_norm = x_test/255.0   # 입력은 0~1 사이의 값으로 정규화\n",
    "\n",
    "print(\"x_test shape: {}\".format(x_test.shape))\n",
    "print(\"y_test shape: {}\".format(y_test.shape))"
   ]
  },
  {
   "cell_type": "markdown",
   "id": "472322f0",
   "metadata": {},
   "source": [
    "# 모델 평가"
   ]
  },
  {
   "cell_type": "code",
   "execution_count": 26,
   "id": "9ac4b797",
   "metadata": {},
   "outputs": [
    {
     "name": "stdout",
     "output_type": "stream",
     "text": [
      "10/10 - 0s - loss: 6.3460 - accuracy: 0.3333\n",
      "test_loss: 6.346045017242432\n",
      "test_accuracy: 0.3333333432674408\n"
     ]
    }
   ],
   "source": [
    "test_loss, test_accuracy = model.evaluate(x_test,y_test, verbose=2)\n",
    "print(f\"test_loss: {test_loss}\")\n",
    "print(f\"test_accuracy: {test_accuracy}\")"
   ]
  },
  {
   "cell_type": "markdown",
   "id": "fac4c186",
   "metadata": {},
   "source": [
    "- 1차적인 베이스라인는 정확도가 약 0.33정도 나왔음"
   ]
  },
  {
   "cell_type": "markdown",
   "id": "29ce0dc7",
   "metadata": {},
   "source": [
    "## 모델 추론값 확인"
   ]
  },
  {
   "cell_type": "code",
   "execution_count": 27,
   "id": "b50c914b",
   "metadata": {},
   "outputs": [
    {
     "name": "stdout",
     "output_type": "stream",
     "text": [
      "model.predict() 결과 :  [9.9876010e-01 1.2352295e-08 1.2399018e-03]\n",
      "model이 추론한 가장 가능성이 높은 결과 :  0\n",
      "실제 데이터의 라벨 :  0\n"
     ]
    }
   ],
   "source": [
    "predicted_result = model.predict(x_test)  # model이 추론한 확률값. \n",
    "predicted_labels = np.argmax(predicted_result, axis=1)\n",
    "\n",
    "idx=0  #1번째 x_test를 살펴보자. \n",
    "print('model.predict() 결과 : ', predicted_result[idx])\n",
    "print('model이 추론한 가장 가능성이 높은 결과 : ', predicted_labels[idx])\n",
    "print('실제 데이터의 라벨 : ', y_test[idx])"
   ]
  },
  {
   "cell_type": "code",
   "execution_count": 28,
   "id": "ae5325f8",
   "metadata": {},
   "outputs": [
    {
     "name": "stdout",
     "output_type": "stream",
     "text": [
      "예측확률분포: [9.8840404e-01 4.6218457e-07 1.1595499e-02]\n",
      "라벨: 2, 예측결과: 0\n"
     ]
    },
    {
     "data": {
      "image/png": "[encoded data removed]",
      "text/plain": [
       "<Figure size 432x288 with 1 Axes>"
      ]
     },
     "metadata": {
      "needs_background": "light"
     },
     "output_type": "display_data"
    },
    {
     "name": "stdout",
     "output_type": "stream",
     "text": [
      "예측확률분포: [8.3203638e-01 3.0328241e-07 1.6796339e-01]\n",
      "라벨: 2, 예측결과: 0\n"
     ]
    },
    {
     "data": {
      "image/png": "[encoded data removed]",
      "text/plain": [
       "<Figure size 432x288 with 1 Axes>"
      ]
     },
     "metadata": {
      "needs_background": "light"
     },
     "output_type": "display_data"
    },
    {
     "name": "stdout",
     "output_type": "stream",
     "text": [
      "예측확률분포: [9.996501e-01 8.660444e-13 3.498431e-04]\n",
      "라벨: 2, 예측결과: 0\n"
     ]
    },
    {
     "data": {
      "image/png": "[encoded data removed]",
      "text/plain": [
       "<Figure size 432x288 with 1 Axes>"
      ]
     },
     "metadata": {
      "needs_background": "light"
     },
     "output_type": "display_data"
    },
    {
     "name": "stdout",
     "output_type": "stream",
     "text": [
      "예측확률분포: [7.6558727e-01 6.1029405e-06 2.3440658e-01]\n",
      "라벨: 1, 예측결과: 0\n"
     ]
    },
    {
     "data": {
      "image/png": "[encoded data removed]",
      "text/plain": [
       "<Figure size 432x288 with 1 Axes>"
      ]
     },
     "metadata": {
      "needs_background": "light"
     },
     "output_type": "display_data"
    },
    {
     "name": "stdout",
     "output_type": "stream",
     "text": [
      "예측확률분포: [9.975533e-01 7.662797e-06 2.439139e-03]\n",
      "라벨: 1, 예측결과: 0\n"
     ]
    },
    {
     "data": {
      "image/png": "[encoded data removed]",
      "text/plain": [
       "<Figure size 432x288 with 1 Axes>"
      ]
     },
     "metadata": {
      "needs_background": "light"
     },
     "output_type": "display_data"
    }
   ],
   "source": [
    "import random\n",
    "wrong_predict_list=[]\n",
    "for i, _ in enumerate(predicted_labels):\n",
    "    # i번째 test_labels과 y_test이 다른 경우만 모아 봅시다. \n",
    "    if predicted_labels[i] != y_test[i]:\n",
    "        wrong_predict_list.append(i)\n",
    "\n",
    "# wrong_predict_list 에서 랜덤하게 5개만 뽑아봅시다.\n",
    "samples = random.choices(population=wrong_predict_list, k=5)\n",
    "\n",
    "for n in samples:\n",
    "    print(\"예측확률분포: \" + str(predicted_result[n]))\n",
    "    print(\"라벨: \" + str(y_test[n]) + \", 예측결과: \" + str(predicted_labels[n]))\n",
    "    plt.imshow(x_test[n], cmap=plt.cm.binary)\n",
    "    plt.show()\n",
    "    \n",
    "#0: 가위 / 1: 바위 / 2: 보"
   ]
  },
  {
   "cell_type": "markdown",
   "id": "20aa0761",
   "metadata": {},
   "source": [
    "- 예측 결과를 확인해본 결과, 사진이 흐릿해서 제대로 예측을 못하는 것인지 파악이 안됨\n",
    "- 또한 300개 데이터를 학습하였는데, 학습 당시의 accuracy와 loss를 보면 오버피팅이 되었음\n",
    "- 학습 데이터의 수를 사진의 위치를 90도 회전 시키거나, 180도 뒤집는 방법등으로 늘려주는 것도 괜찮을 것이라고 생각되며, 추가적으로 그루분들의 사진도 추가하는것도 방법이 될 수 있음\n",
    "- 그리고 모델 layer를 더 설계하는 방법도 존재하고, parameter값도 변경해줄 수 있음"
   ]
  },
  {
   "cell_type": "markdown",
   "id": "f13f909d",
   "metadata": {},
   "source": [
    "## 성능을 향상시킬 수 있는 방법 정리\n",
    "1. 학습 데이터의 수를 늘린다.\n",
    " - 사진을 회전 및 뒤집기, 그루분들의 사진 추가 등\n",
    "2. 모델 layer를 추가로 구성한다.\n",
    "3. dropout 등의 방법 사용\n",
    "4. hyper parameter값들을 수정한다.\n",
    "5. 여러가지 방법 조합 시도"
   ]
  },
  {
   "cell_type": "markdown",
   "id": "a67a98ec",
   "metadata": {},
   "source": [
    "## 1. 학습 데이터의 수를 늘린다.\n",
    " - 사진을 회전 및 뒤집기, 그루 사진 추가\n",
    " - https://hipolarbear.tistory.com/19 참고"
   ]
  },
  {
   "cell_type": "code",
   "execution_count": 29,
   "id": "0a4747ef",
   "metadata": {},
   "outputs": [],
   "source": [
    "import re\n",
    "\n",
    "def Augmentation_images(img_path):\n",
    "    images=glob.glob(img_path + \"/*.jpg\")\n",
    "    new_path = img_path\n",
    "    print(len(images), \" images to be resized.\")\n",
    "    \n",
    "    target_size=(28,28) #파일마다 모두 28x28 사이즈로 바꾸어 저장\n",
    "    for img in images:\n",
    "        old_img=Image.open(img)\n",
    "        new_img=old_img.resize(target_size,Image.ANTIALIAS)\n",
    "        new_img.save(img, \"JPEG\")\n",
    "    \n",
    "    for img in images: #이미지 좌우 반전\n",
    "        old_img=Image.open(img)\n",
    "        LEFT_RIGHT_new_img = old_img.transpose(Image.FLIP_LEFT_RIGHT)\n",
    "        numbers = re.sub(r'[^0-9]', '', img)\n",
    "        LEFT_RIGHT_new_img.save(new_path+'/'+numbers+'_LEFT_RIGHT.jpg',\"JPEG\")\n",
    "    \n",
    "    print('이미지 좌우 반전 완료')\n",
    "    \n",
    "    for img in images: #이미지 상하 반전\n",
    "        old_img=Image.open(img)\n",
    "        TOP_BOTTOM_new_img = old_img.transpose(Image.FLIP_TOP_BOTTOM)\n",
    "        numbers = re.sub(r'[^0-9]', '', img)\n",
    "        TOP_BOTTOM_new_img.save(new_path+'/'+numbers+'_TOP_BOTTOM.jpg',\"JPEG\")\n",
    "\n",
    "    print('이미지 상하 반전 완료')\n",
    "    \n",
    "    new_images=glob.glob(img_path + \"/*.jpg\")\n",
    "    print(len(new_images), \" images Augmentation.\")"
   ]
  },
  {
   "cell_type": "code",
   "execution_count": 30,
   "id": "0e13d5ff",
   "metadata": {},
   "outputs": [
    {
     "name": "stdout",
     "output_type": "stream",
     "text": [
      "100  images to be resized.\n",
      "이미지 좌우 반전 완료\n",
      "이미지 상하 반전 완료\n",
      "300  images Augmentation.\n",
      "가위 이미지 Augmentation 완료\n"
     ]
    }
   ],
   "source": [
    "image_dir_path = os.getenv(\"HOME\") + \"/aiffel/rock_scissor_paper/scissor/lsh\"\n",
    "Augmentation_images(image_dir_path)\n",
    "\n",
    "print(\"가위 이미지 Augmentation 완료\")"
   ]
  },
  {
   "cell_type": "code",
   "execution_count": 31,
   "id": "21fba238",
   "metadata": {},
   "outputs": [
    {
     "name": "stdout",
     "output_type": "stream",
     "text": [
      "100  images to be resized.\n",
      "이미지 좌우 반전 완료\n",
      "이미지 상하 반전 완료\n",
      "300  images Augmentation.\n",
      "바위 이미지 Augmentation 완료\n"
     ]
    }
   ],
   "source": [
    "image_dir_path = os.getenv(\"HOME\") + \"/aiffel/rock_scissor_paper/rock/lsh\"\n",
    "Augmentation_images(image_dir_path)\n",
    "\n",
    "print(\"바위 이미지 Augmentation 완료\")"
   ]
  },
  {
   "cell_type": "code",
   "execution_count": 32,
   "id": "247a01b6",
   "metadata": {},
   "outputs": [
    {
     "name": "stdout",
     "output_type": "stream",
     "text": [
      "100  images to be resized.\n",
      "이미지 좌우 반전 완료\n",
      "이미지 상하 반전 완료\n",
      "300  images Augmentation.\n",
      "보 이미지 Augmentation 완료\n"
     ]
    }
   ],
   "source": [
    "image_dir_path = os.getenv(\"HOME\") + \"/aiffel/rock_scissor_paper/paper/lsh\"\n",
    "Augmentation_images(image_dir_path)\n",
    "\n",
    "print(\"보 이미지 Augmentation 완료\")"
   ]
  },
  {
   "cell_type": "code",
   "execution_count": 33,
   "id": "60fe5fb3",
   "metadata": {},
   "outputs": [
    {
     "name": "stdout",
     "output_type": "stream",
     "text": [
      "100  images to be resized.\n",
      "이미지 좌우 반전 완료\n",
      "이미지 상하 반전 완료\n",
      "300  images Augmentation.\n",
      "가위 이미지 Augmentation 완료\n"
     ]
    }
   ],
   "source": [
    "image_dir_path = os.getenv(\"HOME\") + \"/aiffel/rock_scissor_paper/scissor/llsh\"\n",
    "Augmentation_images(image_dir_path)\n",
    "\n",
    "print(\"가위 이미지 Augmentation 완료\")"
   ]
  },
  {
   "cell_type": "code",
   "execution_count": 34,
   "id": "36e8a205",
   "metadata": {},
   "outputs": [
    {
     "name": "stdout",
     "output_type": "stream",
     "text": [
      "100  images to be resized.\n",
      "이미지 좌우 반전 완료\n",
      "이미지 상하 반전 완료\n",
      "300  images Augmentation.\n",
      "바위 이미지 Augmentation 완료\n"
     ]
    }
   ],
   "source": [
    "image_dir_path = os.getenv(\"HOME\") + \"/aiffel/rock_scissor_paper/rock/llsh\"\n",
    "Augmentation_images(image_dir_path)\n",
    "\n",
    "print(\"바위 이미지 Augmentation 완료\")"
   ]
  },
  {
   "cell_type": "code",
   "execution_count": 35,
   "id": "00ba0618",
   "metadata": {},
   "outputs": [
    {
     "name": "stdout",
     "output_type": "stream",
     "text": [
      "100  images to be resized.\n",
      "이미지 좌우 반전 완료\n",
      "이미지 상하 반전 완료\n",
      "300  images Augmentation.\n",
      "보 이미지 Augmentation 완료\n"
     ]
    }
   ],
   "source": [
    "image_dir_path = os.getenv(\"HOME\") + \"/aiffel/rock_scissor_paper/paper/llsh\"\n",
    "Augmentation_images(image_dir_path)\n",
    "\n",
    "print(\"보 이미지 Augmentation 완료\")"
   ]
  },
  {
   "cell_type": "code",
   "execution_count": 36,
   "id": "ac3f9c5c",
   "metadata": {},
   "outputs": [
    {
     "name": "stdout",
     "output_type": "stream",
     "text": [
      "100  images to be resized.\n",
      "이미지 좌우 반전 완료\n",
      "이미지 상하 반전 완료\n",
      "300  images Augmentation.\n",
      "가위 이미지 Augmentation 완료\n"
     ]
    }
   ],
   "source": [
    "image_dir_path = os.getenv(\"HOME\") + \"/aiffel/rock_scissor_paper/scissor/psw\"\n",
    "Augmentation_images(image_dir_path)\n",
    "\n",
    "print(\"가위 이미지 Augmentation 완료\")"
   ]
  },
  {
   "cell_type": "code",
   "execution_count": 37,
   "id": "c4b8d528",
   "metadata": {},
   "outputs": [
    {
     "name": "stdout",
     "output_type": "stream",
     "text": [
      "100  images to be resized.\n",
      "이미지 좌우 반전 완료\n",
      "이미지 상하 반전 완료\n",
      "300  images Augmentation.\n",
      "바위 이미지 Augmentation 완료\n"
     ]
    }
   ],
   "source": [
    "image_dir_path = os.getenv(\"HOME\") + \"/aiffel/rock_scissor_paper/rock/psw\"\n",
    "Augmentation_images(image_dir_path)\n",
    "\n",
    "print(\"바위 이미지 Augmentation 완료\")"
   ]
  },
  {
   "cell_type": "code",
   "execution_count": 38,
   "id": "f02d97c8",
   "metadata": {},
   "outputs": [
    {
     "name": "stdout",
     "output_type": "stream",
     "text": [
      "100  images to be resized.\n",
      "이미지 좌우 반전 완료\n",
      "이미지 상하 반전 완료\n",
      "300  images Augmentation.\n",
      "보 이미지 Augmentation 완료\n"
     ]
    }
   ],
   "source": [
    "image_dir_path = os.getenv(\"HOME\") + \"/aiffel/rock_scissor_paper/paper/psw\"\n",
    "Augmentation_images(image_dir_path)\n",
    "\n",
    "print(\"보 이미지 Augmentation 완료\")"
   ]
  },
  {
   "attachments": {
    "image.png": {
     "image/png": "[encoded data removed]"
    }
   },
   "cell_type": "markdown",
   "id": "5eaddaaf",
   "metadata": {},
   "source": [
    "- 증강된 데이터\n",
    "- ![image.png](attachment:image.png)"
   ]
  },
  {
   "cell_type": "markdown",
   "id": "82559f15",
   "metadata": {},
   "source": [
    "### load_data 함수 만들기"
   ]
  },
  {
   "cell_type": "code",
   "execution_count": 39,
   "id": "becdb757",
   "metadata": {},
   "outputs": [],
   "source": [
    "import numpy as np\n",
    "\n",
    "def ag_load_data(img_path, number_of_data=900):#사진 총 합 넣기\n",
    "    # 가위 : 0, 바위 : 1, 보 : 2\n",
    "    img_size=28\n",
    "    color=3\n",
    "    #이미지 데이터와 라벨(가위 : 0, 바위 : 1, 보 : 2) 데이터를 담을 행렬(matrix) 영역을 생성\n",
    "    imgs=np.zeros(number_of_data*img_size*img_size*color,dtype=np.int32).reshape(number_of_data,img_size,img_size,color)\n",
    "    labels=np.zeros(number_of_data,dtype=np.int32)\n",
    "\n",
    "    idx=0\n",
    "    for file in glob.iglob(img_path+'/scissor/lsh/*.jpg'):\n",
    "        img = np.array(Image.open(file),dtype=np.int32)\n",
    "        imgs[idx,:,:,:]=img    # 데이터 영역에 이미지 행렬을 복사\n",
    "        labels[idx]=0   # 가위 : 0\n",
    "        idx=idx+1\n",
    "\n",
    "    for file in glob.iglob(img_path+'/rock/lsh/*.jpg'):\n",
    "        img = np.array(Image.open(file),dtype=np.int32)\n",
    "        imgs[idx,:,:,:]=img    # 데이터 영역에 이미지 행렬을 복사\n",
    "        labels[idx]=1   # 바위 : 1\n",
    "        idx=idx+1  \n",
    "    \n",
    "    for file in glob.iglob(img_path+'/paper/lsh/*.jpg'):\n",
    "        img = np.array(Image.open(file),dtype=np.int32)\n",
    "        imgs[idx,:,:,:]=img    # 데이터 영역에 이미지 행렬을 복사\n",
    "        labels[idx]=2   # 보 : 2\n",
    "        idx=idx+1\n",
    "        \n",
    "    print(\"학습데이터(x_train)의 이미지 개수는\", idx,\"입니다.\")\n",
    "    return imgs, labels"
   ]
  },
  {
   "cell_type": "code",
   "execution_count": 40,
   "id": "5db1838a",
   "metadata": {},
   "outputs": [
    {
     "name": "stdout",
     "output_type": "stream",
     "text": [
      "학습데이터(x_train)의 이미지 개수는 900 입니다.\n",
      "x_train shape: (900, 28, 28, 3)\n",
      "y_train shape: (900,)\n"
     ]
    }
   ],
   "source": [
    "image_dir_path = os.getenv(\"HOME\") + \"/aiffel/rock_scissor_paper\"\n",
    "(x_train1, y_train1)=ag_load_data(image_dir_path)\n",
    "x_train_norm = x_train/255.0   # 입력은 0~1 사이의 값으로 정규화\n",
    "\n",
    "print(\"x_train shape: {}\".format(x_train1.shape))\n",
    "print(\"y_train shape: {}\".format(y_train1.shape))"
   ]
  },
  {
   "cell_type": "code",
   "execution_count": 41,
   "id": "7c90b0fc",
   "metadata": {},
   "outputs": [],
   "source": [
    "import numpy as np\n",
    "\n",
    "def ag_load_data(img_path, number_of_data=900):#사진 총 합 넣기\n",
    "    # 가위 : 0, 바위 : 1, 보 : 2\n",
    "    img_size=28\n",
    "    color=3\n",
    "    #이미지 데이터와 라벨(가위 : 0, 바위 : 1, 보 : 2) 데이터를 담을 행렬(matrix) 영역을 생성\n",
    "    imgs=np.zeros(number_of_data*img_size*img_size*color,dtype=np.int32).reshape(number_of_data,img_size,img_size,color)\n",
    "    labels=np.zeros(number_of_data,dtype=np.int32)\n",
    "\n",
    "    idx=0\n",
    "    for file in glob.iglob(img_path+'/scissor/llsh/*.jpg'):\n",
    "        img = np.array(Image.open(file),dtype=np.int32)\n",
    "        imgs[idx,:,:,:]=img    # 데이터 영역에 이미지 행렬을 복사\n",
    "        labels[idx]=0   # 가위 : 0\n",
    "        idx=idx+1\n",
    "\n",
    "    for file in glob.iglob(img_path+'/rock/llsh/*.jpg'):\n",
    "        img = np.array(Image.open(file),dtype=np.int32)\n",
    "        imgs[idx,:,:,:]=img    # 데이터 영역에 이미지 행렬을 복사\n",
    "        labels[idx]=1   # 바위 : 1\n",
    "        idx=idx+1  \n",
    "    \n",
    "    for file in glob.iglob(img_path+'/paper/llsh/*.jpg'):\n",
    "        img = np.array(Image.open(file),dtype=np.int32)\n",
    "        imgs[idx,:,:,:]=img    # 데이터 영역에 이미지 행렬을 복사\n",
    "        labels[idx]=2   # 보 : 2\n",
    "        idx=idx+1\n",
    "        \n",
    "    print(\"학습데이터(x_train)의 이미지 개수는\", idx,\"입니다.\")\n",
    "    return imgs, labels"
   ]
  },
  {
   "cell_type": "code",
   "execution_count": 42,
   "id": "9f71fa7a",
   "metadata": {},
   "outputs": [
    {
     "name": "stdout",
     "output_type": "stream",
     "text": [
      "학습데이터(x_train)의 이미지 개수는 900 입니다.\n",
      "x_train shape: (900, 28, 28, 3)\n",
      "y_train shape: (900,)\n"
     ]
    }
   ],
   "source": [
    "image_dir_path = os.getenv(\"HOME\") + \"/aiffel/rock_scissor_paper\"\n",
    "(x_train2, y_train2)=ag_load_data(image_dir_path)\n",
    "x_train_norm = x_train/255.0   # 입력은 0~1 사이의 값으로 정규화\n",
    "\n",
    "print(\"x_train shape: {}\".format(x_train2.shape))\n",
    "print(\"y_train shape: {}\".format(y_train2.shape))"
   ]
  },
  {
   "cell_type": "code",
   "execution_count": 43,
   "id": "92ea5137",
   "metadata": {},
   "outputs": [],
   "source": [
    "import numpy as np\n",
    "\n",
    "def ag_load_data(img_path, number_of_data=900):#사진 총 합 넣기\n",
    "    # 가위 : 0, 바위 : 1, 보 : 2\n",
    "    img_size=28\n",
    "    color=3\n",
    "    #이미지 데이터와 라벨(가위 : 0, 바위 : 1, 보 : 2) 데이터를 담을 행렬(matrix) 영역을 생성\n",
    "    imgs=np.zeros(number_of_data*img_size*img_size*color,dtype=np.int32).reshape(number_of_data,img_size,img_size,color)\n",
    "    labels=np.zeros(number_of_data,dtype=np.int32)\n",
    "\n",
    "    idx=0\n",
    "    for file in glob.iglob(img_path+'/scissor/psw/*.jpg'):\n",
    "        img = np.array(Image.open(file),dtype=np.int32)\n",
    "        imgs[idx,:,:,:]=img    # 데이터 영역에 이미지 행렬을 복사\n",
    "        labels[idx]=0   # 가위 : 0\n",
    "        idx=idx+1\n",
    "\n",
    "    for file in glob.iglob(img_path+'/rock/psw/*.jpg'):\n",
    "        img = np.array(Image.open(file),dtype=np.int32)\n",
    "        imgs[idx,:,:,:]=img    # 데이터 영역에 이미지 행렬을 복사\n",
    "        labels[idx]=1   # 바위 : 1\n",
    "        idx=idx+1  \n",
    "    \n",
    "    for file in glob.iglob(img_path+'/paper/psw/*.jpg'):\n",
    "        img = np.array(Image.open(file),dtype=np.int32)\n",
    "        imgs[idx,:,:,:]=img    # 데이터 영역에 이미지 행렬을 복사\n",
    "        labels[idx]=2   # 보 : 2\n",
    "        idx=idx+1\n",
    "        \n",
    "    print(\"학습데이터(x_train)의 이미지 개수는\", idx,\"입니다.\")\n",
    "    return imgs, labels"
   ]
  },
  {
   "cell_type": "code",
   "execution_count": 44,
   "id": "1d298293",
   "metadata": {},
   "outputs": [
    {
     "name": "stdout",
     "output_type": "stream",
     "text": [
      "학습데이터(x_train)의 이미지 개수는 900 입니다.\n",
      "x_train shape: (900, 28, 28, 3)\n",
      "y_train shape: (900,)\n"
     ]
    }
   ],
   "source": [
    "image_dir_path = os.getenv(\"HOME\") + \"/aiffel/rock_scissor_paper\"\n",
    "(x_train3, y_train3)=ag_load_data(image_dir_path)\n",
    "x_train_norm = x_train/255.0   # 입력은 0~1 사이의 값으로 정규화\n",
    "\n",
    "print(\"x_train shape: {}\".format(x_train3.shape))\n",
    "print(\"y_train shape: {}\".format(y_train3.shape))"
   ]
  },
  {
   "cell_type": "markdown",
   "id": "a2167e8b",
   "metadata": {},
   "source": [
    "### 데이터 합치기"
   ]
  },
  {
   "cell_type": "code",
   "execution_count": null,
   "id": "17090bd5",
   "metadata": {},
   "outputs": [],
   "source": [
    "ag_x_train = np.concatenate([x_train1, x_train2, x_train3], 0)\n",
    "ag_y_train = np.concatenate([y_train1, y_train2, y_train3], 0)"
   ]
  },
  {
   "cell_type": "code",
   "execution_count": 53,
   "id": "4a0cb9b0",
   "metadata": {},
   "outputs": [
    {
     "name": "stdout",
     "output_type": "stream",
     "text": [
      "ag_x_train shape: (2700, 28, 28, 3)\n",
      "ag_y_train shape: (2700,)\n"
     ]
    }
   ],
   "source": [
    "print(\"ag_x_train shape: {}\".format(ag_x_train.shape))\n",
    "print(\"ag_y_train shape: {}\".format(ag_y_train.shape))"
   ]
  },
  {
   "cell_type": "markdown",
   "id": "0f326fbf",
   "metadata": {},
   "source": [
    "### 모델 학습"
   ]
  },
  {
   "cell_type": "code",
   "execution_count": 77,
   "id": "b944ee81",
   "metadata": {},
   "outputs": [
    {
     "name": "stdout",
     "output_type": "stream",
     "text": [
      "Model에 추가된 Layer 개수:  7\n"
     ]
    }
   ],
   "source": [
    "np.random.seed(1234)\n",
    "tf.random.set_seed(1234)\n",
    "\n",
    "model=keras.models.Sequential()\n",
    "model.add(keras.layers.Conv2D(16, (3,3), activation='relu', input_shape=(28,28,3)))\n",
    "model.add(keras.layers.MaxPool2D(2,2))\n",
    "model.add(keras.layers.Conv2D(32, (3,3), activation='relu'))\n",
    "model.add(keras.layers.MaxPooling2D((2,2)))\n",
    "model.add(keras.layers.Flatten())\n",
    "model.add(keras.layers.Dense(32, activation='relu'))\n",
    "model.add(keras.layers.Dense(3, activation='softmax'))\n",
    "\n",
    "print('Model에 추가된 Layer 개수: ', len(model.layers))"
   ]
  },
  {
   "cell_type": "code",
   "execution_count": 78,
   "id": "b94ca2ff",
   "metadata": {},
   "outputs": [
    {
     "name": "stdout",
     "output_type": "stream",
     "text": [
      "Epoch 1/10\n",
      "64/64 [==============================] - 1s 8ms/step - loss: 4.9627 - accuracy: 0.5472 - val_loss: 8.0591 - val_accuracy: 0.1570\n",
      "Epoch 2/10\n",
      "64/64 [==============================] - 0s 4ms/step - loss: 0.6073 - accuracy: 0.8153 - val_loss: 9.5192 - val_accuracy: 0.1230\n",
      "Epoch 3/10\n",
      "64/64 [==============================] - 0s 4ms/step - loss: 0.3073 - accuracy: 0.8998 - val_loss: 9.0780 - val_accuracy: 0.1259\n",
      "Epoch 4/10\n",
      "64/64 [==============================] - 0s 4ms/step - loss: 0.1967 - accuracy: 0.9363 - val_loss: 9.7539 - val_accuracy: 0.1274\n",
      "Epoch 5/10\n",
      "64/64 [==============================] - 0s 4ms/step - loss: 0.1472 - accuracy: 0.9541 - val_loss: 8.0685 - val_accuracy: 0.1956\n",
      "Epoch 6/10\n",
      "64/64 [==============================] - 0s 4ms/step - loss: 0.1065 - accuracy: 0.9640 - val_loss: 8.7584 - val_accuracy: 0.1748\n",
      "Epoch 7/10\n",
      "64/64 [==============================] - 0s 4ms/step - loss: 0.0494 - accuracy: 0.9847 - val_loss: 8.4004 - val_accuracy: 0.1763\n",
      "Epoch 8/10\n",
      "64/64 [==============================] - 0s 4ms/step - loss: 0.0478 - accuracy: 0.9867 - val_loss: 10.7524 - val_accuracy: 0.1585\n",
      "Epoch 9/10\n",
      "64/64 [==============================] - 0s 4ms/step - loss: 0.0215 - accuracy: 0.9965 - val_loss: 9.4894 - val_accuracy: 0.1659\n",
      "Epoch 10/10\n",
      "64/64 [==============================] - 0s 4ms/step - loss: 0.0238 - accuracy: 0.9951 - val_loss: 8.3728 - val_accuracy: 0.1556\n",
      "<keras.callbacks.History object at 0x7f0921bce2e0>\n"
     ]
    }
   ],
   "source": [
    "model.compile(optimizer='adam',\n",
    "             loss='sparse_categorical_crossentropy',\n",
    "             metrics=['accuracy'])\n",
    "\n",
    "history = model.fit(ag_x_train, ag_y_train, validation_split = 0.25, epochs=10) \n",
    "print(history)"
   ]
  },
  {
   "cell_type": "code",
   "execution_count": 79,
   "id": "5327a8e2",
   "metadata": {},
   "outputs": [
    {
     "data": {
      "image/png": "[encoded data removed]",
      "text/plain": [
       "<Figure size 1008x360 with 2 Axes>"
      ]
     },
     "metadata": {
      "needs_background": "light"
     },
     "output_type": "display_data"
    }
   ],
   "source": [
    "#정확도\n",
    "plt.figure(figsize=(14,5))\n",
    "plt.subplot(121)\n",
    "plt.plot(history.history['accuracy'])\n",
    "plt.plot(history.history['val_accuracy'])\n",
    "plt.title('Model accuracy')\n",
    "plt.xlabel('Epoch')\n",
    "plt.ylabel('Accuracy')\n",
    "plt.legend(['Train', 'val'], loc='upper left')\n",
    "\n",
    "#loss\n",
    "plt.subplot(122)\n",
    "plt.plot(history.history['loss'])\n",
    "plt.plot(history.history['val_loss'])\n",
    "plt.title('Model loss')\n",
    "plt.xlabel('Epoch')\n",
    "plt.ylabel('Loss')\n",
    "plt.legend(['Train', 'val'], loc='upper left')\n",
    "plt.show()"
   ]
  },
  {
   "cell_type": "markdown",
   "id": "0e34df8d",
   "metadata": {},
   "source": [
    "### 모델 평가"
   ]
  },
  {
   "cell_type": "code",
   "execution_count": 80,
   "id": "ed49d818",
   "metadata": {},
   "outputs": [
    {
     "name": "stdout",
     "output_type": "stream",
     "text": [
      "10/10 - 0s - loss: 2.0107 - accuracy: 0.5467\n",
      "test_loss: 2.0106570720672607\n",
      "test_accuracy: 0.54666668176651\n"
     ]
    }
   ],
   "source": [
    "test_loss, test_accuracy = model.evaluate(x_test,y_test, verbose=2)\n",
    "print(f\"test_loss: {test_loss}\")\n",
    "print(f\"test_accuracy: {test_accuracy}\")"
   ]
  },
  {
   "cell_type": "markdown",
   "id": "dfcfcc37",
   "metadata": {},
   "source": [
    "## 2. 모델 layer를 추가로 구성한다."
   ]
  },
  {
   "cell_type": "code",
   "execution_count": 86,
   "id": "955f4684",
   "metadata": {},
   "outputs": [
    {
     "name": "stdout",
     "output_type": "stream",
     "text": [
      "Model에 추가된 Layer 개수:  9\n"
     ]
    }
   ],
   "source": [
    "np.random.seed(1234)\n",
    "tf.random.set_seed(1234)\n",
    "\n",
    "model=keras.models.Sequential()\n",
    "model.add(keras.layers.Conv2D(16, (3,3), activation='relu', input_shape=(28,28,3)))\n",
    "model.add(keras.layers.MaxPool2D(2,2))\n",
    "model.add(keras.layers.Conv2D(32, (3,3), activation='relu'))\n",
    "model.add(keras.layers.MaxPooling2D((2,2)))\n",
    "model.add(keras.layers.Conv2D(64, (3,3), activation='relu'))\n",
    "model.add(keras.layers.MaxPooling2D((2,2)))\n",
    "model.add(keras.layers.Flatten())\n",
    "model.add(keras.layers.Dense(32, activation='relu'))\n",
    "model.add(keras.layers.Dense(3, activation='softmax'))\n",
    "\n",
    "print('Model에 추가된 Layer 개수: ', len(model.layers))"
   ]
  },
  {
   "cell_type": "code",
   "execution_count": 87,
   "id": "7fa07b41",
   "metadata": {},
   "outputs": [
    {
     "name": "stdout",
     "output_type": "stream",
     "text": [
      "Epoch 1/10\n",
      "64/64 [==============================] - 1s 8ms/step - loss: 2.1524 - accuracy: 0.5896 - val_loss: 3.5589 - val_accuracy: 0.1852\n",
      "Epoch 2/10\n",
      "64/64 [==============================] - 0s 4ms/step - loss: 0.4462 - accuracy: 0.8227 - val_loss: 3.5779 - val_accuracy: 0.2400\n",
      "Epoch 3/10\n",
      "64/64 [==============================] - 0s 4ms/step - loss: 0.3084 - accuracy: 0.8800 - val_loss: 2.4756 - val_accuracy: 0.3852\n",
      "Epoch 4/10\n",
      "64/64 [==============================] - 0s 4ms/step - loss: 0.1937 - accuracy: 0.9254 - val_loss: 6.7022 - val_accuracy: 0.1496\n",
      "Epoch 5/10\n",
      "64/64 [==============================] - 0s 4ms/step - loss: 0.1264 - accuracy: 0.9600 - val_loss: 5.2284 - val_accuracy: 0.2252\n",
      "Epoch 6/10\n",
      "64/64 [==============================] - 0s 4ms/step - loss: 0.0877 - accuracy: 0.9689 - val_loss: 5.8907 - val_accuracy: 0.2356\n",
      "Epoch 7/10\n",
      "64/64 [==============================] - 0s 4ms/step - loss: 0.0709 - accuracy: 0.9773 - val_loss: 4.3202 - val_accuracy: 0.2607\n",
      "Epoch 8/10\n",
      "64/64 [==============================] - 0s 4ms/step - loss: 0.0805 - accuracy: 0.9714 - val_loss: 7.1551 - val_accuracy: 0.2148\n",
      "Epoch 9/10\n",
      "64/64 [==============================] - 0s 4ms/step - loss: 0.0354 - accuracy: 0.9931 - val_loss: 8.1453 - val_accuracy: 0.1733\n",
      "Epoch 10/10\n",
      "64/64 [==============================] - 0s 4ms/step - loss: 0.0297 - accuracy: 0.9921 - val_loss: 8.0419 - val_accuracy: 0.2015\n",
      "<keras.callbacks.History object at 0x7f085d2d7f10>\n"
     ]
    }
   ],
   "source": [
    "model.compile(optimizer='adam',\n",
    "             loss='sparse_categorical_crossentropy',\n",
    "             metrics=['accuracy'])\n",
    "\n",
    "history = model.fit(ag_x_train, ag_y_train, validation_split = 0.25, epochs=10) \n",
    "print(history)"
   ]
  },
  {
   "cell_type": "code",
   "execution_count": 88,
   "id": "ea07860e",
   "metadata": {},
   "outputs": [
    {
     "data": {
      "image/png": "[encoded data removed]",
      "text/plain": [
       "<Figure size 1008x360 with 2 Axes>"
      ]
     },
     "metadata": {
      "needs_background": "light"
     },
     "output_type": "display_data"
    }
   ],
   "source": [
    "#정확도\n",
    "plt.figure(figsize=(14,5))\n",
    "plt.subplot(121)\n",
    "plt.plot(history.history['accuracy'])\n",
    "plt.plot(history.history['val_accuracy'])\n",
    "plt.title('Model accuracy')\n",
    "plt.xlabel('Epoch')\n",
    "plt.ylabel('Accuracy')\n",
    "plt.legend(['Train', 'val'], loc='upper left')\n",
    "\n",
    "#loss\n",
    "plt.subplot(122)\n",
    "plt.plot(history.history['loss'])\n",
    "plt.plot(history.history['val_loss'])\n",
    "plt.title('Model loss')\n",
    "plt.xlabel('Epoch')\n",
    "plt.ylabel('Loss')\n",
    "plt.legend(['Train', 'val'], loc='upper left')\n",
    "plt.show()"
   ]
  },
  {
   "cell_type": "code",
   "execution_count": 89,
   "id": "21e48f11",
   "metadata": {},
   "outputs": [
    {
     "name": "stdout",
     "output_type": "stream",
     "text": [
      "10/10 - 0s - loss: 0.8409 - accuracy: 0.7000\n",
      "test_loss: 0.8409481644630432\n",
      "test_accuracy: 0.699999988079071\n"
     ]
    }
   ],
   "source": [
    "test_loss, test_accuracy = model.evaluate(x_test,y_test, verbose=2)\n",
    "print(f\"test_loss: {test_loss}\")\n",
    "print(f\"test_accuracy: {test_accuracy}\")"
   ]
  },
  {
   "cell_type": "markdown",
   "id": "c8236592",
   "metadata": {},
   "source": [
    "## 3. dropout 등의 방법 사용"
   ]
  },
  {
   "cell_type": "code",
   "execution_count": 90,
   "id": "a03edd88",
   "metadata": {},
   "outputs": [
    {
     "name": "stdout",
     "output_type": "stream",
     "text": [
      "Model에 추가된 Layer 개수:  9\n"
     ]
    }
   ],
   "source": [
    "from keras.layers import Dropout\n",
    "\n",
    "np.random.seed(1234)\n",
    "tf.random.set_seed(1234)\n",
    "\n",
    "model=keras.models.Sequential()\n",
    "model.add(keras.layers.Conv2D(16, (3,3), activation='relu', input_shape=(28,28,3)))\n",
    "model.add(keras.layers.MaxPool2D(2,2))\n",
    "model.add(Dropout(0.15))\n",
    "model.add(keras.layers.Conv2D(32, (3,3), activation='relu'))\n",
    "model.add(keras.layers.MaxPooling2D((2,2)))\n",
    "model.add(Dropout(0.15))\n",
    "model.add(keras.layers.Flatten())\n",
    "model.add(keras.layers.Dense(32, activation='relu'))\n",
    "model.add(keras.layers.Dense(3, activation='softmax'))\n",
    "\n",
    "print('Model에 추가된 Layer 개수: ', len(model.layers))"
   ]
  },
  {
   "cell_type": "code",
   "execution_count": 91,
   "id": "8301ed3d",
   "metadata": {},
   "outputs": [
    {
     "name": "stdout",
     "output_type": "stream",
     "text": [
      "Epoch 1/10\n",
      "64/64 [==============================] - 1s 6ms/step - loss: 6.9319 - accuracy: 0.3911 - val_loss: 1.1041 - val_accuracy: 0.1111\n",
      "Epoch 2/10\n",
      "64/64 [==============================] - 0s 4ms/step - loss: 1.1037 - accuracy: 0.4074 - val_loss: 1.1158 - val_accuracy: 0.1111\n",
      "Epoch 3/10\n",
      "64/64 [==============================] - 0s 4ms/step - loss: 1.0952 - accuracy: 0.4064 - val_loss: 1.1272 - val_accuracy: 0.1111\n",
      "Epoch 4/10\n",
      "64/64 [==============================] - 0s 4ms/step - loss: 1.0898 - accuracy: 0.4079 - val_loss: 1.1369 - val_accuracy: 0.1111\n",
      "Epoch 5/10\n",
      "64/64 [==============================] - 0s 4ms/step - loss: 1.0875 - accuracy: 0.4089 - val_loss: 1.1451 - val_accuracy: 0.1111\n",
      "Epoch 6/10\n",
      "64/64 [==============================] - 0s 4ms/step - loss: 1.0890 - accuracy: 0.4099 - val_loss: 1.1522 - val_accuracy: 0.1111\n",
      "Epoch 7/10\n",
      "64/64 [==============================] - 0s 4ms/step - loss: 1.0868 - accuracy: 0.4084 - val_loss: 1.1577 - val_accuracy: 0.1111\n",
      "Epoch 8/10\n",
      "64/64 [==============================] - 0s 4ms/step - loss: 1.0888 - accuracy: 0.4069 - val_loss: 1.1629 - val_accuracy: 0.1111\n",
      "Epoch 9/10\n",
      "64/64 [==============================] - 0s 4ms/step - loss: 1.0894 - accuracy: 0.4044 - val_loss: 1.1665 - val_accuracy: 0.1111\n",
      "Epoch 10/10\n",
      "64/64 [==============================] - 0s 4ms/step - loss: 1.0887 - accuracy: 0.4044 - val_loss: 1.1706 - val_accuracy: 0.1111\n",
      "<keras.callbacks.History object at 0x7f0921b51400>\n"
     ]
    }
   ],
   "source": [
    "model.compile(optimizer='adam',\n",
    "             loss='sparse_categorical_crossentropy',\n",
    "             metrics=['accuracy'])\n",
    "\n",
    "history = model.fit(ag_x_train, ag_y_train, validation_split = 0.25, epochs=10) \n",
    "print(history)"
   ]
  },
  {
   "cell_type": "code",
   "execution_count": 92,
   "id": "e5412d5d",
   "metadata": {},
   "outputs": [
    {
     "data": {
      "image/png": "[encoded data removed]",
      "text/plain": [
       "<Figure size 1008x360 with 2 Axes>"
      ]
     },
     "metadata": {
      "needs_background": "light"
     },
     "output_type": "display_data"
    }
   ],
   "source": [
    "#정확도\n",
    "plt.figure(figsize=(14,5))\n",
    "plt.subplot(121)\n",
    "plt.plot(history.history['accuracy'])\n",
    "plt.plot(history.history['val_accuracy'])\n",
    "plt.title('Model accuracy')\n",
    "plt.xlabel('Epoch')\n",
    "plt.ylabel('Accuracy')\n",
    "plt.legend(['Train', 'val'], loc='upper left')\n",
    "\n",
    "#loss\n",
    "plt.subplot(122)\n",
    "plt.plot(history.history['loss'])\n",
    "plt.plot(history.history['val_loss'])\n",
    "plt.title('Model loss')\n",
    "plt.xlabel('Epoch')\n",
    "plt.ylabel('Loss')\n",
    "plt.legend(['Train', 'val'], loc='upper left')\n",
    "plt.show()"
   ]
  },
  {
   "cell_type": "code",
   "execution_count": 93,
   "id": "d89bd0ee",
   "metadata": {},
   "outputs": [
    {
     "name": "stdout",
     "output_type": "stream",
     "text": [
      "10/10 - 0s - loss: 1.1078 - accuracy: 0.3333\n",
      "test_loss: 1.1077579259872437\n",
      "test_accuracy: 0.3333333432674408\n"
     ]
    }
   ],
   "source": [
    "test_loss, test_accuracy = model.evaluate(x_test,y_test, verbose=2)\n",
    "print(f\"test_loss: {test_loss}\")\n",
    "print(f\"test_accuracy: {test_accuracy}\")"
   ]
  },
  {
   "cell_type": "markdown",
   "id": "d220e735",
   "metadata": {},
   "source": [
    "## 4. hyper parameter값들을 수정한다."
   ]
  },
  {
   "cell_type": "code",
   "execution_count": 94,
   "id": "de9c14d3",
   "metadata": {},
   "outputs": [
    {
     "name": "stdout",
     "output_type": "stream",
     "text": [
      "Model에 추가된 Layer 개수:  7\n"
     ]
    }
   ],
   "source": [
    "np.random.seed(1234)\n",
    "tf.random.set_seed(1234)\n",
    "\n",
    "model=keras.models.Sequential()\n",
    "model.add(keras.layers.Conv2D(32, (3,3), activation='relu', input_shape=(28,28,3)))\n",
    "model.add(keras.layers.MaxPool2D(2,2))\n",
    "model.add(keras.layers.Conv2D(64, (3,3), activation='relu'))\n",
    "model.add(keras.layers.MaxPooling2D((2,2)))\n",
    "model.add(keras.layers.Flatten())\n",
    "model.add(keras.layers.Dense(64, activation='relu'))\n",
    "model.add(keras.layers.Dense(3, activation='softmax'))\n",
    "\n",
    "print('Model에 추가된 Layer 개수: ', len(model.layers))"
   ]
  },
  {
   "cell_type": "code",
   "execution_count": 95,
   "id": "787d0b38",
   "metadata": {},
   "outputs": [
    {
     "name": "stdout",
     "output_type": "stream",
     "text": [
      "Epoch 1/10\n",
      "64/64 [==============================] - 1s 8ms/step - loss: 5.4770 - accuracy: 0.6425 - val_loss: 3.7474 - val_accuracy: 0.2089\n",
      "Epoch 2/10\n",
      "64/64 [==============================] - 0s 4ms/step - loss: 0.1394 - accuracy: 0.9565 - val_loss: 4.0073 - val_accuracy: 0.2504\n",
      "Epoch 3/10\n",
      "64/64 [==============================] - 0s 4ms/step - loss: 0.0385 - accuracy: 0.9906 - val_loss: 6.3308 - val_accuracy: 0.1778\n",
      "Epoch 4/10\n",
      "64/64 [==============================] - 0s 4ms/step - loss: 0.0228 - accuracy: 0.9946 - val_loss: 7.7672 - val_accuracy: 0.1615\n",
      "Epoch 5/10\n",
      "64/64 [==============================] - 0s 4ms/step - loss: 0.0143 - accuracy: 0.9970 - val_loss: 6.9758 - val_accuracy: 0.2178\n",
      "Epoch 6/10\n",
      "64/64 [==============================] - 0s 4ms/step - loss: 0.0039 - accuracy: 1.0000 - val_loss: 7.6956 - val_accuracy: 0.1837\n",
      "Epoch 7/10\n",
      "64/64 [==============================] - 0s 4ms/step - loss: 0.0018 - accuracy: 1.0000 - val_loss: 8.2134 - val_accuracy: 0.1822\n",
      "Epoch 8/10\n",
      "64/64 [==============================] - 0s 4ms/step - loss: 9.8230e-04 - accuracy: 1.0000 - val_loss: 9.6430 - val_accuracy: 0.1600\n",
      "Epoch 9/10\n",
      "64/64 [==============================] - 0s 4ms/step - loss: 6.6749e-04 - accuracy: 1.0000 - val_loss: 9.6817 - val_accuracy: 0.1674\n",
      "Epoch 10/10\n",
      "64/64 [==============================] - 0s 4ms/step - loss: 4.7726e-04 - accuracy: 1.0000 - val_loss: 11.1713 - val_accuracy: 0.1496\n",
      "<keras.callbacks.History object at 0x7f085d087c70>\n"
     ]
    }
   ],
   "source": [
    "model.compile(optimizer='adam',\n",
    "             loss='sparse_categorical_crossentropy',\n",
    "             metrics=['accuracy'])\n",
    "\n",
    "history = model.fit(ag_x_train, ag_y_train, validation_split = 0.25, epochs=10) \n",
    "print(history)"
   ]
  },
  {
   "cell_type": "code",
   "execution_count": 96,
   "id": "adb5c8bd",
   "metadata": {},
   "outputs": [
    {
     "data": {
      "image/png": "[encoded data removed]",
      "text/plain": [
       "<Figure size 1008x360 with 2 Axes>"
      ]
     },
     "metadata": {
      "needs_background": "light"
     },
     "output_type": "display_data"
    }
   ],
   "source": [
    "#정확도\n",
    "plt.figure(figsize=(14,5))\n",
    "plt.subplot(121)\n",
    "plt.plot(history.history['accuracy'])\n",
    "plt.plot(history.history['val_accuracy'])\n",
    "plt.title('Model accuracy')\n",
    "plt.xlabel('Epoch')\n",
    "plt.ylabel('Accuracy')\n",
    "plt.legend(['Train', 'val'], loc='upper left')\n",
    "\n",
    "#loss\n",
    "plt.subplot(122)\n",
    "plt.plot(history.history['loss'])\n",
    "plt.plot(history.history['val_loss'])\n",
    "plt.title('Model loss')\n",
    "plt.xlabel('Epoch')\n",
    "plt.ylabel('Loss')\n",
    "plt.legend(['Train', 'val'], loc='upper left')\n",
    "plt.show()"
   ]
  },
  {
   "cell_type": "code",
   "execution_count": 97,
   "id": "006e1c6e",
   "metadata": {},
   "outputs": [
    {
     "name": "stdout",
     "output_type": "stream",
     "text": [
      "10/10 - 0s - loss: 0.9972 - accuracy: 0.6267\n",
      "test_loss: 0.9972230195999146\n",
      "test_accuracy: 0.6266666650772095\n"
     ]
    }
   ],
   "source": [
    "test_loss, test_accuracy = model.evaluate(x_test,y_test, verbose=2)\n",
    "print(f\"test_loss: {test_loss}\")\n",
    "print(f\"test_accuracy: {test_accuracy}\")"
   ]
  },
  {
   "cell_type": "markdown",
   "id": "513b7838",
   "metadata": {},
   "source": [
    "- 학습데이터 추가와 모델의 layer를 추가하여 루브릭 조건인 accuracy 60%를 넘을 수 있었음\n",
    "- 추가적으로 위에서 사용한 방법들을 조합하여 시도해보았음"
   ]
  },
  {
   "cell_type": "markdown",
   "id": "2d6eedac",
   "metadata": {},
   "source": [
    "## 5. 여러가지 방법 조합 시도"
   ]
  },
  {
   "cell_type": "code",
   "execution_count": 114,
   "id": "6e8075eb",
   "metadata": {},
   "outputs": [
    {
     "name": "stdout",
     "output_type": "stream",
     "text": [
      "Model에 추가된 Layer 개수:  13\n"
     ]
    }
   ],
   "source": [
    "model=keras.models.Sequential()\n",
    "model.add(keras.layers.Conv2D(32, (3,3), activation='relu', input_shape=(28,28,3)))\n",
    "model.add(keras.layers.MaxPool2D(1,1))\n",
    "model.add(Dropout(0.3))\n",
    "model.add(keras.layers.Conv2D(64, (3,3), activation='relu'))\n",
    "model.add(keras.layers.MaxPooling2D((1,1)))\n",
    "model.add(Dropout(0.3))\n",
    "model.add(keras.layers.Conv2D(128, (3,3), activation='relu'))\n",
    "model.add(keras.layers.MaxPooling2D((2,2)))\n",
    "model.add(Dropout(0.3))\n",
    "model.add(keras.layers.Flatten())\n",
    "model.add(keras.layers.Dense(256, activation='relu'))\n",
    "model.add(Dropout(0.3))\n",
    "model.add(keras.layers.Dense(3, activation='softmax'))\n",
    "\n",
    "print('Model에 추가된 Layer 개수: ', len(model.layers))"
   ]
  },
  {
   "cell_type": "code",
   "execution_count": 115,
   "id": "4a2c740b",
   "metadata": {},
   "outputs": [
    {
     "name": "stdout",
     "output_type": "stream",
     "text": [
      "Epoch 1/10\n",
      "60/60 [==============================] - 1s 10ms/step - loss: 33.4143 - accuracy: 0.3923 - val_loss: 1.1438 - val_accuracy: 0.3255\n",
      "Epoch 2/10\n",
      "60/60 [==============================] - 0s 7ms/step - loss: 0.8193 - accuracy: 0.5786 - val_loss: 3.0137 - val_accuracy: 0.2750\n",
      "Epoch 3/10\n",
      "60/60 [==============================] - 0s 7ms/step - loss: 0.6119 - accuracy: 0.7194 - val_loss: 4.6054 - val_accuracy: 0.2824\n",
      "Epoch 4/10\n",
      "60/60 [==============================] - 0s 7ms/step - loss: 0.5325 - accuracy: 0.7644 - val_loss: 7.9550 - val_accuracy: 0.2725\n",
      "Epoch 5/10\n",
      "60/60 [==============================] - 0s 7ms/step - loss: 0.4355 - accuracy: 0.8184 - val_loss: 7.8455 - val_accuracy: 0.2737\n",
      "Epoch 6/10\n",
      "60/60 [==============================] - 0s 7ms/step - loss: 0.4133 - accuracy: 0.8317 - val_loss: 12.6044 - val_accuracy: 0.2750\n",
      "Epoch 7/10\n",
      "60/60 [==============================] - 0s 7ms/step - loss: 0.3034 - accuracy: 0.8814 - val_loss: 13.5253 - val_accuracy: 0.2713\n",
      "Epoch 8/10\n",
      "60/60 [==============================] - 0s 7ms/step - loss: 0.2242 - accuracy: 0.9238 - val_loss: 12.2604 - val_accuracy: 0.2713\n",
      "Epoch 9/10\n",
      "60/60 [==============================] - 0s 7ms/step - loss: 0.1706 - accuracy: 0.9381 - val_loss: 13.1152 - val_accuracy: 0.2737\n",
      "Epoch 10/10\n",
      "60/60 [==============================] - 0s 7ms/step - loss: 0.1205 - accuracy: 0.9619 - val_loss: 13.5035 - val_accuracy: 0.2861\n",
      "<keras.callbacks.History object at 0x7f085c51c3d0>\n"
     ]
    }
   ],
   "source": [
    "model.compile(optimizer='adam',\n",
    "             loss='sparse_categorical_crossentropy',\n",
    "             metrics=['accuracy'])\n",
    "\n",
    "history = model.fit(ag_x_train, ag_y_train, validation_split = 0.3, epochs=10, batch_size = 32) \n",
    "print(history)"
   ]
  },
  {
   "cell_type": "code",
   "execution_count": 116,
   "id": "8f06a52d",
   "metadata": {},
   "outputs": [
    {
     "data": {
      "image/png": "[encoded data removed]",
      "text/plain": [
       "<Figure size 1008x360 with 2 Axes>"
      ]
     },
     "metadata": {
      "needs_background": "light"
     },
     "output_type": "display_data"
    }
   ],
   "source": [
    "#정확도\n",
    "plt.figure(figsize=(14,5))\n",
    "plt.subplot(121)\n",
    "plt.plot(history.history['accuracy'])\n",
    "plt.plot(history.history['val_accuracy'])\n",
    "plt.title('Model accuracy')\n",
    "plt.xlabel('Epoch')\n",
    "plt.ylabel('Accuracy')\n",
    "plt.legend(['Train', 'val'], loc='upper left')\n",
    "\n",
    "#loss\n",
    "plt.subplot(122)\n",
    "plt.plot(history.history['loss'])\n",
    "plt.plot(history.history['val_loss'])\n",
    "plt.title('Model loss')\n",
    "plt.xlabel('Epoch')\n",
    "plt.ylabel('Loss')\n",
    "plt.legend(['Train', 'val'], loc='upper left')\n",
    "plt.show()"
   ]
  },
  {
   "cell_type": "code",
   "execution_count": 117,
   "id": "42ddaa00",
   "metadata": {},
   "outputs": [
    {
     "name": "stdout",
     "output_type": "stream",
     "text": [
      "10/10 - 0s - loss: 0.5612 - accuracy: 0.8067\n",
      "test_loss: 0.5612015724182129\n",
      "test_accuracy: 0.8066666722297668\n"
     ]
    }
   ],
   "source": [
    "test_loss, test_accuracy = model.evaluate(x_test,y_test, verbose=2)\n",
    "print(f\"test_loss: {test_loss}\")\n",
    "print(f\"test_accuracy: {test_accuracy}\")"
   ]
  },
  {
   "cell_type": "markdown",
   "id": "bcb4190b",
   "metadata": {},
   "source": [
    "# 전체 회고\n",
    "- 케라스 모델을 이용하여 이미지 분류 모델을 만들어보았음\n",
    "- 학습데이터와 layer를 추가하여 루브릭 조건을 달성할 수 있었지만, 추가적인 방법들을 적용하여 73%의 정확도를 달성하였음\n",
    "- 이번 exploration은 데이터를 내가 직접 만들었다는 것이 재미가 있었음\n",
    "- 이미지를 많이 다뤄보지 않았지만, 이미지도 다루다 보니 재미가 있다는 생각이 들었음\n",
    "- 성능을 올리기 위하여 다양한 방법들을 생각하고 시도하느라 모델과 함수를 수정하는것이 재미있었음\n",
    "- 시각화를 했을때, 저런 그래프 모양이 나오면 학습이 제대로 되지 않은 것이 아닌가 하는 생각이 듬\n",
    "- 하지만 test set의 결과는 좋게 나오는게 이상함\n",
    "- 좀 더 공부가 필요하다고 생각됨\n",
    "- 데이터를 증강시키는 코드를 효율적으로 만들지 못해서 조금은 아쉬움\n",
    "- 딥러닝은 학습 데이터가 많은 것이 과적합을 방지할 수 있는 첫번째인것 같고, 추가적으로 dropout 등의 기술도 중요하다고 생각됨\n",
    "- 이번 exploration을 하면서 이미지 딥러닝에 대해 스스로 찾아보고 공부할 수 있었으며, 모델을 설계하는 방법이나 과적합을 방지하는 방법 등을 아직 완벽하게 이해한것은 아니지만, 공부할 수 있어서 좋았음"
   ]
  },
  {
   "cell_type": "code",
   "execution_count": null,
   "id": "4acfd111",
   "metadata": {},
   "outputs": [],
   "source": []
  }
 ],
 "metadata": {
  "kernelspec": {
   "display_name": "Python 3 (ipykernel)",
   "language": "python",
   "name": "python3"
  },
  "language_info": {
   "codemirror_mode": {
    "name": "ipython",
    "version": 3
   },
   "file_extension": ".py",
   "mimetype": "text/x-python",
   "name": "python",
   "nbconvert_exporter": "python",
   "pygments_lexer": "ipython3",
   "version": "3.9.7"
  }
 },
 "nbformat": 4,
 "nbformat_minor": 5
}
