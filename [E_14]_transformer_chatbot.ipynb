{
 "cells": [
  {
   "cell_type": "markdown",
   "id": "19ccdb64",
   "metadata": {},
   "source": [
    "# 평가 조건\n",
    "1. 한국어 전처리를 통해 학습 데이터셋을 구축하였다.\t\n",
    "    - 공백과 특수문자 처리, 토크나이징, 병렬데이터 구축의 과정이 적절히 진행되었다.\n",
    "2. 트랜스포머 모델을 구현하여 한국어 챗봇 모델 학습을 정상적으로 진행하였다.\n",
    "    - 구현한 트랜스포머 모델이 한국어 병렬 데이터 학습 시 안정적으로 수렴하였다.\n",
    "3. 한국어 입력문장에 대해 한국어로 답변하는 함수를 구현하였다.\n",
    "    - 한국어 입력문장에 맥락에 맞는 한국어로 답변을 리턴하였다."
   ]
  },
  {
   "cell_type": "markdown",
   "id": "bd2f4666",
   "metadata": {},
   "source": [
    "# 모듈 임포트"
   ]
  },
  {
   "cell_type": "code",
   "execution_count": 1,
   "id": "307bdbbf",
   "metadata": {},
   "outputs": [],
   "source": [
    "import tensorflow as tf\n",
    "import os\n",
    "import re\n",
    "import numpy as np\n",
    "import pandas as pd\n",
    "from tqdm import tqdm\n",
    "import tensorflow_datasets as tfds\n",
    "from tensorflow.keras.utils import plot_model\n",
    "\n",
    "import matplotlib.pyplot as plt"
   ]
  },
  {
   "cell_type": "markdown",
   "id": "109e1ea2",
   "metadata": {},
   "source": [
    "# 데이터 불러오기"
   ]
  },
  {
   "cell_type": "code",
   "execution_count": 2,
   "id": "173d1645",
   "metadata": {},
   "outputs": [
    {
     "data": {
      "text/html": [
       "<div>\n",
       "<style scoped>\n",
       "    .dataframe tbody tr th:only-of-type {\n",
       "        vertical-align: middle;\n",
       "    }\n",
       "\n",
       "    .dataframe tbody tr th {\n",
       "        vertical-align: top;\n",
       "    }\n",
       "\n",
       "    .dataframe thead th {\n",
       "        text-align: right;\n",
       "    }\n",
       "</style>\n",
       "<table border=\"1\" class=\"dataframe\">\n",
       "  <thead>\n",
       "    <tr style=\"text-align: right;\">\n",
       "      <th></th>\n",
       "      <th>Q</th>\n",
       "      <th>A</th>\n",
       "      <th>label</th>\n",
       "    </tr>\n",
       "  </thead>\n",
       "  <tbody>\n",
       "    <tr>\n",
       "      <th>11818</th>\n",
       "      <td>훔쳐보는 것도 눈치 보임.</td>\n",
       "      <td>티가 나니까 눈치가 보이는 거죠!</td>\n",
       "      <td>2</td>\n",
       "    </tr>\n",
       "    <tr>\n",
       "      <th>11819</th>\n",
       "      <td>훔쳐보는 것도 눈치 보임.</td>\n",
       "      <td>훔쳐보는 거 티나나봐요.</td>\n",
       "      <td>2</td>\n",
       "    </tr>\n",
       "    <tr>\n",
       "      <th>11820</th>\n",
       "      <td>흑기사 해주는 짝남.</td>\n",
       "      <td>설렜겠어요.</td>\n",
       "      <td>2</td>\n",
       "    </tr>\n",
       "    <tr>\n",
       "      <th>11821</th>\n",
       "      <td>힘든 연애 좋은 연애라는게 무슨 차이일까?</td>\n",
       "      <td>잘 헤어질 수 있는 사이 여부인 거 같아요.</td>\n",
       "      <td>2</td>\n",
       "    </tr>\n",
       "    <tr>\n",
       "      <th>11822</th>\n",
       "      <td>힘들어서 결혼할까봐</td>\n",
       "      <td>도피성 결혼은 하지 않길 바라요.</td>\n",
       "      <td>2</td>\n",
       "    </tr>\n",
       "  </tbody>\n",
       "</table>\n",
       "</div>"
      ],
      "text/plain": [
       "                             Q                         A  label\n",
       "11818           훔쳐보는 것도 눈치 보임.        티가 나니까 눈치가 보이는 거죠!      2\n",
       "11819           훔쳐보는 것도 눈치 보임.             훔쳐보는 거 티나나봐요.      2\n",
       "11820              흑기사 해주는 짝남.                    설렜겠어요.      2\n",
       "11821  힘든 연애 좋은 연애라는게 무슨 차이일까?  잘 헤어질 수 있는 사이 여부인 거 같아요.      2\n",
       "11822               힘들어서 결혼할까봐        도피성 결혼은 하지 않길 바라요.      2"
      ]
     },
     "execution_count": 2,
     "metadata": {},
     "output_type": "execute_result"
    }
   ],
   "source": [
    "chatbot_file_path=os.getenv('HOME') + '/aiffel/transformer_chatbot/data/ChatbotData .csv'\n",
    "data = pd.read_csv(chatbot_file_path, encoding = 'utf-8')\n",
    "data.tail()"
   ]
  },
  {
   "cell_type": "code",
   "execution_count": 3,
   "id": "bb220f36",
   "metadata": {},
   "outputs": [
    {
     "data": {
      "text/plain": [
       "11823"
      ]
     },
     "execution_count": 3,
     "metadata": {},
     "output_type": "execute_result"
    }
   ],
   "source": [
    "len(data)"
   ]
  },
  {
   "cell_type": "markdown",
   "id": "482def15",
   "metadata": {},
   "source": [
    "- 데이터는 총 11823개가 있습니다."
   ]
  },
  {
   "cell_type": "code",
   "execution_count": 4,
   "id": "dd48e5f3",
   "metadata": {},
   "outputs": [
    {
     "data": {
      "text/plain": [
       "Q        0\n",
       "A        0\n",
       "label    0\n",
       "dtype: int64"
      ]
     },
     "execution_count": 4,
     "metadata": {},
     "output_type": "execute_result"
    }
   ],
   "source": [
    "data.isna().sum()"
   ]
  },
  {
   "cell_type": "markdown",
   "id": "29ad7aa3",
   "metadata": {},
   "source": [
    "- 데이터에 결측치는 없는것으로 확인됩니다."
   ]
  },
  {
   "cell_type": "markdown",
   "id": "2e5cccd6",
   "metadata": {},
   "source": [
    "# 데이터 전처리하기 "
   ]
  },
  {
   "cell_type": "code",
   "execution_count": 5,
   "id": "d75f5064",
   "metadata": {},
   "outputs": [],
   "source": [
    "# 전처리 함수\n",
    "def preprocess_data(data):\n",
    "    \n",
    "    questions = []\n",
    "    \n",
    "    for sentence in tqdm(data['Q']):\n",
    "        # 예를 들어서 \"흑기사 해주는 짝남.\" => \"흑기사 해주는 짝남 .\"와 같이 짝남과 온점 사이에 공백을 만들어줌\n",
    "        sentence = re.sub(r\"([?.!,])\", r\" \\1 \", sentence)\n",
    "        sentence = re.sub(r'[\" \"]+', \" \", sentence) #여러개의 공백을 하나의 공백으로 만들어줌\n",
    "        sentence = sentence.strip()\n",
    "        questions.append(sentence)\n",
    "        \n",
    "    answers = []\n",
    "    \n",
    "    for sentence in tqdm(data['A']):\n",
    "        # 예를 들어서 \"흑기사 해주는 짝남.\" => \"흑기사 해주는 짝남 .\"와 같이 짝남과 온점 사이에 공백을 만들어줌\n",
    "        sentence = re.sub(r\"([?.!,])\", r\" \\1 \", sentence)\n",
    "        sentence = re.sub(r'[\" \"]+', \" \", sentence) #여러개의 공백을 하나의 공백으로 만들어줌\n",
    "        sentence = sentence.strip()\n",
    "        answers.append(sentence)\n",
    "    \n",
    "    return questions, answers"
   ]
  },
  {
   "cell_type": "code",
   "execution_count": 6,
   "id": "8c5defc5",
   "metadata": {},
   "outputs": [
    {
     "name": "stderr",
     "output_type": "stream",
     "text": [
      "100%|██████████| 11823/11823 [00:00<00:00, 211106.15it/s]\n",
      "100%|██████████| 11823/11823 [00:00<00:00, 174498.23it/s]\n"
     ]
    }
   ],
   "source": [
    "questions_data, answers_data = preprocess_data(data)"
   ]
  },
  {
   "cell_type": "code",
   "execution_count": 7,
   "id": "740dfcd3",
   "metadata": {},
   "outputs": [
    {
     "name": "stdout",
     "output_type": "stream",
     "text": [
      "전처리 후의 1번째 질문 샘플: 12시 땡 !\n",
      "전처리 후의 1번째 답변 샘플: 하루가 또 가네요 .\n"
     ]
    }
   ],
   "source": [
    "print('전처리 후의 1번째 질문 샘플: {}'.format(questions_data[0]))\n",
    "print('전처리 후의 1번째 답변 샘플: {}'.format(answers_data[0]))"
   ]
  },
  {
   "cell_type": "markdown",
   "id": "56af9582",
   "metadata": {},
   "source": [
    "- 전처리가 잘된것을 볼 수 있습니다."
   ]
  },
  {
   "cell_type": "markdown",
   "id": "a638619c",
   "metadata": {},
   "source": [
    "# 단어사전 만들기"
   ]
  },
  {
   "cell_type": "code",
   "execution_count": 8,
   "id": "35b14af6",
   "metadata": {},
   "outputs": [],
   "source": [
    "tokenizer = tfds.deprecated.text.SubwordTextEncoder.build_from_corpus(questions_data + answers_data, target_vocab_size=2**13)"
   ]
  },
  {
   "cell_type": "markdown",
   "id": "6054b7e5",
   "metadata": {},
   "source": [
    "- tfds.deprecated.text.SubwordTextEncoder.build_from_corpus는 TensorFlow Datasets의 SubwordTextEncoder 클래스를 사용하여 주어진 코퍼스(corpus)로부터 Subword 토크나이저를 만드는 함수입니다.\n",
    "- Subword 토크나이저는 단어를 하위 단위(Subword)로 분해하는 기법입니다. 이를 통해, 희귀 단어나 미등록어(out-of-vocabulary) 문제를 해결할 수 있습니다. SubwordTextEncoder 클래스는 Byte Pair Encoding(BPE) 알고리즘을 사용하여 Subword 토크나이저를 생성합니다."
   ]
  },
  {
   "cell_type": "code",
   "execution_count": 9,
   "id": "1c400cee",
   "metadata": {},
   "outputs": [
    {
     "name": "stdout",
     "output_type": "stream",
     "text": [
      "START_TOKEN의 번호 : [8173]\n",
      "END_TOKEN의 번호 : [8174]\n"
     ]
    }
   ],
   "source": [
    "# 시작 토큰과 종료 토큰에 고유한 정수를 부여\n",
    "START_TOKEN, END_TOKEN = [tokenizer.vocab_size], [tokenizer.vocab_size + 1]\n",
    "\n",
    "print('START_TOKEN의 번호 :' ,[tokenizer.vocab_size])\n",
    "print('END_TOKEN의 번호 :' ,[tokenizer.vocab_size + 1])"
   ]
  },
  {
   "cell_type": "code",
   "execution_count": 10,
   "id": "c9dce053",
   "metadata": {},
   "outputs": [
    {
     "name": "stdout",
     "output_type": "stream",
     "text": [
      "8175\n"
     ]
    }
   ],
   "source": [
    "# 시작 토큰과 종료 토큰을 고려하여 +2를 하여 단어장의 크기를 산정\n",
    "VOCAB_SIZE = tokenizer.vocab_size + 2\n",
    "print(VOCAB_SIZE)"
   ]
  },
  {
   "cell_type": "code",
   "execution_count": 11,
   "id": "1e0a46d9",
   "metadata": {},
   "outputs": [
    {
     "name": "stdout",
     "output_type": "stream",
     "text": [
      "정수 인코딩 후의 77번째 질문 샘플: [80, 158, 4661, 1552, 26]\n",
      "정수 인코딩 후의 77번째 답변 샘플: [6131, 2694, 31, 44, 1]\n"
     ]
    }
   ],
   "source": [
    "# 각 토큰을 고유한 정수로 변환\n",
    "print('정수 인코딩 후의 77번째 질문 샘플: {}'.format(tokenizer.encode(questions_data[77])))\n",
    "print('정수 인코딩 후의 77번째 답변 샘플: {}'.format(tokenizer.encode(answers_data[77])))"
   ]
  },
  {
   "cell_type": "code",
   "execution_count": 12,
   "id": "1b26899b",
   "metadata": {},
   "outputs": [
    {
     "name": "stdout",
     "output_type": "stream",
     "text": [
      "정수 디코딩 후의 77번째 질문 샘플: 같이 있으면 힘든데 붙잡고 싶어\n",
      "정수 디코딩 후의 77번째 답변 샘플: 질질 끌지 마세요 .\n"
     ]
    }
   ],
   "source": [
    "#정수로 변환된 것을 다시 디코딩하여 원래의 문장으로 변환\n",
    "print('정수 디코딩 후의 77번째 질문 샘플: {}'.format(tokenizer.decode([80, 158, 4661, 1552, 26])))\n",
    "print('정수 디코딩 후의 77번째 답변 샘플: {}'.format(tokenizer.decode([6131, 2694, 31, 44, 1])))"
   ]
  },
  {
   "cell_type": "markdown",
   "id": "411344a3",
   "metadata": {},
   "source": [
    "- 인코딩과 디코딩이 잘 되는것으로 보아 토큰화가 제대로 수행된것을 알 수 있습니다."
   ]
  },
  {
   "cell_type": "markdown",
   "id": "5fff0cf7",
   "metadata": {},
   "source": [
    "# 데이터 패딩하기"
   ]
  },
  {
   "cell_type": "code",
   "execution_count": 13,
   "id": "ec89c98d",
   "metadata": {},
   "outputs": [
    {
     "name": "stdout",
     "output_type": "stream",
     "text": [
      "질문 최소 길이: 1\n",
      "질문 평균 길이: 3.9402858834475176\n",
      "질문 최대 길이: 16\n",
      "---------------------------------------------------------------------------\n",
      "답변 최소 길이: 1\n",
      "답변 평균 길이: 4.71589275141673\n",
      "답변 최대 길이: 24\n"
     ]
    },
    {
     "data": {
      "image/png": "[encoded data removed]",
      "text/plain": [
       "<Figure size 432x288 with 2 Axes>"
      ]
     },
     "metadata": {
      "needs_background": "light"
     },
     "output_type": "display_data"
    },
    {
     "data": {
      "image/png": "[encoded data removed]",
      "text/plain": [
       "<Figure size 432x288 with 1 Axes>"
      ]
     },
     "metadata": {
      "needs_background": "light"
     },
     "output_type": "display_data"
    },
    {
     "data": {
      "image/png": "[encoded data removed]",
      "text/plain": [
       "<Figure size 432x288 with 1 Axes>"
      ]
     },
     "metadata": {
      "needs_background": "light"
     },
     "output_type": "display_data"
    }
   ],
   "source": [
    "#길이 분포 출력\n",
    "\n",
    "question_len = [len(s.split()) for s in questions_data]\n",
    "answer_len = [len(s.split()) for s in answers_data]\n",
    "\n",
    "print('질문 최소 길이: {}'.format(np.min(question_len)))\n",
    "print('질문 평균 길이: {}'.format(np.mean(question_len)))\n",
    "print('질문 최대 길이: {}'.format(np.max(question_len)))\n",
    "print('-----'*15)\n",
    "print('답변 최소 길이: {}'.format(np.min(answer_len)))\n",
    "print('답변 평균 길이: {}'.format(np.mean(answer_len)))\n",
    "print('답변 최대 길이: {}'.format(np.max(answer_len)))\n",
    "\n",
    "plt.subplot(1,2,1)\n",
    "plt.boxplot(question_len)\n",
    "plt.title('question')\n",
    "plt.subplot(1,2,2)\n",
    "plt.boxplot(answer_len)\n",
    "plt.title('answer')\n",
    "plt.tight_layout()\n",
    "plt.show()\n",
    "\n",
    "plt.title('question')\n",
    "plt.hist(question_len, bins=40)\n",
    "plt.xlabel('length of samples')\n",
    "plt.ylabel('number of samples')\n",
    "plt.show()\n",
    "\n",
    "plt.title('answer')\n",
    "plt.hist(answer_len, bins = 40)\n",
    "plt.xlabel('length of samples')\n",
    "plt.ylabel('number of samples')\n",
    "plt.show()"
   ]
  },
  {
   "cell_type": "markdown",
   "id": "7d1e4d82",
   "metadata": {},
   "source": [
    "- 질문과 답변이 10이하에 많이 분포되어 있어서 max_len를 10으로 설정하고자 한다."
   ]
  },
  {
   "cell_type": "code",
   "execution_count": 14,
   "id": "ebacb662",
   "metadata": {},
   "outputs": [],
   "source": [
    "MAX_LENGTH = 10"
   ]
  },
  {
   "cell_type": "code",
   "execution_count": 15,
   "id": "043d9b2a",
   "metadata": {},
   "outputs": [],
   "source": [
    "def len_control(max_len, data_list):\n",
    "    c = 0\n",
    "    for s in data_list:\n",
    "        if len(s.split()) < max_len:\n",
    "            c += 1\n",
    "    print('전체 데이터 중 길이가 %s 이하인 샘플의 비율: %s'%(max_len, (c/len(data_list))))"
   ]
  },
  {
   "cell_type": "code",
   "execution_count": 16,
   "id": "224b93d7",
   "metadata": {},
   "outputs": [
    {
     "name": "stdout",
     "output_type": "stream",
     "text": [
      "전체 데이터 중 길이가 10 이하인 샘플의 비율: 0.9899348727057431\n",
      "전체 데이터 중 길이가 10 이하인 샘플의 비율: 0.9769939947559841\n"
     ]
    }
   ],
   "source": [
    "len_control(MAX_LENGTH, questions_data)\n",
    "len_control(MAX_LENGTH, answers_data)"
   ]
  },
  {
   "cell_type": "markdown",
   "id": "ac276c2d",
   "metadata": {},
   "source": [
    "- 길이가 10이하인 질문과 답변 모두 약 97%이상 되는것을 확인하였다.\n",
    "- 질문과 답변 앞 뒤로 start, end token을 넣어주고, max_len를 기준으로 패딩을 해주었다. "
   ]
  },
  {
   "cell_type": "code",
   "execution_count": 17,
   "id": "caf5e676",
   "metadata": {},
   "outputs": [],
   "source": [
    "def tokenize_and_filter(inputs, outputs):\n",
    "    tokenized_inputs, tokenized_outputs = [], []\n",
    "  \n",
    "    for (sentence1, sentence2) in tqdm(zip(inputs, outputs)):\n",
    "        # 정수 인코딩 과정에서 시작 토큰과 종료 토큰을 추가\n",
    "        sentence1 = START_TOKEN + tokenizer.encode(sentence1) + END_TOKEN\n",
    "        sentence2 = START_TOKEN + tokenizer.encode(sentence2) + END_TOKEN\n",
    "\n",
    "        # 최대 길이 10 이하인 경우에만 데이터셋으로 허용\n",
    "        if len(sentence1) <= MAX_LENGTH and len(sentence2) <= MAX_LENGTH:\n",
    "            tokenized_inputs.append(sentence1)\n",
    "            tokenized_outputs.append(sentence2)\n",
    "  \n",
    "    # 최대 길이 10으로 모든 데이터셋을 패딩\n",
    "    tokenized_inputs = tf.keras.preprocessing.sequence.pad_sequences(tokenized_inputs, maxlen=MAX_LENGTH, padding='post')\n",
    "    tokenized_outputs = tf.keras.preprocessing.sequence.pad_sequences(tokenized_outputs, maxlen=MAX_LENGTH, padding='post')\n",
    "  \n",
    "    return tokenized_inputs, tokenized_outputs"
   ]
  },
  {
   "cell_type": "code",
   "execution_count": 18,
   "id": "be3522dd",
   "metadata": {},
   "outputs": [
    {
     "name": "stderr",
     "output_type": "stream",
     "text": [
      "11823it [00:00, 26171.54it/s]"
     ]
    },
    {
     "name": "stdout",
     "output_type": "stream",
     "text": [
      "단어장의 크기 : 8175\n",
      "필터링 후의 질문 샘플 개수: 9098\n",
      "필터링 후의 답변 샘플 개수: 9098\n"
     ]
    },
    {
     "name": "stderr",
     "output_type": "stream",
     "text": [
      "\n"
     ]
    }
   ],
   "source": [
    "questions, answers = tokenize_and_filter(questions_data, answers_data)\n",
    "print('단어장의 크기 :',(VOCAB_SIZE))\n",
    "print('필터링 후의 질문 샘플 개수: {}'.format(len(questions)))\n",
    "print('필터링 후의 답변 샘플 개수: {}'.format(len(answers)))"
   ]
  },
  {
   "cell_type": "markdown",
   "id": "f186744c",
   "metadata": {},
   "source": [
    "- 11823개의 데이터에서 9098개의 데이터로 줄었다. \n",
    "- 길이가 10이하인 데이터들만 잘 모인것을 알 수 있다."
   ]
  },
  {
   "cell_type": "markdown",
   "id": "b35bcdd5",
   "metadata": {},
   "source": [
    "# 데이터 변환 및 셔플링"
   ]
  },
  {
   "cell_type": "code",
   "execution_count": 19,
   "id": "6b7aec51",
   "metadata": {},
   "outputs": [],
   "source": [
    "BATCH_SIZE = 128\n",
    "BUFFER_SIZE = len(questions)\n",
    "\n",
    "dataset = tf.data.Dataset.from_tensor_slices((\n",
    "    {\n",
    "        'inputs': questions,\n",
    "        'dec_inputs': answers[:, :-1]\n",
    "    },\n",
    "    {\n",
    "        'outputs': answers[:, 1:]\n",
    "    },\n",
    "))\n",
    "\n",
    "dataset = dataset.cache()\n",
    "dataset = dataset.shuffle(BUFFER_SIZE)\n",
    "dataset = dataset.batch(BATCH_SIZE)\n",
    "dataset = dataset.prefetch(tf.data.experimental.AUTOTUNE)"
   ]
  },
  {
   "cell_type": "markdown",
   "id": "0ba09fd7",
   "metadata": {},
   "source": [
    "# 모델 정의\n",
    "- 트랜스포머에 사용되는 함수들을 정의하도록 하겠습니다."
   ]
  },
  {
   "cell_type": "markdown",
   "id": "fa61d3b2",
   "metadata": {},
   "source": [
    "## 포지셔널 인코딩(PositionalEncoding)"
   ]
  },
  {
   "cell_type": "code",
   "execution_count": 20,
   "id": "747eeda8",
   "metadata": {},
   "outputs": [],
   "source": [
    "# 포지셔널 인코딩 레이어\n",
    "class PositionalEncoding(tf.keras.layers.Layer):\n",
    "\n",
    "    def __init__(self, position, d_model):\n",
    "        super(PositionalEncoding, self).__init__()\n",
    "        self.pos_encoding = self.positional_encoding(position, d_model)\n",
    "\n",
    "    def get_angles(self, position, i, d_model):\n",
    "        angles = 1 / tf.pow(10000, (2 * (i // 2)) / tf.cast(d_model, tf.float32))\n",
    "        return position * angles\n",
    "\n",
    "    def positional_encoding(self, position, d_model):\n",
    "        # 각도 배열 생성\n",
    "        angle_rads = self.get_angles(position=tf.range(position, dtype=tf.float32)[:, tf.newaxis],\n",
    "            i=tf.range(d_model, dtype=tf.float32)[tf.newaxis, :],\n",
    "            d_model=d_model)\n",
    "\n",
    "        # 배열의 짝수 인덱스에는 sin 함수 적용\n",
    "        sines = tf.math.sin(angle_rads[:, 0::2])\n",
    "        # 배열의 홀수 인덱스에는 cosine 함수 적용\n",
    "        cosines = tf.math.cos(angle_rads[:, 1::2])\n",
    "\n",
    "        # sin과 cosine이 교차되도록 재배열\n",
    "        pos_encoding = tf.stack([sines, cosines], axis=0)\n",
    "        pos_encoding = tf.transpose(pos_encoding,[1, 2, 0]) \n",
    "        pos_encoding = tf.reshape(pos_encoding, [position, d_model])\n",
    "\n",
    "        pos_encoding = pos_encoding[tf.newaxis, ...]\n",
    "        return tf.cast(pos_encoding, tf.float32)\n",
    "\n",
    "    def call(self, inputs):\n",
    "        return inputs + self.pos_encoding[:, :tf.shape(inputs)[1], :]"
   ]
  },
  {
   "cell_type": "markdown",
   "id": "f8efc538",
   "metadata": {},
   "source": [
    "## 스케일드 닷 프로덕트 어텐션(Scaled Dot Product Attention)"
   ]
  },
  {
   "cell_type": "code",
   "execution_count": 21,
   "id": "c234df72",
   "metadata": {},
   "outputs": [],
   "source": [
    "# 스케일드 닷 프로덕트 어텐션 함수\n",
    "def scaled_dot_product_attention(query, key, value, mask):\n",
    "    # 어텐션 가중치는 Q와 K의 닷 프로덕트\n",
    "    matmul_qk = tf.matmul(query, key, transpose_b=True)\n",
    "\n",
    "    # 가중치를 정규화\n",
    "    depth = tf.cast(tf.shape(key)[-1], tf.float32)\n",
    "    logits = matmul_qk / tf.math.sqrt(depth)\n",
    "\n",
    "    # 패딩에 마스크 추가\n",
    "    if mask is not None:\n",
    "        logits += (mask * -1e9)\n",
    "\n",
    "    # softmax적용\n",
    "    attention_weights = tf.nn.softmax(logits, axis=-1)\n",
    "\n",
    "    # 최종 어텐션은 가중치와 V의 닷 프로덕트\n",
    "    output = tf.matmul(attention_weights, value)\n",
    "    return output"
   ]
  },
  {
   "cell_type": "markdown",
   "id": "9fcfd336",
   "metadata": {},
   "source": [
    "## 멀티 헤드 어텐션(MultiHeadAttention)"
   ]
  },
  {
   "cell_type": "code",
   "execution_count": 22,
   "id": "7c26e564",
   "metadata": {},
   "outputs": [],
   "source": [
    "class MultiHeadAttention(tf.keras.layers.Layer):\n",
    "\n",
    "    def __init__(self, d_model, num_heads, name=\"multi_head_attention\"):\n",
    "        super(MultiHeadAttention, self).__init__(name=name)\n",
    "        self.num_heads = num_heads\n",
    "        self.d_model = d_model\n",
    "\n",
    "        assert d_model % self.num_heads == 0\n",
    "\n",
    "        self.depth = d_model // self.num_heads\n",
    "\n",
    "        self.query_dense = tf.keras.layers.Dense(units=d_model)\n",
    "        self.key_dense = tf.keras.layers.Dense(units=d_model)\n",
    "        self.value_dense = tf.keras.layers.Dense(units=d_model)\n",
    "\n",
    "        self.dense = tf.keras.layers.Dense(units=d_model)\n",
    "\n",
    "    def split_heads(self, inputs, batch_size):\n",
    "        inputs = tf.reshape(\n",
    "            inputs, shape=(batch_size, -1, self.num_heads, self.depth))\n",
    "        return tf.transpose(inputs, perm=[0, 2, 1, 3])\n",
    "\n",
    "    def call(self, inputs):\n",
    "        query, key, value, mask = inputs['query'], inputs['key'], inputs['value'], inputs['mask']\n",
    "        batch_size = tf.shape(query)[0]\n",
    "\n",
    "        # Q, K, V에 각각 Dense를 적용합니다\n",
    "        query = self.query_dense(query)\n",
    "        key = self.key_dense(key)\n",
    "        value = self.value_dense(value)\n",
    "\n",
    "        # 병렬 연산을 위한 머리를 여러 개 만듭니다\n",
    "        query = self.split_heads(query, batch_size)\n",
    "        key = self.split_heads(key, batch_size)\n",
    "        value = self.split_heads(value, batch_size)\n",
    "\n",
    "        # 스케일드 닷 프로덕트 어텐션 함수\n",
    "        scaled_attention = scaled_dot_product_attention(query, key, value, mask)\n",
    "\n",
    "        scaled_attention = tf.transpose(scaled_attention, perm=[0, 2, 1, 3])\n",
    "\n",
    "        # 어텐션 연산 후에 각 결과를 다시 연결(concatenate)합니다\n",
    "        concat_attention = tf.reshape(scaled_attention,(batch_size, -1, self.d_model))\n",
    "\n",
    "        # 최종 결과에도 Dense를 한 번 더 적용합니다\n",
    "        outputs = self.dense(concat_attention)\n",
    "\n",
    "        return outputs"
   ]
  },
  {
   "cell_type": "markdown",
   "id": "b2a85571",
   "metadata": {},
   "source": [
    "## 패딩 마스킹(padding_mask)"
   ]
  },
  {
   "cell_type": "code",
   "execution_count": 23,
   "id": "e2aea538",
   "metadata": {},
   "outputs": [],
   "source": [
    "def create_padding_mask(x):\n",
    "    mask = tf.cast(tf.math.equal(x, 0), tf.float32)\n",
    "    # (batch_size, 1, 1, sequence length)\n",
    "    return mask[:, tf.newaxis, tf.newaxis, :]"
   ]
  },
  {
   "cell_type": "markdown",
   "id": "8c0cbf63",
   "metadata": {},
   "source": [
    "## 룩 어헤드 마스킹(look_ahead_mask)"
   ]
  },
  {
   "cell_type": "code",
   "execution_count": 24,
   "id": "46aa6ce4",
   "metadata": {},
   "outputs": [],
   "source": [
    "def create_look_ahead_mask(x):\n",
    "    seq_len = tf.shape(x)[1]\n",
    "    look_ahead_mask = 1 - tf.linalg.band_part(tf.ones((seq_len, seq_len)), -1, 0)\n",
    "    padding_mask = create_padding_mask(x)\n",
    "    return tf.maximum(look_ahead_mask, padding_mask)"
   ]
  },
  {
   "cell_type": "markdown",
   "id": "6686e005",
   "metadata": {},
   "source": [
    "## 인코더(encoder_layer)"
   ]
  },
  {
   "cell_type": "code",
   "execution_count": 25,
   "id": "6295f374",
   "metadata": {},
   "outputs": [],
   "source": [
    "# 인코더 하나의 레이어를 함수로 구현.\n",
    "# 이 하나의 레이어 안에는 두 개의 서브 레이어가 존재합니다.\n",
    "def encoder_layer(units, d_model, num_heads, dropout, name=\"encoder_layer\"):\n",
    "    inputs = tf.keras.Input(shape=(None, d_model), name=\"inputs\")\n",
    "\n",
    "    # 패딩 마스크 사용\n",
    "    padding_mask = tf.keras.Input(shape=(1, 1, None), name=\"padding_mask\")\n",
    "\n",
    "    # 첫 번째 서브 레이어 : 멀티 헤드 어텐션 수행 (셀프 어텐션)\n",
    "    attention = MultiHeadAttention(\n",
    "            d_model, num_heads, name=\"attention\")({\n",
    "              'query': inputs,\n",
    "              'key': inputs,\n",
    "              'value': inputs,\n",
    "              'mask': padding_mask\n",
    "          })\n",
    "\n",
    "    # 어텐션의 결과는 Dropout과 Layer Normalization이라는 훈련을 돕는 테크닉을 수행\n",
    "    attention = tf.keras.layers.Dropout(rate=dropout)(attention)\n",
    "    attention = tf.keras.layers.LayerNormalization(epsilon=1e-6)(inputs + attention)\n",
    "\n",
    "    # 두 번째 서브 레이어 : 2개의 완전연결층\n",
    "    outputs = tf.keras.layers.Dense(units=units, activation='relu')(attention)\n",
    "    outputs = tf.keras.layers.Dense(units=d_model)(outputs)\n",
    "\n",
    "    # 완전연결층의 결과는 Dropout과 LayerNormalization이라는 훈련을 돕는 테크닉을 수행\n",
    "    outputs = tf.keras.layers.Dropout(rate=dropout)(outputs)\n",
    "    outputs = tf.keras.layers.LayerNormalization(epsilon=1e-6)(attention + outputs)\n",
    "\n",
    "    return tf.keras.Model(inputs=[inputs, padding_mask], outputs=outputs, name=name)"
   ]
  },
  {
   "cell_type": "code",
   "execution_count": 26,
   "id": "ecc56289",
   "metadata": {},
   "outputs": [],
   "source": [
    "def encoder(vocab_size,\n",
    "            num_layers,\n",
    "            units,\n",
    "            d_model,\n",
    "            num_heads,\n",
    "            dropout,\n",
    "            name=\"encoder\"):\n",
    "    inputs = tf.keras.Input(shape=(None,), name=\"inputs\")\n",
    "\n",
    "    # 패딩 마스크 사용\n",
    "    padding_mask = tf.keras.Input(shape=(1, 1, None), name=\"padding_mask\")\n",
    "\n",
    "    # 임베딩 레이어\n",
    "    embeddings = tf.keras.layers.Embedding(vocab_size, d_model)(inputs)\n",
    "    embeddings *= tf.math.sqrt(tf.cast(d_model, tf.float32))\n",
    "\n",
    "    # 포지셔널 인코딩\n",
    "    embeddings = PositionalEncoding(vocab_size, d_model)(embeddings)\n",
    "\n",
    "    outputs = tf.keras.layers.Dropout(rate=dropout)(embeddings)\n",
    "\n",
    "    # num_layers만큼 쌓아올린 인코더의 층.\n",
    "    for i in range(num_layers):\n",
    "        outputs = encoder_layer(\n",
    "            units=units,\n",
    "            d_model=d_model,\n",
    "            num_heads=num_heads,\n",
    "            dropout=dropout,\n",
    "            name=\"encoder_layer_{}\".format(i),\n",
    "        )([outputs, padding_mask])\n",
    "\n",
    "    return tf.keras.Model(inputs=[inputs, padding_mask], outputs=outputs, name=name)"
   ]
  },
  {
   "cell_type": "markdown",
   "id": "85192919",
   "metadata": {},
   "source": [
    "## 디코더(decoder_layer)"
   ]
  },
  {
   "cell_type": "code",
   "execution_count": 27,
   "id": "3ab17a06",
   "metadata": {},
   "outputs": [],
   "source": [
    "# 디코더 하나의 레이어를 함수로 구현.\n",
    "# 이 하나의 레이어 안에는 세 개의 서브 레이어가 존재합니다.\n",
    "def decoder_layer(units, d_model, num_heads, dropout, name=\"decoder_layer\"):\n",
    "    inputs = tf.keras.Input(shape=(None, d_model), name=\"inputs\")\n",
    "    enc_outputs = tf.keras.Input(shape=(None, d_model), name=\"encoder_outputs\")\n",
    "    look_ahead_mask = tf.keras.Input(\n",
    "      shape=(1, None, None), name=\"look_ahead_mask\")\n",
    "    padding_mask = tf.keras.Input(shape=(1, 1, None), name='padding_mask')\n",
    "\n",
    "    # 첫 번째 서브 레이어 : 멀티 헤드 어텐션 수행 (셀프 어텐션)\n",
    "    attention1 = MultiHeadAttention(\n",
    "      d_model, num_heads, name=\"attention_1\")(inputs={\n",
    "          'query': inputs,\n",
    "          'key': inputs,\n",
    "          'value': inputs,\n",
    "          'mask': look_ahead_mask\n",
    "      })\n",
    "\n",
    "    # 멀티 헤드 어텐션의 결과는 LayerNormalization이라는 훈련을 돕는 테크닉을 수행\n",
    "    attention1 = tf.keras.layers.LayerNormalization(epsilon=1e-6)(attention1 + inputs)\n",
    "\n",
    "    # 두 번째 서브 레이어 : 마스크드 멀티 헤드 어텐션 수행 (인코더-디코더 어텐션)\n",
    "    attention2 = MultiHeadAttention(\n",
    "      d_model, num_heads, name=\"attention_2\")(inputs={\n",
    "          'query': attention1,\n",
    "          'key': enc_outputs,\n",
    "          'value': enc_outputs,\n",
    "          'mask': padding_mask\n",
    "      })\n",
    "\n",
    "    # 마스크드 멀티 헤드 어텐션의 결과는\n",
    "    # Dropout과 LayerNormalization이라는 훈련을 돕는 테크닉을 수행\n",
    "    attention2 = tf.keras.layers.Dropout(rate=dropout)(attention2)\n",
    "    attention2 = tf.keras.layers.LayerNormalization(epsilon=1e-6)(attention2 + attention1)\n",
    "\n",
    "    # 세 번째 서브 레이어 : 2개의 완전연결층\n",
    "    outputs = tf.keras.layers.Dense(units=units, activation='relu')(attention2)\n",
    "    outputs = tf.keras.layers.Dense(units=d_model)(outputs)\n",
    "\n",
    "    # 완전연결층의 결과는 Dropout과 LayerNormalization 수행\n",
    "    outputs = tf.keras.layers.Dropout(rate=dropout)(outputs)\n",
    "    outputs = tf.keras.layers.LayerNormalization(epsilon=1e-6)(outputs + attention2)\n",
    "\n",
    "    return tf.keras.Model(\n",
    "      inputs=[inputs, enc_outputs, look_ahead_mask, padding_mask],\n",
    "      outputs=outputs,\n",
    "      name=name)"
   ]
  },
  {
   "cell_type": "code",
   "execution_count": 28,
   "id": "3d9783cc",
   "metadata": {},
   "outputs": [],
   "source": [
    "def decoder(vocab_size,\n",
    "            num_layers,\n",
    "            units,\n",
    "            d_model,\n",
    "            num_heads,\n",
    "            dropout,\n",
    "            name='decoder'):\n",
    "    inputs = tf.keras.Input(shape=(None,), name='inputs')\n",
    "    enc_outputs = tf.keras.Input(shape=(None, d_model), name='encoder_outputs')\n",
    "    look_ahead_mask = tf.keras.Input(\n",
    "      shape=(1, None, None), name='look_ahead_mask')\n",
    "\n",
    "    # 패딩 마스크\n",
    "    padding_mask = tf.keras.Input(shape=(1, 1, None), name='padding_mask')\n",
    "  \n",
    "    # 임베딩 레이어\n",
    "    embeddings = tf.keras.layers.Embedding(vocab_size, d_model)(inputs)\n",
    "    embeddings *= tf.math.sqrt(tf.cast(d_model, tf.float32))\n",
    "\n",
    "    # 포지셔널 인코딩\n",
    "    embeddings = PositionalEncoding(vocab_size, d_model)(embeddings)\n",
    "\n",
    "    # Dropout이라는 훈련을 돕는 테크닉을 수행\n",
    "    outputs = tf.keras.layers.Dropout(rate=dropout)(embeddings)\n",
    "\n",
    "    for i in range(num_layers):\n",
    "        outputs = decoder_layer(\n",
    "        units=units,\n",
    "        d_model=d_model,\n",
    "        num_heads=num_heads,\n",
    "        dropout=dropout,\n",
    "        name='decoder_layer_{}'.format(i),\n",
    "    )(inputs=[outputs, enc_outputs, look_ahead_mask, padding_mask])\n",
    "\n",
    "    return tf.keras.Model(\n",
    "      inputs=[inputs, enc_outputs, look_ahead_mask, padding_mask],\n",
    "      outputs=outputs,\n",
    "      name=name)"
   ]
  },
  {
   "cell_type": "markdown",
   "id": "4db5f659",
   "metadata": {},
   "source": [
    "## 트랜스포머(transformer)"
   ]
  },
  {
   "cell_type": "code",
   "execution_count": 29,
   "id": "06327a98",
   "metadata": {},
   "outputs": [],
   "source": [
    "def transformer(vocab_size,\n",
    "                num_layers,\n",
    "                units,\n",
    "                d_model,\n",
    "                num_heads,\n",
    "                dropout,\n",
    "                name=\"transformer\"):\n",
    "    inputs = tf.keras.Input(shape=(None,), name=\"inputs\")\n",
    "    dec_inputs = tf.keras.Input(shape=(None,), name=\"dec_inputs\")\n",
    "\n",
    "    # 인코더에서 패딩을 위한 마스크\n",
    "    enc_padding_mask = tf.keras.layers.Lambda(\n",
    "      create_padding_mask, output_shape=(1, 1, None),\n",
    "      name='enc_padding_mask')(inputs)\n",
    "\n",
    "    # 디코더에서 미래의 토큰을 마스크 하기 위해서 사용합니다.\n",
    "    # 내부적으로 패딩 마스크도 포함되어져 있습니다.\n",
    "    look_ahead_mask = tf.keras.layers.Lambda(\n",
    "      create_look_ahead_mask,\n",
    "      output_shape=(1, None, None),\n",
    "      name='look_ahead_mask')(dec_inputs)\n",
    "\n",
    "    # 두 번째 어텐션 블록에서 인코더의 벡터들을 마스킹\n",
    "    # 디코더에서 패딩을 위한 마스크\n",
    "    dec_padding_mask = tf.keras.layers.Lambda(\n",
    "      create_padding_mask, output_shape=(1, 1, None),\n",
    "      name='dec_padding_mask')(inputs)\n",
    "\n",
    "    # 인코더\n",
    "    enc_outputs = encoder(\n",
    "      vocab_size=vocab_size,\n",
    "      num_layers=num_layers,\n",
    "      units=units,\n",
    "      d_model=d_model,\n",
    "      num_heads=num_heads,\n",
    "      dropout=dropout,\n",
    "        )(inputs=[inputs, enc_padding_mask])\n",
    "\n",
    "    # 디코더\n",
    "    dec_outputs = decoder(\n",
    "      vocab_size=vocab_size,\n",
    "      num_layers=num_layers,\n",
    "      units=units,\n",
    "      d_model=d_model,\n",
    "      num_heads=num_heads,\n",
    "      dropout=dropout,\n",
    "        )(inputs=[dec_inputs, enc_outputs, look_ahead_mask, dec_padding_mask])\n",
    "\n",
    "    # 완전연결층\n",
    "    outputs = tf.keras.layers.Dense(units=vocab_size, name=\"outputs\")(dec_outputs)\n",
    "\n",
    "    return tf.keras.Model(inputs=[inputs, dec_inputs], outputs=outputs, name=name)"
   ]
  },
  {
   "cell_type": "code",
   "execution_count": 30,
   "id": "2c729c7c",
   "metadata": {},
   "outputs": [
    {
     "name": "stdout",
     "output_type": "stream",
     "text": [
      "Model: \"transformer\"\n",
      "__________________________________________________________________________________________________\n",
      "Layer (type)                    Output Shape         Param #     Connected to                     \n",
      "==================================================================================================\n",
      "inputs (InputLayer)             [(None, None)]       0                                            \n",
      "__________________________________________________________________________________________________\n",
      "dec_inputs (InputLayer)         [(None, None)]       0                                            \n",
      "__________________________________________________________________________________________________\n",
      "enc_padding_mask (Lambda)       (None, 1, 1, None)   0           inputs[0][0]                     \n",
      "__________________________________________________________________________________________________\n",
      "encoder (Functional)            (None, None, 256)    4201216     inputs[0][0]                     \n",
      "                                                                 enc_padding_mask[0][0]           \n",
      "__________________________________________________________________________________________________\n",
      "look_ahead_mask (Lambda)        (None, 1, None, None 0           dec_inputs[0][0]                 \n",
      "__________________________________________________________________________________________________\n",
      "dec_padding_mask (Lambda)       (None, 1, 1, None)   0           inputs[0][0]                     \n",
      "__________________________________________________________________________________________________\n",
      "decoder (Functional)            (None, None, 256)    5255936     dec_inputs[0][0]                 \n",
      "                                                                 encoder[0][0]                    \n",
      "                                                                 look_ahead_mask[0][0]            \n",
      "                                                                 dec_padding_mask[0][0]           \n",
      "__________________________________________________________________________________________________\n",
      "outputs (Dense)                 (None, None, 8175)   2100975     decoder[0][0]                    \n",
      "==================================================================================================\n",
      "Total params: 11,558,127\n",
      "Trainable params: 11,558,127\n",
      "Non-trainable params: 0\n",
      "__________________________________________________________________________________________________\n"
     ]
    }
   ],
   "source": [
    "tf.keras.backend.clear_session()\n",
    "\n",
    "# 하이퍼파라미터\n",
    "NUM_LAYERS = 4 # 인코더와 디코더의 층의 개수\n",
    "D_MODEL = 256 # 인코더와 디코더 내부의 입, 출력의 고정 차원\n",
    "NUM_HEADS = 8 # 멀티 헤드 어텐션에서의 헤드 수 \n",
    "UNITS = 512 # 피드 포워드 신경망의 은닉층의 크기\n",
    "DROPOUT = 0.3 # 드롭아웃의 비율\n",
    "\n",
    "model = transformer(\n",
    "    vocab_size=VOCAB_SIZE,\n",
    "    num_layers=NUM_LAYERS,\n",
    "    units=UNITS,\n",
    "    d_model=D_MODEL,\n",
    "    num_heads=NUM_HEADS,\n",
    "    dropout=DROPOUT)\n",
    "\n",
    "model.summary()"
   ]
  },
  {
   "cell_type": "code",
   "execution_count": 31,
   "id": "f44eb3ae",
   "metadata": {},
   "outputs": [
    {
     "data": {
      "image/png": "[encoded data removed]",
      "text/plain": [
       "<IPython.core.display.Image object>"
      ]
     },
     "execution_count": 31,
     "metadata": {},
     "output_type": "execute_result"
    }
   ],
   "source": [
    "plot_model(model, show_shapes=True)"
   ]
  },
  {
   "cell_type": "markdown",
   "id": "1b3da163",
   "metadata": {},
   "source": [
    "- 복잡해 보이지만 그래도 모델이 잘 만들어진것을 알 수 있습니다."
   ]
  },
  {
   "cell_type": "markdown",
   "id": "1f2e8457",
   "metadata": {},
   "source": [
    "### 손실함수"
   ]
  },
  {
   "cell_type": "code",
   "execution_count": 32,
   "id": "b08b30ae",
   "metadata": {},
   "outputs": [],
   "source": [
    "def loss_function(y_true, y_pred):\n",
    "    y_true = tf.reshape(y_true, shape=(-1, MAX_LENGTH - 1))\n",
    "  \n",
    "    loss = tf.keras.losses.SparseCategoricalCrossentropy(\n",
    "      from_logits=True, reduction='none')(y_true, y_pred)\n",
    "\n",
    "    mask = tf.cast(tf.not_equal(y_true, 0), tf.float32)\n",
    "    loss = tf.multiply(loss, mask)\n",
    "\n",
    "    return tf.reduce_mean(loss)"
   ]
  },
  {
   "cell_type": "markdown",
   "id": "a61e1fc7",
   "metadata": {},
   "source": [
    "### 커스텀 된 학습률(Learning rate)"
   ]
  },
  {
   "cell_type": "code",
   "execution_count": 33,
   "id": "c2043823",
   "metadata": {},
   "outputs": [],
   "source": [
    "class CustomSchedule(tf.keras.optimizers.schedules.LearningRateSchedule):\n",
    "\n",
    "    def __init__(self, d_model, warmup_steps=4000):\n",
    "        super(CustomSchedule, self).__init__()\n",
    "\n",
    "        self.d_model = d_model\n",
    "        self.d_model = tf.cast(self.d_model, tf.float32)\n",
    "\n",
    "        self.warmup_steps = warmup_steps\n",
    "\n",
    "    def __call__(self, step):\n",
    "        arg1 = tf.math.rsqrt(step)\n",
    "        arg2 = step * (self.warmup_steps**-1.5)\n",
    "\n",
    "        return tf.math.rsqrt(self.d_model) * tf.math.minimum(arg1, arg2)"
   ]
  },
  {
   "cell_type": "markdown",
   "id": "7e74ce60",
   "metadata": {},
   "source": [
    "### 모델 컴파일"
   ]
  },
  {
   "cell_type": "code",
   "execution_count": 34,
   "id": "70b377b5",
   "metadata": {},
   "outputs": [],
   "source": [
    "learning_rate = CustomSchedule(D_MODEL)\n",
    "\n",
    "optimizer = tf.keras.optimizers.Adam(\n",
    "    learning_rate, beta_1=0.9, beta_2=0.98, epsilon=1e-9)\n",
    "\n",
    "def accuracy(y_true, y_pred):\n",
    "    y_true = tf.reshape(y_true, shape=(-1, MAX_LENGTH - 1))\n",
    "    return tf.keras.metrics.sparse_categorical_accuracy(y_true, y_pred)\n",
    "\n",
    "model.compile(optimizer=optimizer, loss=loss_function, metrics=[accuracy])"
   ]
  },
  {
   "cell_type": "markdown",
   "id": "d06038aa",
   "metadata": {},
   "source": [
    "# 모델 훈련하기"
   ]
  },
  {
   "cell_type": "code",
   "execution_count": 35,
   "id": "720b5d50",
   "metadata": {},
   "outputs": [
    {
     "name": "stdout",
     "output_type": "stream",
     "text": [
      "Epoch 1/300\n",
      "72/72 [==============================] - 27s 61ms/step - loss: 5.8515 - accuracy: 0.0524\n",
      "Epoch 2/300\n",
      "72/72 [==============================] - 4s 60ms/step - loss: 5.4213 - accuracy: 0.1113\n",
      "Epoch 3/300\n",
      "72/72 [==============================] - 4s 59ms/step - loss: 5.0462 - accuracy: 0.1111\n",
      "Epoch 4/300\n",
      "72/72 [==============================] - 4s 59ms/step - loss: 4.5861 - accuracy: 0.1354\n",
      "Epoch 5/300\n",
      "72/72 [==============================] - 4s 59ms/step - loss: 4.0880 - accuracy: 0.2130\n",
      "Epoch 6/300\n",
      "72/72 [==============================] - 4s 59ms/step - loss: 3.8094 - accuracy: 0.2156\n",
      "Epoch 7/300\n",
      "72/72 [==============================] - 4s 60ms/step - loss: 3.6295 - accuracy: 0.2162\n",
      "Epoch 8/300\n",
      "72/72 [==============================] - 4s 59ms/step - loss: 3.4930 - accuracy: 0.2182\n",
      "Epoch 9/300\n",
      "72/72 [==============================] - 4s 59ms/step - loss: 3.3902 - accuracy: 0.2228\n",
      "Epoch 10/300\n",
      "72/72 [==============================] - 4s 59ms/step - loss: 3.3143 - accuracy: 0.2268\n",
      "Epoch 11/300\n",
      "72/72 [==============================] - 4s 59ms/step - loss: 3.2495 - accuracy: 0.2295\n",
      "Epoch 12/300\n",
      "72/72 [==============================] - 4s 59ms/step - loss: 3.1912 - accuracy: 0.2313\n",
      "Epoch 13/300\n",
      "72/72 [==============================] - 4s 60ms/step - loss: 3.1282 - accuracy: 0.2352\n",
      "Epoch 14/300\n",
      "72/72 [==============================] - 4s 59ms/step - loss: 3.0595 - accuracy: 0.2390\n",
      "Epoch 15/300\n",
      "72/72 [==============================] - 4s 59ms/step - loss: 2.9927 - accuracy: 0.2427\n",
      "Epoch 16/300\n",
      "72/72 [==============================] - 4s 59ms/step - loss: 2.9222 - accuracy: 0.2469\n",
      "Epoch 17/300\n",
      "72/72 [==============================] - 4s 60ms/step - loss: 2.8483 - accuracy: 0.2513\n",
      "Epoch 18/300\n",
      "72/72 [==============================] - 4s 59ms/step - loss: 2.7665 - accuracy: 0.2572\n",
      "Epoch 19/300\n",
      "72/72 [==============================] - 4s 59ms/step - loss: 2.6830 - accuracy: 0.2631\n",
      "Epoch 20/300\n",
      "72/72 [==============================] - 4s 59ms/step - loss: 2.5941 - accuracy: 0.2708\n",
      "Epoch 21/300\n",
      "72/72 [==============================] - 4s 60ms/step - loss: 2.5008 - accuracy: 0.2791\n",
      "Epoch 22/300\n",
      "72/72 [==============================] - 4s 60ms/step - loss: 2.3969 - accuracy: 0.2902\n",
      "Epoch 23/300\n",
      "72/72 [==============================] - 4s 60ms/step - loss: 2.2929 - accuracy: 0.3011\n",
      "Epoch 24/300\n",
      "72/72 [==============================] - 4s 59ms/step - loss: 2.1819 - accuracy: 0.3134\n",
      "Epoch 25/300\n",
      "72/72 [==============================] - 4s 60ms/step - loss: 2.0673 - accuracy: 0.3274\n",
      "Epoch 26/300\n",
      "72/72 [==============================] - 4s 59ms/step - loss: 1.9499 - accuracy: 0.3417\n",
      "Epoch 27/300\n",
      "72/72 [==============================] - 4s 59ms/step - loss: 1.8315 - accuracy: 0.3569\n",
      "Epoch 28/300\n",
      "72/72 [==============================] - 4s 60ms/step - loss: 1.7078 - accuracy: 0.3736\n",
      "Epoch 29/300\n",
      "72/72 [==============================] - 4s 60ms/step - loss: 1.5955 - accuracy: 0.3903\n",
      "Epoch 30/300\n",
      "72/72 [==============================] - 4s 59ms/step - loss: 1.4853 - accuracy: 0.4033\n",
      "Epoch 31/300\n",
      "72/72 [==============================] - 4s 60ms/step - loss: 1.3705 - accuracy: 0.4208\n",
      "Epoch 32/300\n",
      "72/72 [==============================] - 4s 60ms/step - loss: 1.2743 - accuracy: 0.4335\n",
      "Epoch 33/300\n",
      "72/72 [==============================] - 4s 59ms/step - loss: 1.1766 - accuracy: 0.4462\n",
      "Epoch 34/300\n",
      "72/72 [==============================] - 4s 60ms/step - loss: 1.0928 - accuracy: 0.4572\n",
      "Epoch 35/300\n",
      "72/72 [==============================] - 4s 59ms/step - loss: 1.0091 - accuracy: 0.4681\n",
      "Epoch 36/300\n",
      "72/72 [==============================] - 4s 61ms/step - loss: 0.9349 - accuracy: 0.4776\n",
      "Epoch 37/300\n",
      "72/72 [==============================] - 4s 60ms/step - loss: 0.8620 - accuracy: 0.4894\n",
      "Epoch 38/300\n",
      "72/72 [==============================] - 4s 60ms/step - loss: 0.8015 - accuracy: 0.4984\n",
      "Epoch 39/300\n",
      "72/72 [==============================] - 4s 60ms/step - loss: 0.7435 - accuracy: 0.5064\n",
      "Epoch 40/300\n",
      "72/72 [==============================] - 4s 60ms/step - loss: 0.6953 - accuracy: 0.5130\n",
      "Epoch 41/300\n",
      "72/72 [==============================] - 4s 60ms/step - loss: 0.6536 - accuracy: 0.5186\n",
      "Epoch 42/300\n",
      "72/72 [==============================] - 4s 60ms/step - loss: 0.6147 - accuracy: 0.5258\n",
      "Epoch 43/300\n",
      "72/72 [==============================] - 4s 60ms/step - loss: 0.5737 - accuracy: 0.5312\n",
      "Epoch 44/300\n",
      "72/72 [==============================] - 4s 60ms/step - loss: 0.5459 - accuracy: 0.5359\n",
      "Epoch 45/300\n",
      "72/72 [==============================] - 4s 60ms/step - loss: 0.5069 - accuracy: 0.5429\n",
      "Epoch 46/300\n",
      "72/72 [==============================] - 4s 60ms/step - loss: 0.4865 - accuracy: 0.5459\n",
      "Epoch 47/300\n",
      "72/72 [==============================] - 4s 59ms/step - loss: 0.4638 - accuracy: 0.5510\n",
      "Epoch 48/300\n",
      "72/72 [==============================] - 4s 60ms/step - loss: 0.4360 - accuracy: 0.5569\n",
      "Epoch 49/300\n",
      "72/72 [==============================] - 4s 59ms/step - loss: 0.4154 - accuracy: 0.5601\n",
      "Epoch 50/300\n",
      "72/72 [==============================] - 4s 61ms/step - loss: 0.4033 - accuracy: 0.5626\n",
      "Epoch 51/300\n",
      "72/72 [==============================] - 4s 59ms/step - loss: 0.3806 - accuracy: 0.5669\n",
      "Epoch 52/300\n",
      "72/72 [==============================] - 4s 60ms/step - loss: 0.3581 - accuracy: 0.5713\n",
      "Epoch 53/300\n",
      "72/72 [==============================] - 4s 60ms/step - loss: 0.3412 - accuracy: 0.5756\n",
      "Epoch 54/300\n",
      "72/72 [==============================] - 4s 60ms/step - loss: 0.3307 - accuracy: 0.5776\n",
      "Epoch 55/300\n",
      "72/72 [==============================] - 4s 60ms/step - loss: 0.3191 - accuracy: 0.5809\n",
      "Epoch 56/300\n",
      "72/72 [==============================] - 4s 60ms/step - loss: 0.3144 - accuracy: 0.5806\n",
      "Epoch 57/300\n",
      "72/72 [==============================] - 4s 60ms/step - loss: 0.2970 - accuracy: 0.5847\n",
      "Epoch 58/300\n",
      "72/72 [==============================] - 4s 60ms/step - loss: 0.2800 - accuracy: 0.5892\n",
      "Epoch 59/300\n",
      "72/72 [==============================] - 4s 60ms/step - loss: 0.2534 - accuracy: 0.5946\n",
      "Epoch 60/300\n",
      "72/72 [==============================] - 4s 59ms/step - loss: 0.2560 - accuracy: 0.5950\n",
      "Epoch 61/300\n",
      "72/72 [==============================] - 4s 59ms/step - loss: 0.2329 - accuracy: 0.6019\n",
      "Epoch 62/300\n",
      "72/72 [==============================] - 4s 59ms/step - loss: 0.2199 - accuracy: 0.6061\n",
      "Epoch 63/300\n",
      "72/72 [==============================] - 4s 59ms/step - loss: 0.2178 - accuracy: 0.6047\n",
      "Epoch 64/300\n",
      "72/72 [==============================] - 4s 59ms/step - loss: 0.2099 - accuracy: 0.6080\n",
      "Epoch 65/300\n",
      "72/72 [==============================] - 4s 58ms/step - loss: 0.1969 - accuracy: 0.6107\n",
      "Epoch 66/300\n",
      "72/72 [==============================] - 4s 59ms/step - loss: 0.1809 - accuracy: 0.6142\n",
      "Epoch 67/300\n",
      "72/72 [==============================] - 4s 59ms/step - loss: 0.1752 - accuracy: 0.6170\n",
      "Epoch 68/300\n",
      "72/72 [==============================] - 4s 58ms/step - loss: 0.1702 - accuracy: 0.6177\n",
      "Epoch 69/300\n",
      "72/72 [==============================] - 4s 59ms/step - loss: 0.1700 - accuracy: 0.6181\n",
      "Epoch 70/300\n",
      "72/72 [==============================] - 4s 59ms/step - loss: 0.1688 - accuracy: 0.6188\n",
      "Epoch 71/300\n",
      "72/72 [==============================] - 4s 59ms/step - loss: 0.1539 - accuracy: 0.6219\n",
      "Epoch 72/300\n",
      "72/72 [==============================] - 4s 59ms/step - loss: 0.1512 - accuracy: 0.6232\n",
      "Epoch 73/300\n",
      "72/72 [==============================] - 4s 59ms/step - loss: 0.1439 - accuracy: 0.6259\n",
      "Epoch 74/300\n",
      "72/72 [==============================] - 4s 59ms/step - loss: 0.1431 - accuracy: 0.6253\n",
      "Epoch 75/300\n",
      "72/72 [==============================] - 4s 59ms/step - loss: 0.1356 - accuracy: 0.6271\n",
      "Epoch 76/300\n",
      "72/72 [==============================] - 4s 59ms/step - loss: 0.1263 - accuracy: 0.6302\n",
      "Epoch 77/300\n",
      "72/72 [==============================] - 4s 58ms/step - loss: 0.1265 - accuracy: 0.6306\n",
      "Epoch 78/300\n",
      "72/72 [==============================] - 4s 59ms/step - loss: 0.1222 - accuracy: 0.6310\n",
      "Epoch 79/300\n",
      "72/72 [==============================] - 4s 58ms/step - loss: 0.1151 - accuracy: 0.6332\n",
      "Epoch 80/300\n",
      "72/72 [==============================] - 4s 59ms/step - loss: 0.1227 - accuracy: 0.6314\n",
      "Epoch 81/300\n",
      "72/72 [==============================] - 4s 59ms/step - loss: 0.1091 - accuracy: 0.6340\n",
      "Epoch 82/300\n"
     ]
    },
    {
     "name": "stdout",
     "output_type": "stream",
     "text": [
      "72/72 [==============================] - 4s 59ms/step - loss: 0.1127 - accuracy: 0.6334\n",
      "Epoch 83/300\n",
      "72/72 [==============================] - 4s 59ms/step - loss: 0.1024 - accuracy: 0.6371\n",
      "Epoch 84/300\n",
      "72/72 [==============================] - 4s 59ms/step - loss: 0.1029 - accuracy: 0.6370\n",
      "Epoch 85/300\n",
      "72/72 [==============================] - 4s 59ms/step - loss: 0.0988 - accuracy: 0.6375\n",
      "Epoch 86/300\n",
      "72/72 [==============================] - 4s 58ms/step - loss: 0.0973 - accuracy: 0.6375\n",
      "Epoch 87/300\n",
      "72/72 [==============================] - 4s 59ms/step - loss: 0.0919 - accuracy: 0.6392\n",
      "Epoch 88/300\n",
      "72/72 [==============================] - 4s 59ms/step - loss: 0.0962 - accuracy: 0.6383\n",
      "Epoch 89/300\n",
      "72/72 [==============================] - 4s 59ms/step - loss: 0.0904 - accuracy: 0.6397\n",
      "Epoch 90/300\n",
      "72/72 [==============================] - 4s 59ms/step - loss: 0.0880 - accuracy: 0.6400\n",
      "Epoch 91/300\n",
      "72/72 [==============================] - 4s 59ms/step - loss: 0.0856 - accuracy: 0.6409\n",
      "Epoch 92/300\n",
      "72/72 [==============================] - 4s 60ms/step - loss: 0.0833 - accuracy: 0.6419\n",
      "Epoch 93/300\n",
      "72/72 [==============================] - 4s 59ms/step - loss: 0.0826 - accuracy: 0.6421\n",
      "Epoch 94/300\n",
      "72/72 [==============================] - 4s 59ms/step - loss: 0.0790 - accuracy: 0.6436\n",
      "Epoch 95/300\n",
      "72/72 [==============================] - 4s 59ms/step - loss: 0.0829 - accuracy: 0.6419\n",
      "Epoch 96/300\n",
      "72/72 [==============================] - 4s 60ms/step - loss: 0.0766 - accuracy: 0.6440\n",
      "Epoch 97/300\n",
      "72/72 [==============================] - 4s 58ms/step - loss: 0.0765 - accuracy: 0.6442\n",
      "Epoch 98/300\n",
      "72/72 [==============================] - 4s 59ms/step - loss: 0.0762 - accuracy: 0.6444\n",
      "Epoch 99/300\n",
      "72/72 [==============================] - 4s 59ms/step - loss: 0.0747 - accuracy: 0.6443\n",
      "Epoch 100/300\n",
      "72/72 [==============================] - 4s 59ms/step - loss: 0.0718 - accuracy: 0.6452\n",
      "Epoch 101/300\n",
      "72/72 [==============================] - 4s 59ms/step - loss: 0.0749 - accuracy: 0.6443\n",
      "Epoch 102/300\n",
      "72/72 [==============================] - 4s 59ms/step - loss: 0.0733 - accuracy: 0.6453\n",
      "Restoring model weights from the end of the best epoch.\n",
      "Epoch 00102: early stopping\n"
     ]
    }
   ],
   "source": [
    "es = tf.keras.callbacks.EarlyStopping(monitor='loss', patience=2, verbose=1, restore_best_weights=True)\n",
    "\n",
    "EPOCHS = 300\n",
    "\n",
    "history = model.fit(dataset, epochs=EPOCHS, verbose=1, callbacks=[es])"
   ]
  },
  {
   "cell_type": "code",
   "execution_count": 37,
   "id": "78c775f2",
   "metadata": {},
   "outputs": [
    {
     "data": {
      "image/png": "[encoded data removed]",
      "text/plain": [
       "<Figure size 432x288 with 1 Axes>"
      ]
     },
     "metadata": {
      "needs_background": "light"
     },
     "output_type": "display_data"
    },
    {
     "data": {
      "image/png": "[encoded data removed]",
      "text/plain": [
       "<Figure size 432x288 with 1 Axes>"
      ]
     },
     "metadata": {
      "needs_background": "light"
     },
     "output_type": "display_data"
    }
   ],
   "source": [
    "history_dict = history.history\n",
    "\n",
    "acc = history_dict['accuracy']\n",
    "loss = history_dict['loss']\n",
    "\n",
    "his_epochs = range(1, len(loss) + 1)\n",
    "\n",
    "plt.plot(his_epochs, acc, 'r', label='Accuracy')\n",
    "plt.title('accuracy')\n",
    "plt.xlabel('Epochs')\n",
    "plt.ylabel('accuracy')\n",
    "plt.legend()\n",
    "\n",
    "plt.show()\n",
    "\n",
    "plt.clf() #그림 초기화\n",
    "\n",
    "plt.plot(his_epochs, loss, 'b', label='Loss')\n",
    "plt.title('Loss')\n",
    "plt.xlabel('Epochs')\n",
    "plt.ylabel('Loss')\n",
    "plt.legend()\n",
    "\n",
    "plt.show()"
   ]
  },
  {
   "cell_type": "markdown",
   "id": "b773a474",
   "metadata": {},
   "source": [
    "- accuracy는 우상향, loss는 우하향하는 모습을 보여주고 있습니다."
   ]
  },
  {
   "cell_type": "markdown",
   "id": "d030681b",
   "metadata": {},
   "source": [
    "# 챗봇 테스트하기"
   ]
  },
  {
   "cell_type": "code",
   "execution_count": 45,
   "id": "84314ab3",
   "metadata": {},
   "outputs": [],
   "source": [
    "def preprocess(sentence):\n",
    "    sentence = re.sub(r\"([?.!,])\", r\" \\1 \", sentence)\n",
    "    sentence = re.sub(r'[\" \"]+', \" \", sentence)\n",
    "    sentence = sentence.strip()\n",
    "    \n",
    "    return sentence"
   ]
  },
  {
   "cell_type": "code",
   "execution_count": 46,
   "id": "a47e273d",
   "metadata": {},
   "outputs": [],
   "source": [
    "def decoder_inference(sentence):\n",
    "    sentence = preprocess(sentence)\n",
    "\n",
    "    # 입력된 문장을 정수 인코딩 후, 시작 토큰과 종료 토큰을 앞뒤로 추가.\n",
    "    # ex) Where have you been? → [[8331   86   30    5 1059    7 8332]]\n",
    "    sentence = tf.expand_dims(START_TOKEN + tokenizer.encode(sentence) + END_TOKEN, axis=0)\n",
    "\n",
    "    # 디코더의 현재까지의 예측한 출력 시퀀스가 지속적으로 저장되는 변수.\n",
    "    # 처음에는 예측한 내용이 없음으로 시작 토큰만 별도 저장. ex) 8331\n",
    "    output_sequence = tf.expand_dims(START_TOKEN, 0)\n",
    "\n",
    "    # 디코더의 인퍼런스 단계\n",
    "    for i in range(MAX_LENGTH):\n",
    "        # 디코더는 최대 MAX_LENGTH의 길이만큼 다음 단어 예측을 반복합니다.\n",
    "        predictions = model(inputs=[sentence, output_sequence], training=False)\n",
    "        predictions = predictions[:, -1:, :]\n",
    "\n",
    "        # 현재 예측한 단어의 정수\n",
    "        predicted_id = tf.cast(tf.argmax(predictions, axis=-1), tf.int32)\n",
    "\n",
    "        # 만약 현재 예측한 단어가 종료 토큰이라면 for문을 종료\n",
    "        if tf.equal(predicted_id, END_TOKEN[0]):\n",
    "            break\n",
    "\n",
    "        # 예측한 단어들은 지속적으로 output_sequence에 추가됩니다.\n",
    "        # 이 output_sequence는 다시 디코더의 입력이 됩니다.\n",
    "        output_sequence = tf.concat([output_sequence, predicted_id], axis=-1)\n",
    "\n",
    "    return tf.squeeze(output_sequence, axis=0)"
   ]
  },
  {
   "cell_type": "code",
   "execution_count": 47,
   "id": "243c0aca",
   "metadata": {},
   "outputs": [],
   "source": [
    "def sentence_generation(sentence):\n",
    "    # 입력 문장에 대해서 디코더를 동작 시켜 예측된 정수 시퀀스를 리턴받습니다.\n",
    "    prediction = decoder_inference(sentence)\n",
    "\n",
    "    # 정수 시퀀스를 다시 텍스트 시퀀스로 변환합니다.\n",
    "    predicted_sentence = tokenizer.decode([i for i in prediction if i < tokenizer.vocab_size])\n",
    "\n",
    "    print('입력 : {}'.format(sentence))\n",
    "    print('출력 : {}'.format(predicted_sentence))\n",
    "\n",
    "    return predicted_sentence"
   ]
  },
  {
   "cell_type": "code",
   "execution_count": 48,
   "id": "a31f96d9",
   "metadata": {},
   "outputs": [
    {
     "name": "stdout",
     "output_type": "stream",
     "text": [
      "입력 : 오늘 점심 뭐먹지?\n",
      "출력 : 맛있는 거 드세요 .\n"
     ]
    },
    {
     "data": {
      "text/plain": [
       "'맛있는 거 드세요 .'"
      ]
     },
     "execution_count": 48,
     "metadata": {},
     "output_type": "execute_result"
    }
   ],
   "source": [
    "sentence_generation('오늘 점심 뭐먹지?')"
   ]
  },
  {
   "cell_type": "code",
   "execution_count": 57,
   "id": "18ec3e39",
   "metadata": {},
   "outputs": [
    {
     "name": "stdout",
     "output_type": "stream",
     "text": [
      "입력 : 다이어트 할거야\n",
      "출력 : 너무 무리하지는 마세요 .\n"
     ]
    },
    {
     "data": {
      "text/plain": [
       "'너무 무리하지는 마세요 .'"
      ]
     },
     "execution_count": 57,
     "metadata": {},
     "output_type": "execute_result"
    }
   ],
   "source": [
    "sentence_generation('다이어트 할거야')"
   ]
  },
  {
   "cell_type": "code",
   "execution_count": 61,
   "id": "5c3657c9",
   "metadata": {},
   "outputs": [
    {
     "name": "stdout",
     "output_type": "stream",
     "text": [
      "입력 : 오늘 점심 메뉴 추천해줘\n",
      "출력 : 냉장고 파먹기 해보세요 .\n"
     ]
    },
    {
     "data": {
      "text/plain": [
       "'냉장고 파먹기 해보세요 .'"
      ]
     },
     "execution_count": 61,
     "metadata": {},
     "output_type": "execute_result"
    }
   ],
   "source": [
    "sentence_generation('오늘 점심 메뉴 추천해줘')"
   ]
  },
  {
   "cell_type": "code",
   "execution_count": 62,
   "id": "e2c642ed",
   "metadata": {},
   "outputs": [
    {
     "name": "stdout",
     "output_type": "stream",
     "text": [
      "입력 : 학교 가기 귀찮아\n",
      "출력 : 학교 다닐 때가 좋은 거예요 .\n"
     ]
    },
    {
     "data": {
      "text/plain": [
       "'학교 다닐 때가 좋은 거예요 .'"
      ]
     },
     "execution_count": 62,
     "metadata": {},
     "output_type": "execute_result"
    }
   ],
   "source": [
    "sentence_generation('학교 가기 귀찮아')"
   ]
  },
  {
   "cell_type": "code",
   "execution_count": 65,
   "id": "395b677c",
   "metadata": {},
   "outputs": [
    {
     "name": "stdout",
     "output_type": "stream",
     "text": [
      "입력 : 등산하고 싶어\n",
      "출력 : 같이 등산해요 .\n"
     ]
    },
    {
     "data": {
      "text/plain": [
       "'같이 등산해요 .'"
      ]
     },
     "execution_count": 65,
     "metadata": {},
     "output_type": "execute_result"
    }
   ],
   "source": [
    "sentence_generation('등산하고 싶어')"
   ]
  },
  {
   "cell_type": "markdown",
   "id": "44bed576",
   "metadata": {},
   "source": [
    "- 생각보다 질문에 관련된 답변을 하는 것을 볼 수 있습니다."
   ]
  },
  {
   "cell_type": "markdown",
   "id": "93993655",
   "metadata": {},
   "source": [
    "# 전체 회고"
   ]
  },
  {
   "cell_type": "markdown",
   "id": "20693799",
   "metadata": {},
   "source": [
    "- 전체적으로 잘 진행된 프로젝트였습니다.\n",
    "- 평가 조건은 무리없이 달성했다고 생각합니다\n",
    "- 트랜스포머에 대한 이론적인 부분은 이해가 가지만, 코드적으로는 좀 더 공부를 해야겠다는 생각이 들었습니다.\n",
    "- 데이터의 질문과 답변이 다양했다면, 더 좋은 답변이 나올수도 있었다고 생각됩니다."
   ]
  },
  {
   "cell_type": "markdown",
   "id": "18e17ce4",
   "metadata": {},
   "source": [
    "# 참고자료"
   ]
  },
  {
   "cell_type": "markdown",
   "id": "a4897611",
   "metadata": {},
   "source": [
    "- https://velog.io/@seolini43/%ED%8C%8C%EC%9D%B4%EC%8D%ACTransformer%EB%A1%9C-%EC%98%A4%ED%94%BC%EC%8A%A4-%EC%B1%97%EB%B4%87-%EB%A7%8C%EB%93%A4%EA%B8%B0-%EC%BD%94%EB%93%9C\n",
    "- https://undeadkwandoll.tistory.com/29"
   ]
  }
 ],
 "metadata": {
  "kernelspec": {
   "display_name": "Python 3 (ipykernel)",
   "language": "python",
   "name": "python3"
  },
  "language_info": {
   "codemirror_mode": {
    "name": "ipython",
    "version": 3
   },
   "file_extension": ".py",
   "mimetype": "text/x-python",
   "name": "python",
   "nbconvert_exporter": "python",
   "pygments_lexer": "ipython3",
   "version": "3.9.7"
  }
 },
 "nbformat": 4,
 "nbformat_minor": 5
}
