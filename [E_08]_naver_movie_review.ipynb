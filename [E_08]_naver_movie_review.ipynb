{
 "cells": [
  {
   "cell_type": "markdown",
   "id": "754b21be",
   "metadata": {},
   "source": [
    "# 평가조건\n",
    "1. 다양한 방법으로 Text Classification 태스크를 성공적으로 구현하였다.\n",
    " - 3가지 이상의 모델이 성공적으로 시도\n",
    "2. gensim을 활용하여 자체학습된 혹은 사전학습된 임베딩 레이어를 분석하였다.\n",
    " - gensim의 유사단어 찾기를 활용하여 자체학습한 임베딩과 사전학습 임베딩을 비교 분석함\n",
    "3. 한국어 Word2Vec을 활용하여 가시적인 성능향상을 달성했다.\n",
    " - 네이버 영화리뷰 데이터 감성분석 정확도를 85% 이상 달성함"
   ]
  },
  {
   "cell_type": "markdown",
   "id": "a2d0afb8",
   "metadata": {},
   "source": [
    "# 1. 모듈 임포트"
   ]
  },
  {
   "cell_type": "code",
   "execution_count": 1,
   "id": "834676b6",
   "metadata": {},
   "outputs": [],
   "source": [
    "import pandas as pd\n",
    "import konlpy\n",
    "import gensim\n",
    "import tensorflow as tf\n",
    "from konlpy.tag import Mecab\n",
    "import numpy as np\n",
    "from tqdm import tqdm\n",
    "from collections import Counter\n",
    "import os\n",
    "import matplotlib.pyplot as plt\n",
    "\n",
    "tf.random.set_seed(1234) #랜덤시드 고정"
   ]
  },
  {
   "cell_type": "markdown",
   "id": "bf114a87",
   "metadata": {},
   "source": [
    "# 2. 데이터 불러오기"
   ]
  },
  {
   "cell_type": "code",
   "execution_count": 2,
   "id": "a0036ad2",
   "metadata": {},
   "outputs": [
    {
     "data": {
      "text/html": [
       "<div>\n",
       "<style scoped>\n",
       "    .dataframe tbody tr th:only-of-type {\n",
       "        vertical-align: middle;\n",
       "    }\n",
       "\n",
       "    .dataframe tbody tr th {\n",
       "        vertical-align: top;\n",
       "    }\n",
       "\n",
       "    .dataframe thead th {\n",
       "        text-align: right;\n",
       "    }\n",
       "</style>\n",
       "<table border=\"1\" class=\"dataframe\">\n",
       "  <thead>\n",
       "    <tr style=\"text-align: right;\">\n",
       "      <th></th>\n",
       "      <th>id</th>\n",
       "      <th>document</th>\n",
       "      <th>label</th>\n",
       "    </tr>\n",
       "  </thead>\n",
       "  <tbody>\n",
       "    <tr>\n",
       "      <th>0</th>\n",
       "      <td>9976970</td>\n",
       "      <td>아 더빙.. 진짜 짜증나네요 목소리</td>\n",
       "      <td>0</td>\n",
       "    </tr>\n",
       "    <tr>\n",
       "      <th>1</th>\n",
       "      <td>3819312</td>\n",
       "      <td>흠...포스터보고 초딩영화줄....오버연기조차 가볍지 않구나</td>\n",
       "      <td>1</td>\n",
       "    </tr>\n",
       "    <tr>\n",
       "      <th>2</th>\n",
       "      <td>10265843</td>\n",
       "      <td>너무재밓었다그래서보는것을추천한다</td>\n",
       "      <td>0</td>\n",
       "    </tr>\n",
       "    <tr>\n",
       "      <th>3</th>\n",
       "      <td>9045019</td>\n",
       "      <td>교도소 이야기구먼 ..솔직히 재미는 없다..평점 조정</td>\n",
       "      <td>0</td>\n",
       "    </tr>\n",
       "    <tr>\n",
       "      <th>4</th>\n",
       "      <td>6483659</td>\n",
       "      <td>사이몬페그의 익살스런 연기가 돋보였던 영화!스파이더맨에서 늙어보이기만 했던 커스틴 ...</td>\n",
       "      <td>1</td>\n",
       "    </tr>\n",
       "  </tbody>\n",
       "</table>\n",
       "</div>"
      ],
      "text/plain": [
       "         id                                           document  label\n",
       "0   9976970                                아 더빙.. 진짜 짜증나네요 목소리      0\n",
       "1   3819312                  흠...포스터보고 초딩영화줄....오버연기조차 가볍지 않구나      1\n",
       "2  10265843                                  너무재밓었다그래서보는것을추천한다      0\n",
       "3   9045019                      교도소 이야기구먼 ..솔직히 재미는 없다..평점 조정      0\n",
       "4   6483659  사이몬페그의 익살스런 연기가 돋보였던 영화!스파이더맨에서 늙어보이기만 했던 커스틴 ...      1"
      ]
     },
     "metadata": {},
     "output_type": "display_data"
    },
    {
     "data": {
      "text/html": [
       "<div>\n",
       "<style scoped>\n",
       "    .dataframe tbody tr th:only-of-type {\n",
       "        vertical-align: middle;\n",
       "    }\n",
       "\n",
       "    .dataframe tbody tr th {\n",
       "        vertical-align: top;\n",
       "    }\n",
       "\n",
       "    .dataframe thead th {\n",
       "        text-align: right;\n",
       "    }\n",
       "</style>\n",
       "<table border=\"1\" class=\"dataframe\">\n",
       "  <thead>\n",
       "    <tr style=\"text-align: right;\">\n",
       "      <th></th>\n",
       "      <th>id</th>\n",
       "      <th>document</th>\n",
       "      <th>label</th>\n",
       "    </tr>\n",
       "  </thead>\n",
       "  <tbody>\n",
       "    <tr>\n",
       "      <th>0</th>\n",
       "      <td>6270596</td>\n",
       "      <td>굳 ㅋ</td>\n",
       "      <td>1</td>\n",
       "    </tr>\n",
       "    <tr>\n",
       "      <th>1</th>\n",
       "      <td>9274899</td>\n",
       "      <td>GDNTOPCLASSINTHECLUB</td>\n",
       "      <td>0</td>\n",
       "    </tr>\n",
       "    <tr>\n",
       "      <th>2</th>\n",
       "      <td>8544678</td>\n",
       "      <td>뭐야 이 평점들은.... 나쁘진 않지만 10점 짜리는 더더욱 아니잖아</td>\n",
       "      <td>0</td>\n",
       "    </tr>\n",
       "    <tr>\n",
       "      <th>3</th>\n",
       "      <td>6825595</td>\n",
       "      <td>지루하지는 않은데 완전 막장임... 돈주고 보기에는....</td>\n",
       "      <td>0</td>\n",
       "    </tr>\n",
       "    <tr>\n",
       "      <th>4</th>\n",
       "      <td>6723715</td>\n",
       "      <td>3D만 아니었어도 별 다섯 개 줬을텐데.. 왜 3D로 나와서 제 심기를 불편하게 하죠??</td>\n",
       "      <td>0</td>\n",
       "    </tr>\n",
       "  </tbody>\n",
       "</table>\n",
       "</div>"
      ],
      "text/plain": [
       "        id                                           document  label\n",
       "0  6270596                                                굳 ㅋ      1\n",
       "1  9274899                               GDNTOPCLASSINTHECLUB      0\n",
       "2  8544678             뭐야 이 평점들은.... 나쁘진 않지만 10점 짜리는 더더욱 아니잖아      0\n",
       "3  6825595                   지루하지는 않은데 완전 막장임... 돈주고 보기에는....      0\n",
       "4  6723715  3D만 아니었어도 별 다섯 개 줬을텐데.. 왜 3D로 나와서 제 심기를 불편하게 하죠??      0"
      ]
     },
     "metadata": {},
     "output_type": "display_data"
    },
    {
     "name": "stdout",
     "output_type": "stream",
     "text": [
      "train_data 길이:150000\n",
      "test_data 길이:50000\n"
     ]
    }
   ],
   "source": [
    "train_data = pd.read_table('~/aiffel/sentiment_classification/data/ratings_train.txt')\n",
    "test_data = pd.read_table('~/aiffel/sentiment_classification/data/ratings_test.txt')\n",
    "\n",
    "display(train_data.head())\n",
    "display(test_data.head())\n",
    "print('train_data 길이:{}'.format(len(train_data)))\n",
    "print('test_data 길이:{}'.format(len(test_data)))"
   ]
  },
  {
   "cell_type": "markdown",
   "id": "6845520b",
   "metadata": {},
   "source": [
    "# 3. 데이터로더 구성"
   ]
  },
  {
   "cell_type": "code",
   "execution_count": 3,
   "id": "3455baff",
   "metadata": {},
   "outputs": [
    {
     "name": "stderr",
     "output_type": "stream",
     "text": [
      "100%|██████████| 146182/146182 [00:12<00:00, 11306.56it/s]\n",
      "100%|██████████| 49157/49157 [00:04<00:00, 10782.05it/s]\n"
     ]
    }
   ],
   "source": [
    "tokenizer = Mecab()\n",
    "stopwords = ['의','가','이','은','들','는','좀','잘','걍','과','도','를','을','으로','자','에','와','한','하다']\n",
    "\n",
    "def load_data(train_data, test_data, num_words=20000):\n",
    "    # 데이터 중복 제거\n",
    "    train_data.drop_duplicates(subset=['document'], inplace = True)\n",
    "    test_data.drop_duplicates(subset=['document'], inplace = True)\n",
    "    \n",
    "    #결측치 제거\n",
    "    train_data = train_data.dropna(how = 'any') # Null 값이 존재하는 행 제거\n",
    "    test_data = test_data.dropna(how = 'any')\n",
    "    \n",
    "    #토큰화\n",
    "    X_train = []\n",
    "    for sentence in tqdm(train_data['document']):\n",
    "        tokenized_sentence = tokenizer.morphs(sentence) # 토큰화\n",
    "        stopwords_removed_sentence = [word for word in tokenized_sentence if not word in stopwords] # 불용어 제거\n",
    "        X_train.append(stopwords_removed_sentence)\n",
    "\n",
    "    X_test = []\n",
    "    for sentence in tqdm(test_data['document']):\n",
    "        tokenized_sentence = tokenizer.morphs(sentence) # 토큰화\n",
    "        stopwords_removed_sentence = [word for word in tokenized_sentence if not word in stopwords] # 불용어 제거\n",
    "        X_test.append(stopwords_removed_sentence)\n",
    "\n",
    "    words = np.concatenate(X_train).tolist()\n",
    "    counter = Counter(words)\n",
    "    counter = counter.most_common(20000-4)\n",
    "    vocab = ['', '', '', ''] + [key for key, _ in counter]\n",
    "    word_to_index = {word:index for index, word in enumerate(vocab)}\n",
    "        \n",
    "    def wordlist_to_indexlist(wordlist):\n",
    "        return [word_to_index[word] if word in word_to_index else word_to_index[''] for word in wordlist]\n",
    "        \n",
    "    X_train = list(map(wordlist_to_indexlist, X_train))\n",
    "    X_test = list(map(wordlist_to_indexlist, X_test))\n",
    "        \n",
    "    return X_train, np.array(list(train_data['label'])), X_test, np.array(list(test_data['label'])), word_to_index\n",
    "            \n",
    "X_train, y_train, X_test, y_test, word_to_index = load_data(train_data, test_data)\n",
    "\n",
    "index_to_word = {index:word for word, index in word_to_index.items()}"
   ]
  },
  {
   "cell_type": "markdown",
   "id": "e0fb90b6",
   "metadata": {},
   "source": [
    "- 중복되는 리뷰를 제거하고, nan가 존재하는 행을 제거해주었음\n",
    "- Konlpy의 mecab을 이용하여 토큰화\n",
    "- counter 함수를 이용하여 각 토큰 별 중복 카운트를 세 준 후 most_common을 이용해 10000개의 가장 빈도수가 높은 단어를 추출\n",
    "- 그 후 사전을 만들어줌"
   ]
  },
  {
   "cell_type": "markdown",
   "id": "98f4db59",
   "metadata": {},
   "source": [
    "# 4. 모델 구성을 위한 데이터 분석 및 가공\n",
    "- 데이터셋 내 문장 길이 분포\n",
    "- 적절한 최대 문장 길이 지정\n",
    "- keras.preprocessing.sequence.pad_sequences 을 활용한 패딩 추가"
   ]
  },
  {
   "cell_type": "code",
   "execution_count": 4,
   "id": "b74277a8",
   "metadata": {},
   "outputs": [],
   "source": [
    "# 문장 1개를 활용할 딕셔너리와 함께 주면, 단어 인덱스 리스트 벡터로 변환해 주는 함수입니다. \n",
    "# 단, 모든 문장은 <BOS>로 시작하는 것으로 합니다. \n",
    "def get_encoded_sentence(sentence, word_to_index):\n",
    "    return [word_to_index['<BOS>']]+[word_to_index[word] if word in word_to_index else word_to_index['<UNK>'] for word in sentence.split()]\n",
    "\n",
    "# 여러 개의 문장 리스트를 한꺼번에 단어 인덱스 리스트 벡터로 encode해 주는 함수입니다. \n",
    "def get_encoded_sentences(sentences, word_to_index):\n",
    "    return [get_encoded_sentence(sentence, word_to_index) for sentence in sentences]\n",
    "\n",
    "# 숫자 벡터로 encode된 문장을 원래대로 decode하는 함수입니다. \n",
    "def get_decoded_sentence(encoded_sentence, index_to_word):\n",
    "    return ' '.join(index_to_word[index] if index in index_to_word else '<UNK>' for index in encoded_sentence[1:])  #[1:]를 통해 <BOS>를 제외\n",
    "\n",
    "# 여러 개의 숫자 벡터로 encode된 문장을 한꺼번에 원래대로 decode하는 함수입니다. \n",
    "def get_decoded_sentences(encoded_sentences, index_to_word):\n",
    "    return [get_decoded_sentence(encoded_sentence, index_to_word) for encoded_sentence in encoded_sentences]"
   ]
  },
  {
   "cell_type": "code",
   "execution_count": 5,
   "id": "ce8ff4ac",
   "metadata": {},
   "outputs": [
    {
     "data": {
      "text/plain": [
       "[[31, 73, 918, 4, 4, 38, 227, 19, 32, 747],\n",
       " [1027, 4, 10, 518, 548, 686, 5, 119, 4, 69, 1638, 51, 924, 1005, 14, 43, 390],\n",
       " [23, 204, 3]]"
      ]
     },
     "execution_count": 5,
     "metadata": {},
     "output_type": "execute_result"
    }
   ],
   "source": [
    "X_train[:3]"
   ]
  },
  {
   "cell_type": "code",
   "execution_count": 6,
   "id": "8244504c",
   "metadata": {},
   "outputs": [
    {
     "name": "stdout",
     "output_type": "stream",
     "text": [
      "첫번째 리뷰 길이:22, 원래 문장:더 빙 . . 진짜 짜증 나 네요 목소리\n",
      "두번째 리뷰 길이:44, 원래 문장:. .. 포스터 보고 초딩 영화 줄 . ... 오버 연기 조차 가볍 지 않 구나\n"
     ]
    }
   ],
   "source": [
    "print('첫번째 리뷰 길이:{}, 원래 문장:{}'.format(len(get_decoded_sentence(X_train[0],index_to_word)),get_decoded_sentence(X_train[0],index_to_word)))\n",
    "print('두번째 리뷰 길이:{}, 원래 문장:{}'.format(len(get_decoded_sentence(X_train[1],index_to_word)),get_decoded_sentence(X_train[1],index_to_word)))"
   ]
  },
  {
   "cell_type": "markdown",
   "id": "db1b5122",
   "metadata": {},
   "source": [
    "## PAD, BOS, UNK, UNUSED 를 추가하는 작업"
   ]
  },
  {
   "cell_type": "code",
   "execution_count": 7,
   "id": "4f7f09e6",
   "metadata": {},
   "outputs": [
    {
     "name": "stdout",
     "output_type": "stream",
     "text": [
      "<BOS>\n"
     ]
    }
   ],
   "source": [
    "#실제 인코딩 인덱스는 제공된 word_to_index에서 index 기준으로 3씩 뒤로 밀려 있습니다.  \n",
    "word_to_index = {k:(v+1) for k,v in word_to_index.items()}\n",
    "\n",
    "# 처음 몇 개 인덱스는 사전에 정의되어 있습니다\n",
    "word_to_index[\"<PAD>\"] = 0\n",
    "word_to_index[\"<BOS>\"] = 1\n",
    "word_to_index[\"<UNK>\"] = 2  # unknown\n",
    "word_to_index[\"<UNUSED>\"] = 3\n",
    "\n",
    "index_to_word[0] = \"<PAD>\"\n",
    "index_to_word[1] = \"<BOS>\"\n",
    "index_to_word[2] = \"<UNK>\"\n",
    "index_to_word[3] = \"<UNUSED>\"\n",
    "\n",
    "index_to_word = {index:word for word, index in word_to_index.items()}\n",
    "\n",
    "print(index_to_word[1])"
   ]
  },
  {
   "cell_type": "markdown",
   "id": "91982c16",
   "metadata": {},
   "source": [
    "## 데이터셋 문장 길이 확인하기"
   ]
  },
  {
   "cell_type": "code",
   "execution_count": 8,
   "id": "8d2869c8",
   "metadata": {},
   "outputs": [
    {
     "name": "stdout",
     "output_type": "stream",
     "text": [
      "문장길이 평균 :  15.765965833755676\n",
      "문장길이 최대 :  116\n",
      "문장길이 표준편차 :  12.63458853764258\n"
     ]
    },
    {
     "data": {
      "text/plain": [
       "(array([3.5800e+03, 1.2032e+04, 2.1806e+04, 3.5640e+04, 1.9951e+04,\n",
       "        1.7301e+04, 2.2188e+04, 1.1611e+04, 8.9300e+03, 9.2540e+03,\n",
       "        4.1070e+03, 3.1590e+03, 3.8540e+03, 2.1380e+03, 1.9000e+03,\n",
       "        2.6050e+03, 1.4640e+03, 1.3860e+03, 1.7880e+03, 1.1430e+03,\n",
       "        1.1080e+03, 1.7190e+03, 1.2130e+03, 1.1470e+03, 1.0730e+03,\n",
       "        1.3370e+03, 6.4300e+02, 4.6500e+02, 3.9600e+02, 1.5600e+02,\n",
       "        1.0600e+02, 7.2000e+01, 3.0000e+01, 1.3000e+01, 1.3000e+01,\n",
       "        1.0000e+00, 2.0000e+00, 3.0000e+00, 0.0000e+00, 0.0000e+00,\n",
       "        1.0000e+00, 0.0000e+00, 0.0000e+00, 0.0000e+00, 0.0000e+00,\n",
       "        2.0000e+00, 0.0000e+00, 0.0000e+00, 0.0000e+00, 2.0000e+00]),\n",
       " array([  0.  ,   2.32,   4.64,   6.96,   9.28,  11.6 ,  13.92,  16.24,\n",
       "         18.56,  20.88,  23.2 ,  25.52,  27.84,  30.16,  32.48,  34.8 ,\n",
       "         37.12,  39.44,  41.76,  44.08,  46.4 ,  48.72,  51.04,  53.36,\n",
       "         55.68,  58.  ,  60.32,  62.64,  64.96,  67.28,  69.6 ,  71.92,\n",
       "         74.24,  76.56,  78.88,  81.2 ,  83.52,  85.84,  88.16,  90.48,\n",
       "         92.8 ,  95.12,  97.44,  99.76, 102.08, 104.4 , 106.72, 109.04,\n",
       "        111.36, 113.68, 116.  ]),\n",
       " <BarContainer object of 50 artists>)"
      ]
     },
     "execution_count": 8,
     "metadata": {},
     "output_type": "execute_result"
    },
    {
     "data": {
      "image/png": "[encoded data removed]",
      "text/plain": [
       "<Figure size 432x288 with 1 Axes>"
      ]
     },
     "metadata": {
      "needs_background": "light"
     },
     "output_type": "display_data"
    }
   ],
   "source": [
    "total_data = list(X_train) + list(X_test)\n",
    "num_tokens = [len(tokens) for tokens in total_data]\n",
    "num_tokens = np.array(num_tokens)\n",
    "\n",
    "# 문장길이의 평균값, 최대값, 표준편차를 계산해 본다. \n",
    "print('문장길이 평균 : ', np.mean(num_tokens))\n",
    "print('문장길이 최대 : ', np.max(num_tokens))\n",
    "print('문장길이 표준편차 : ', np.std(num_tokens))\n",
    "\n",
    "plt.hist([len(review) for review in total_data], bins=50)"
   ]
  },
  {
   "cell_type": "markdown",
   "id": "56922a91",
   "metadata": {},
   "source": [
    "- 문장은 평균 15, 최대 115의 길이를 보여줌\n",
    "- 위 그래프를 봤을때 40~50 사이가 적절할 것으로 생각됨\n",
    "- 아래의 함수는 전체 샘플 중 길이가 max_len 이하인 샘플의 비율이 몇 %인지 확인하는 함"
   ]
  },
  {
   "cell_type": "code",
   "execution_count": 9,
   "id": "a0b82114",
   "metadata": {},
   "outputs": [],
   "source": [
    "def below_threshold_len(max_len, nested_list):\n",
    "    count = 0\n",
    "    for sentence in nested_list:\n",
    "        if(len(sentence) <= max_len):\n",
    "            count = count + 1\n",
    "    print('전체 샘플 중 길이가 %s 이하인 샘플의 비율: %s'%(max_len, (count / len(nested_list))*100))"
   ]
  },
  {
   "cell_type": "code",
   "execution_count": 10,
   "id": "c66dc3ad",
   "metadata": {},
   "outputs": [
    {
     "name": "stdout",
     "output_type": "stream",
     "text": [
      "전체 샘플 중 길이가 45 이하인 샘플의 비율: 94.83308504702082\n"
     ]
    }
   ],
   "source": [
    "max_len = 45\n",
    "below_threshold_len(max_len, total_data)"
   ]
  },
  {
   "cell_type": "markdown",
   "id": "250faac4",
   "metadata": {},
   "source": [
    "- 모든 문장의 길이를 봤을때 max_len = 45이면 전체 데이터의 약 95%를 차지함\n",
    "- 따라서 모든 문장의 길이를 45으로 통일"
   ]
  },
  {
   "cell_type": "markdown",
   "id": "10eac62f",
   "metadata": {},
   "source": [
    "- keras.preprocessing.sequence.pad_sequences을 활용한 패딩을 추가해줌\n",
    "- 패딩은 자연어를 처리할 때 문장의 길이가 달라 행렬로 처리하기 어렵기 때문에 문장의 길이를 맞춰주어 행렬로 한번에 처리할 수 있도록 해줌\n",
    "- 길이를 맞춰주기 위해 문장 뒤에 0을 붙이거나, 문장 앞에 0을 붙여준다.\n",
    "- RNN은 입력데이터가 순차적으로 처리되어, 가장 마지막 입력이 최종 state 값에 가장 영향을 많이 미치기 때문에, padding 위치를 앞쪽에 넣어줌"
   ]
  },
  {
   "cell_type": "code",
   "execution_count": 11,
   "id": "5fa56ad1",
   "metadata": {},
   "outputs": [
    {
     "name": "stdout",
     "output_type": "stream",
     "text": [
      "(146182, 45)\n",
      "(49157, 45)\n"
     ]
    }
   ],
   "source": [
    "X_train = tf.keras.preprocessing.sequence.pad_sequences(X_train,\n",
    "                                                        value=word_to_index[\"<PAD>\"],\n",
    "                                                        padding='pre', # 혹은 'post'\n",
    "                                                        maxlen=max_len)\n",
    "\n",
    "X_test = tf.keras.preprocessing.sequence.pad_sequences(X_test,\n",
    "                                                       value=word_to_index[\"<PAD>\"],\n",
    "                                                       padding='pre', # 혹은 'post'\n",
    "                                                       maxlen=max_len)\n",
    "\n",
    "print(X_train.shape)\n",
    "print(X_test.shape)"
   ]
  },
  {
   "cell_type": "markdown",
   "id": "771d3640",
   "metadata": {},
   "source": [
    "- 모든 데이터의 길이가 45으로 통일된것을 알 수 있음"
   ]
  },
  {
   "cell_type": "code",
   "execution_count": 12,
   "id": "9b0dd739",
   "metadata": {},
   "outputs": [
    {
     "name": "stdout",
     "output_type": "stream",
     "text": [
      "<class 'numpy.ndarray'>\n",
      "<class 'numpy.ndarray'>\n",
      "<class 'numpy.ndarray'>\n",
      "<class 'numpy.ndarray'>\n"
     ]
    }
   ],
   "source": [
    "print(type(X_train))\n",
    "print(type(y_train))\n",
    "print(type(X_test))\n",
    "print(type(y_test))"
   ]
  },
  {
   "cell_type": "markdown",
   "id": "809a5877",
   "metadata": {},
   "source": [
    "# 5. 모델 구성 및 validation set 구성"
   ]
  },
  {
   "cell_type": "code",
   "execution_count": 13,
   "id": "0e6e47e0",
   "metadata": {},
   "outputs": [
    {
     "name": "stdout",
     "output_type": "stream",
     "text": [
      "(116945, 45)\n",
      "(116945,)\n",
      "(29237, 45)\n",
      "(29237,)\n"
     ]
    }
   ],
   "source": [
    "from sklearn.model_selection import train_test_split\n",
    "\n",
    "x_train, x_val, y_train, y_val = train_test_split(X_train,\n",
    "                                                  y_train,\n",
    "                                                  test_size=0.2,\n",
    "                                                  shuffle=True,\n",
    "                                                  stratify=y_train,\n",
    "                                                  random_state=42)\n",
    "\n",
    "print(x_train.shape)\n",
    "print(y_train.shape)\n",
    "print(x_val.shape)\n",
    "print(y_val.shape)"
   ]
  },
  {
   "cell_type": "markdown",
   "id": "c3695a50",
   "metadata": {},
   "source": [
    "# 6. 모델 훈련 및 훈련 시각화"
   ]
  },
  {
   "cell_type": "code",
   "execution_count": 14,
   "id": "0f60ae71",
   "metadata": {},
   "outputs": [],
   "source": [
    "vocab_size = 20000  # 어휘 사전의 크기입니다\n",
    "word_vector_dim = 40  # 단어 하나를 표현하는 임베딩 벡터의 차원수입니다. \n",
    "batch_size = 512"
   ]
  },
  {
   "cell_type": "markdown",
   "id": "895ffd01",
   "metadata": {},
   "source": [
    "## 6-1 RNN 모델 훈련"
   ]
  },
  {
   "cell_type": "code",
   "execution_count": 15,
   "id": "1f29339e",
   "metadata": {},
   "outputs": [
    {
     "name": "stdout",
     "output_type": "stream",
     "text": [
      "Model: \"sequential\"\n",
      "_________________________________________________________________\n",
      "Layer (type)                 Output Shape              Param #   \n",
      "=================================================================\n",
      "embedding (Embedding)        (None, None, 40)          800000    \n",
      "_________________________________________________________________\n",
      "lstm (LSTM)                  (None, 128)               86528     \n",
      "_________________________________________________________________\n",
      "dense (Dense)                (None, 8)                 1032      \n",
      "_________________________________________________________________\n",
      "dense_1 (Dense)              (None, 1)                 9         \n",
      "=================================================================\n",
      "Total params: 887,569\n",
      "Trainable params: 887,569\n",
      "Non-trainable params: 0\n",
      "_________________________________________________________________\n"
     ]
    }
   ],
   "source": [
    "rnn_model = tf.keras.Sequential()\n",
    "rnn_model.add(tf.keras.layers.Embedding(vocab_size, word_vector_dim, input_shape=(None,)))\n",
    "rnn_model.add(tf.keras.layers.LSTM(128))   # 가장 널리 쓰이는 RNN인 LSTM 레이어를 사용\n",
    "rnn_model.add(tf.keras.layers.Dense(8, activation='relu'))\n",
    "rnn_model.add(tf.keras.layers.Dense(1, activation='sigmoid'))  # 최종 출력은 긍정/부정을 나타내는 1dim 입니다.\n",
    "\n",
    "rnn_model.summary()"
   ]
  },
  {
   "cell_type": "code",
   "execution_count": 16,
   "id": "aa00f43e",
   "metadata": {},
   "outputs": [
    {
     "name": "stdout",
     "output_type": "stream",
     "text": [
      "Epoch 1/10\n",
      "229/229 [==============================] - 6s 12ms/step - loss: 0.4579 - accuracy: 0.7807 - val_loss: 0.3518 - val_accuracy: 0.8464\n",
      "Epoch 2/10\n",
      "229/229 [==============================] - 2s 10ms/step - loss: 0.3159 - accuracy: 0.8679 - val_loss: 0.3418 - val_accuracy: 0.8519\n",
      "Epoch 3/10\n",
      "229/229 [==============================] - 2s 10ms/step - loss: 0.2802 - accuracy: 0.8862 - val_loss: 0.3474 - val_accuracy: 0.8481\n",
      "Epoch 4/10\n",
      "229/229 [==============================] - 2s 10ms/step - loss: 0.2478 - accuracy: 0.9005 - val_loss: 0.3494 - val_accuracy: 0.8548\n",
      "Epoch 5/10\n",
      "229/229 [==============================] - 2s 10ms/step - loss: 0.2180 - accuracy: 0.9134 - val_loss: 0.3661 - val_accuracy: 0.8550\n",
      "Epoch 6/10\n",
      "229/229 [==============================] - 2s 10ms/step - loss: 0.1900 - accuracy: 0.9254 - val_loss: 0.4032 - val_accuracy: 0.8502\n",
      "Epoch 7/10\n",
      "229/229 [==============================] - 2s 10ms/step - loss: 0.1685 - accuracy: 0.9351 - val_loss: 0.4387 - val_accuracy: 0.8500\n",
      "Epoch 8/10\n",
      "229/229 [==============================] - 2s 10ms/step - loss: 0.1479 - accuracy: 0.9429 - val_loss: 0.4529 - val_accuracy: 0.8466\n",
      "Epoch 9/10\n",
      "229/229 [==============================] - 2s 10ms/step - loss: 0.1311 - accuracy: 0.9507 - val_loss: 0.5480 - val_accuracy: 0.8432\n",
      "Epoch 10/10\n",
      "229/229 [==============================] - 2s 10ms/step - loss: 0.1217 - accuracy: 0.9536 - val_loss: 0.5260 - val_accuracy: 0.8403\n"
     ]
    }
   ],
   "source": [
    "rnn_model.compile(optimizer='adam',\n",
    "              loss='binary_crossentropy',\n",
    "              metrics=['accuracy'])\n",
    "              \n",
    "epochs = 10  # 학습량\n",
    "\n",
    "rnn_history = rnn_model.fit(x_train,\n",
    "                            y_train,\n",
    "                            epochs=epochs,\n",
    "                            batch_size=512,\n",
    "                            validation_data=(x_val, y_val),\n",
    "                            verbose=1)"
   ]
  },
  {
   "cell_type": "markdown",
   "id": "dedc49fe",
   "metadata": {},
   "source": [
    "## Loss, Accuracy 그래프 시각화"
   ]
  },
  {
   "cell_type": "code",
   "execution_count": 17,
   "id": "510e3f0a",
   "metadata": {},
   "outputs": [
    {
     "data": {
      "image/png": "[encoded data removed]",
      "text/plain": [
       "<Figure size 432x288 with 1 Axes>"
      ]
     },
     "metadata": {
      "needs_background": "light"
     },
     "output_type": "display_data"
    },
    {
     "data": {
      "image/png": "[encoded data removed]",
      "text/plain": [
       "<Figure size 432x288 with 1 Axes>"
      ]
     },
     "metadata": {
      "needs_background": "light"
     },
     "output_type": "display_data"
    }
   ],
   "source": [
    "import matplotlib.pyplot as plt\n",
    "\n",
    "rnn_history_dict = rnn_history.history\n",
    "\n",
    "acc = rnn_history_dict['accuracy']\n",
    "val_acc = rnn_history_dict['val_accuracy']\n",
    "loss = rnn_history_dict['loss']\n",
    "val_loss = rnn_history_dict['val_loss']\n",
    "\n",
    "epochs = range(1, len(acc) + 1)\n",
    "\n",
    "# \"bo\"는 \"파란색 점\"입니다\n",
    "plt.plot(epochs, loss, 'bo', label='Training loss')\n",
    "# b는 \"파란 실선\"입니다\n",
    "plt.plot(epochs, val_loss, 'r', label='Validation loss')\n",
    "plt.title('Training and validation loss')\n",
    "plt.xlabel('Epochs')\n",
    "plt.ylabel('Loss')\n",
    "plt.legend()\n",
    "\n",
    "plt.show()\n",
    "\n",
    "plt.clf()   # 그림을 초기화합니다\n",
    "\n",
    "plt.plot(epochs, acc, 'bo', label='Training acc')\n",
    "plt.plot(epochs, val_acc, 'r', label='Validation acc')\n",
    "plt.title('Training and validation accuracy')\n",
    "plt.xlabel('Epochs')\n",
    "plt.ylabel('Accuracy')\n",
    "plt.legend()\n",
    "\n",
    "plt.show()"
   ]
  },
  {
   "cell_type": "code",
   "execution_count": 18,
   "id": "2bdcbe3a",
   "metadata": {},
   "outputs": [
    {
     "name": "stdout",
     "output_type": "stream",
     "text": [
      "1537/1537 - 3s - loss: 0.5331 - accuracy: 0.8376\n",
      "[0.5330734848976135, 0.8376426696777344]\n"
     ]
    }
   ],
   "source": [
    "rnn_results = rnn_model.evaluate(X_test,y_test, verbose=2)\n",
    "\n",
    "print(rnn_results)"
   ]
  },
  {
   "cell_type": "markdown",
   "id": "ca5a0921",
   "metadata": {},
   "source": [
    "## 6-2 Stack LSTM 모델 훈련"
   ]
  },
  {
   "cell_type": "code",
   "execution_count": 19,
   "id": "177adaf7",
   "metadata": {},
   "outputs": [
    {
     "name": "stdout",
     "output_type": "stream",
     "text": [
      "Model: \"sequential_1\"\n",
      "_________________________________________________________________\n",
      "Layer (type)                 Output Shape              Param #   \n",
      "=================================================================\n",
      "embedding_1 (Embedding)      (None, None, 40)          800000    \n",
      "_________________________________________________________________\n",
      "lstm_1 (LSTM)                (None, None, 128)         86528     \n",
      "_________________________________________________________________\n",
      "lstm_2 (LSTM)                (None, 64)                49408     \n",
      "_________________________________________________________________\n",
      "dense_2 (Dense)              (None, 8)                 520       \n",
      "_________________________________________________________________\n",
      "dense_3 (Dense)              (None, 1)                 9         \n",
      "=================================================================\n",
      "Total params: 936,465\n",
      "Trainable params: 936,465\n",
      "Non-trainable params: 0\n",
      "_________________________________________________________________\n"
     ]
    }
   ],
   "source": [
    "lstm_model = tf.keras.Sequential()\n",
    "lstm_model.add(tf.keras.layers.Embedding(vocab_size, word_vector_dim, input_shape=(None,))) #vocab_size = 10000 / word_vector_dim = 40\n",
    "lstm_model.add(tf.keras.layers.LSTM(units=128, return_sequences = True))\n",
    "lstm_model.add(tf.keras.layers.LSTM(units=64, return_sequences = False))\n",
    "lstm_model.add(tf.keras.layers.Dense(8, activation='relu'))\n",
    "lstm_model.add(tf.keras.layers.Dense(1, activation='sigmoid'))  # 최종 출력은 긍정/부정을 나타내는 1dim 입니다.\n",
    "\n",
    "lstm_model.summary()"
   ]
  },
  {
   "cell_type": "code",
   "execution_count": 20,
   "id": "05b1b900",
   "metadata": {},
   "outputs": [
    {
     "name": "stdout",
     "output_type": "stream",
     "text": [
      "Epoch 1/10\n",
      "229/229 [==============================] - 7s 18ms/step - loss: 0.4324 - accuracy: 0.7905 - val_loss: 0.3536 - val_accuracy: 0.8452\n",
      "Epoch 2/10\n",
      "229/229 [==============================] - 3s 15ms/step - loss: 0.3158 - accuracy: 0.8677 - val_loss: 0.3449 - val_accuracy: 0.8502\n",
      "Epoch 3/10\n",
      "229/229 [==============================] - 3s 15ms/step - loss: 0.2828 - accuracy: 0.8835 - val_loss: 0.3429 - val_accuracy: 0.8504\n",
      "Epoch 4/10\n",
      "229/229 [==============================] - 3s 15ms/step - loss: 0.2510 - accuracy: 0.8976 - val_loss: 0.3562 - val_accuracy: 0.8537\n",
      "Epoch 5/10\n",
      "229/229 [==============================] - 3s 15ms/step - loss: 0.2209 - accuracy: 0.9108 - val_loss: 0.3668 - val_accuracy: 0.8556\n",
      "Epoch 6/10\n",
      "229/229 [==============================] - 3s 15ms/step - loss: 0.1924 - accuracy: 0.9249 - val_loss: 0.3932 - val_accuracy: 0.8506\n",
      "Epoch 7/10\n",
      "229/229 [==============================] - 3s 15ms/step - loss: 0.1694 - accuracy: 0.9348 - val_loss: 0.4356 - val_accuracy: 0.8484\n",
      "Epoch 8/10\n",
      "229/229 [==============================] - 3s 15ms/step - loss: 0.1477 - accuracy: 0.9440 - val_loss: 0.4518 - val_accuracy: 0.8451\n",
      "Epoch 9/10\n",
      "229/229 [==============================] - 3s 15ms/step - loss: 0.1304 - accuracy: 0.9517 - val_loss: 0.5078 - val_accuracy: 0.8427\n",
      "Epoch 10/10\n",
      "229/229 [==============================] - 3s 15ms/step - loss: 0.1159 - accuracy: 0.9573 - val_loss: 0.5376 - val_accuracy: 0.8412\n"
     ]
    }
   ],
   "source": [
    "lstm_model.compile(optimizer='adam',\n",
    "              loss='binary_crossentropy',\n",
    "              metrics=['accuracy'])\n",
    "              \n",
    "epochs=10\n",
    "\n",
    "lstm_model_history = lstm_model.fit(x_train,\n",
    "                                    y_train,\n",
    "                                    epochs=epochs,\n",
    "                                    batch_size=512,\n",
    "                                    validation_data=(x_val, y_val),\n",
    "                                    verbose=1)"
   ]
  },
  {
   "cell_type": "code",
   "execution_count": 21,
   "id": "bbee2f49",
   "metadata": {},
   "outputs": [
    {
     "data": {
      "image/png": "[encoded data removed]",
      "text/plain": [
       "<Figure size 432x288 with 1 Axes>"
      ]
     },
     "metadata": {
      "needs_background": "light"
     },
     "output_type": "display_data"
    },
    {
     "data": {
      "image/png": "[encoded data removed]",
      "text/plain": [
       "<Figure size 432x288 with 1 Axes>"
      ]
     },
     "metadata": {
      "needs_background": "light"
     },
     "output_type": "display_data"
    }
   ],
   "source": [
    "import matplotlib.pyplot as plt\n",
    "\n",
    "lstm_history_dict = lstm_model_history.history\n",
    "\n",
    "acc = lstm_history_dict['accuracy']\n",
    "val_acc = lstm_history_dict['val_accuracy']\n",
    "loss = lstm_history_dict['loss']\n",
    "val_loss = lstm_history_dict['val_loss']\n",
    "\n",
    "epochs = range(1, len(acc) + 1)\n",
    "\n",
    "# \"bo\"는 \"파란색 점\"입니다\n",
    "plt.plot(epochs, loss, 'bo', label='Training loss')\n",
    "# b는 \"파란 실선\"입니다\n",
    "plt.plot(epochs, val_loss, 'r', label='Validation loss')\n",
    "plt.title('Training and validation loss')\n",
    "plt.xlabel('Epochs')\n",
    "plt.ylabel('Loss')\n",
    "plt.legend()\n",
    "\n",
    "plt.show()\n",
    "\n",
    "plt.clf()   # 그림을 초기화합니다\n",
    "\n",
    "plt.plot(epochs, acc, 'bo', label='Training acc')\n",
    "plt.plot(epochs, val_acc, 'r', label='Validation acc')\n",
    "plt.title('Training and validation accuracy')\n",
    "plt.xlabel('Epochs')\n",
    "plt.ylabel('Accuracy')\n",
    "plt.legend()\n",
    "\n",
    "plt.show()"
   ]
  },
  {
   "cell_type": "code",
   "execution_count": 22,
   "id": "b52c4930",
   "metadata": {},
   "outputs": [
    {
     "name": "stdout",
     "output_type": "stream",
     "text": [
      "1537/1537 - 5s - loss: 0.5365 - accuracy: 0.8404\n",
      "[0.5364862084388733, 0.8403889536857605]\n"
     ]
    }
   ],
   "source": [
    "lstm_results = lstm_model.evaluate(X_test,y_test, verbose=2)\n",
    "\n",
    "print(lstm_results)"
   ]
  },
  {
   "cell_type": "markdown",
   "id": "afbbd901",
   "metadata": {},
   "source": [
    "## 6-3 BiLSTM 모델 훈련"
   ]
  },
  {
   "cell_type": "code",
   "execution_count": 23,
   "id": "f4f6fee2",
   "metadata": {},
   "outputs": [
    {
     "name": "stdout",
     "output_type": "stream",
     "text": [
      "Model: \"sequential_2\"\n",
      "_________________________________________________________________\n",
      "Layer (type)                 Output Shape              Param #   \n",
      "=================================================================\n",
      "embedding_2 (Embedding)      (None, None, 40)          800000    \n",
      "_________________________________________________________________\n",
      "bidirectional (Bidirectional (None, 256)               173056    \n",
      "_________________________________________________________________\n",
      "dense_4 (Dense)              (None, 8)                 2056      \n",
      "_________________________________________________________________\n",
      "dense_5 (Dense)              (None, 1)                 9         \n",
      "=================================================================\n",
      "Total params: 975,121\n",
      "Trainable params: 975,121\n",
      "Non-trainable params: 0\n",
      "_________________________________________________________________\n"
     ]
    }
   ],
   "source": [
    "from tensorflow.keras.layers import Embedding, Dense, LSTM, Bidirectional\n",
    "\n",
    "bilstm_model = tf.keras.Sequential()\n",
    "bilstm_model.add(tf.keras.layers.Embedding(vocab_size, word_vector_dim, input_shape=(None,))) #vocab_size = 10000 / word_vector_dim = 40\n",
    "bilstm_model.add(Bidirectional(LSTM(128)))\n",
    "bilstm_model.add(tf.keras.layers.Dense(8, activation='relu'))\n",
    "bilstm_model.add(tf.keras.layers.Dense(1, activation='sigmoid'))  # 최종 출력은 긍정/부정을 나타내는 1dim 입니다.\n",
    "\n",
    "bilstm_model.summary()"
   ]
  },
  {
   "cell_type": "code",
   "execution_count": 24,
   "id": "f7d29c4b",
   "metadata": {},
   "outputs": [
    {
     "name": "stdout",
     "output_type": "stream",
     "text": [
      "Epoch 1/10\n",
      "229/229 [==============================] - 7s 21ms/step - loss: 0.4545 - accuracy: 0.7828 - val_loss: 0.3551 - val_accuracy: 0.8444\n",
      "Epoch 2/10\n",
      "229/229 [==============================] - 4s 18ms/step - loss: 0.3213 - accuracy: 0.8656 - val_loss: 0.3478 - val_accuracy: 0.8484\n",
      "Epoch 3/10\n",
      "229/229 [==============================] - 4s 18ms/step - loss: 0.2908 - accuracy: 0.8808 - val_loss: 0.3566 - val_accuracy: 0.8470\n",
      "Epoch 4/10\n",
      "229/229 [==============================] - 4s 18ms/step - loss: 0.2624 - accuracy: 0.8952 - val_loss: 0.3591 - val_accuracy: 0.8510\n",
      "Epoch 5/10\n",
      "229/229 [==============================] - 4s 18ms/step - loss: 0.2350 - accuracy: 0.9079 - val_loss: 0.3571 - val_accuracy: 0.8540\n",
      "Epoch 6/10\n",
      "229/229 [==============================] - 4s 18ms/step - loss: 0.2092 - accuracy: 0.9190 - val_loss: 0.3871 - val_accuracy: 0.8495\n",
      "Epoch 7/10\n",
      "229/229 [==============================] - 4s 18ms/step - loss: 0.1863 - accuracy: 0.9300 - val_loss: 0.4046 - val_accuracy: 0.8496\n",
      "Epoch 8/10\n",
      "229/229 [==============================] - 4s 18ms/step - loss: 0.1635 - accuracy: 0.9392 - val_loss: 0.4262 - val_accuracy: 0.8454\n",
      "Epoch 9/10\n",
      "229/229 [==============================] - 4s 18ms/step - loss: 0.1451 - accuracy: 0.9473 - val_loss: 0.4741 - val_accuracy: 0.8457\n",
      "Epoch 10/10\n",
      "229/229 [==============================] - 4s 18ms/step - loss: 0.1300 - accuracy: 0.9537 - val_loss: 0.4933 - val_accuracy: 0.8405\n"
     ]
    }
   ],
   "source": [
    "bilstm_model.compile(optimizer='adam',\n",
    "              loss='binary_crossentropy',\n",
    "              metrics=['accuracy'])\n",
    "              \n",
    "epochs=10\n",
    "\n",
    "bilstm_model_history = bilstm_model.fit(x_train,\n",
    "                                        y_train,\n",
    "                                        epochs=epochs,\n",
    "                                        batch_size=512,\n",
    "                                        validation_data=(x_val, y_val),\n",
    "                                        verbose=1)"
   ]
  },
  {
   "cell_type": "code",
   "execution_count": 25,
   "id": "28a2205b",
   "metadata": {},
   "outputs": [
    {
     "data": {
      "image/png": "[encoded data removed]",
      "text/plain": [
       "<Figure size 432x288 with 1 Axes>"
      ]
     },
     "metadata": {
      "needs_background": "light"
     },
     "output_type": "display_data"
    },
    {
     "data": {
      "image/png": "[encoded data removed]",
      "text/plain": [
       "<Figure size 432x288 with 1 Axes>"
      ]
     },
     "metadata": {
      "needs_background": "light"
     },
     "output_type": "display_data"
    }
   ],
   "source": [
    "import matplotlib.pyplot as plt\n",
    "\n",
    "bilstm_history_dict = bilstm_model_history.history\n",
    "\n",
    "acc = bilstm_history_dict['accuracy']\n",
    "val_acc = bilstm_history_dict['val_accuracy']\n",
    "loss = bilstm_history_dict['loss']\n",
    "val_loss = bilstm_history_dict['val_loss']\n",
    "\n",
    "epochs = range(1, len(acc) + 1)\n",
    "\n",
    "# \"bo\"는 \"파란색 점\"입니다\n",
    "plt.plot(epochs, loss, 'bo', label='Training loss')\n",
    "# b는 \"파란 실선\"입니다\n",
    "plt.plot(epochs, val_loss, 'r', label='Validation loss')\n",
    "plt.title('Training and validation loss')\n",
    "plt.xlabel('Epochs')\n",
    "plt.ylabel('Loss')\n",
    "plt.legend()\n",
    "\n",
    "plt.show()\n",
    "\n",
    "plt.clf()   # 그림을 초기화합니다\n",
    "\n",
    "plt.plot(epochs, acc, 'bo', label='Training acc')\n",
    "plt.plot(epochs, val_acc, 'r', label='Validation acc')\n",
    "plt.title('Training and validation accuracy')\n",
    "plt.xlabel('Epochs')\n",
    "plt.ylabel('Accuracy')\n",
    "plt.legend()\n",
    "\n",
    "plt.show()"
   ]
  },
  {
   "cell_type": "code",
   "execution_count": 26,
   "id": "d42576ba",
   "metadata": {},
   "outputs": [
    {
     "name": "stdout",
     "output_type": "stream",
     "text": [
      "1537/1537 - 5s - loss: 0.4999 - accuracy: 0.8384\n",
      "[0.499870628118515, 0.8384360074996948]\n"
     ]
    }
   ],
   "source": [
    "bilstm_results = bilstm_model.evaluate(X_test,y_test, verbose=2)\n",
    "\n",
    "print(bilstm_results)"
   ]
  },
  {
   "cell_type": "markdown",
   "id": "83c165a0",
   "metadata": {},
   "source": [
    "## 전체적인 모델 평가\n",
    "- 전체적으로 오버티핑이 된것을 알 수 있음\n",
    "- 오버피팅을 잡기 위해 dropout이나 배치정규화를 시켜줘야 할것으로 생각됨"
   ]
  },
  {
   "cell_type": "markdown",
   "id": "cd5e671e",
   "metadata": {},
   "source": [
    "# 7. 학습된 Embedding 레이어 분석\n",
    "- 가장 성능이 높은 stackLSTM의 Embedding 레이어를 분석"
   ]
  },
  {
   "cell_type": "code",
   "execution_count": 27,
   "id": "fdf037d2",
   "metadata": {},
   "outputs": [
    {
     "name": "stdout",
     "output_type": "stream",
     "text": [
      "(20000, 40)\n"
     ]
    }
   ],
   "source": [
    "embedding_layer = lstm_model.layers[0]\n",
    "weights = embedding_layer.get_weights()[0]\n",
    "print(weights.shape)    # shape: (vocab_size, embedding_dim)"
   ]
  },
  {
   "cell_type": "code",
   "execution_count": 29,
   "id": "cc48bb02",
   "metadata": {},
   "outputs": [],
   "source": [
    "# 학습한 Embedding 파라미터를 파일에 써서 저장합니다. \n",
    "word2vec_file_path = os.getenv('HOME')+'/aiffel/sentiment_classification/data/word2vec.txt'\n",
    "f = open(word2vec_file_path, 'w')\n",
    "f.write('{} {}\\n'.format(vocab_size-4, word_vector_dim))  # 몇개의 벡터를 얼마 사이즈로 기재할지 타이틀을 씁니다.\n",
    "\n",
    "# 단어 개수(에서 특수문자 4개는 제외하고)만큼의 워드 벡터를 파일에 기록합니다. \n",
    "vectors = lstm_model.get_weights()[0]\n",
    "for i in range(4,vocab_size):\n",
    "    f.write('{} {}\\n'.format(index_to_word[i], ' '.join(map(str, list(vectors[i, :])))))\n",
    "f.close()"
   ]
  },
  {
   "cell_type": "code",
   "execution_count": 31,
   "id": "569f5b4b",
   "metadata": {},
   "outputs": [
    {
     "data": {
      "text/plain": [
       "array([ 0.00248076, -0.01702612, -0.00870909,  0.02312582, -0.07763925,\n",
       "        0.00592082,  0.00087741,  0.03142348, -0.06451833,  0.03656958,\n",
       "       -0.04050247, -0.04621013, -0.03975071, -0.04235708,  0.05060697,\n",
       "       -0.04752973, -0.03088048, -0.01357399,  0.01847456,  0.02598139,\n",
       "        0.00726323,  0.04249566, -0.03238327,  0.01589494, -0.02769208,\n",
       "       -0.04593669, -0.01592694,  0.00136577,  0.00336391,  0.00522923,\n",
       "        0.05661075,  0.03508221,  0.00171687, -0.02524325, -0.00400579,\n",
       "        0.02301108, -0.03105013, -0.00698772,  0.04695832, -0.02698336],\n",
       "      dtype=float32)"
      ]
     },
     "execution_count": 31,
     "metadata": {},
     "output_type": "execute_result"
    }
   ],
   "source": [
    "from gensim.models.keyedvectors import Word2VecKeyedVectors\n",
    "\n",
    "word_vectors = Word2VecKeyedVectors.load_word2vec_format(word2vec_file_path, binary=False)\n",
    "vector = word_vectors['영화']\n",
    "vector"
   ]
  },
  {
   "cell_type": "code",
   "execution_count": 32,
   "id": "7792235e",
   "metadata": {},
   "outputs": [
    {
     "data": {
      "text/plain": [
       "[('만든다', 0.8043613433837891),\n",
       " ('으세요', 0.801544725894928),\n",
       " ('하야오', 0.8009218573570251),\n",
       " ('지남', 0.8007768392562866),\n",
       " ('이다해', 0.7873069643974304),\n",
       " ('비벼', 0.7856574058532715),\n",
       " ('끝났어야', 0.7822769284248352),\n",
       " (';;;;;;', 0.7807348966598511),\n",
       " ('하리수', 0.7795752882957458),\n",
       " ('허각', 0.7770451903343201)]"
      ]
     },
     "execution_count": 32,
     "metadata": {},
     "output_type": "execute_result"
    }
   ],
   "source": [
    "word_vectors.similar_by_word(\"재미\")"
   ]
  },
  {
   "cell_type": "markdown",
   "id": "ae49ad75",
   "metadata": {},
   "source": [
    "- 재미와 관련된 유사한 언어를 뽑아주길 원했지만, 학습이 제대로 안된것으로 느껴짐"
   ]
  },
  {
   "cell_type": "markdown",
   "id": "f65b64e1",
   "metadata": {},
   "source": [
    "# 9. 한국어 Word2Vec 임베딩 활용하여 성능 개선\n",
    "- 한국어로 사전학습된 word2vec을 불러와서 다시 학습시켜봄"
   ]
  },
  {
   "cell_type": "code",
   "execution_count": 38,
   "id": "9ad66e59",
   "metadata": {},
   "outputs": [
    {
     "data": {
      "text/plain": [
       "array([ 1.038851  , -1.1634965 ,  2.2386286 ,  0.8971453 , -2.088168  ,\n",
       "       -4.1942534 , -0.02519768, -0.69813883, -0.2908033 , -1.4651134 ,\n",
       "       -2.6863668 ,  0.7999443 , -0.6957915 , -0.5018775 ,  3.5025773 ,\n",
       "        0.21326113, -0.6588098 , -1.1900496 ,  0.61399573,  2.1247969 ,\n",
       "        0.1549463 ,  3.0840218 ,  3.1680267 , -3.9143991 ,  3.6073153 ,\n",
       "        0.5315545 , -0.3511633 , -1.107248  ,  1.7767181 , -0.95981866,\n",
       "        2.6072454 , -0.00697957, -3.27628   ,  1.558644  ,  0.81922376,\n",
       "        1.9231955 ,  3.7026553 , -0.53824735, -0.4920138 ,  2.4657123 ,\n",
       "       -2.620749  , -0.08950733,  0.61453176,  1.8866426 ,  0.257866  ,\n",
       "       -2.7827141 ,  2.9129577 , -0.6313133 ,  2.0387425 , -4.222685  ,\n",
       "       -2.7560544 ,  1.7903243 , -1.3080189 , -2.5531402 , -0.43849912,\n",
       "       -3.1073573 , -0.29090825,  5.1817617 ,  1.9604833 , -5.1421604 ,\n",
       "       -0.71431434,  4.5624633 , -0.55525815, -3.3019137 ,  1.6761336 ,\n",
       "       -1.9606539 , -0.2726863 ,  0.2465995 ,  1.2685091 ,  1.6055685 ,\n",
       "        1.8344896 ,  1.2752469 ,  0.99503314, -2.3348706 , -0.9290329 ,\n",
       "       -1.5920266 ,  5.693834  ,  1.1132814 , -0.9603875 , -1.970055  ,\n",
       "       -1.0120267 , -2.7289615 , -2.7759619 ,  3.214084  ,  1.8573734 ,\n",
       "       -1.3495721 , -0.10321241,  3.434593  , -2.8573685 , -1.9004927 ,\n",
       "       -1.6801298 , -2.805677  ,  1.7723105 , -0.41865307, -2.310913  ,\n",
       "       -6.2761464 , -0.8376036 ,  2.4590037 ,  2.1697695 , -4.440443  ],\n",
       "      dtype=float32)"
      ]
     },
     "execution_count": 38,
     "metadata": {},
     "output_type": "execute_result"
    }
   ],
   "source": [
    "# 예시 코드\n",
    "from gensim.models.keyedvectors import Word2VecKeyedVectors\n",
    "word2vec_path = os.getenv('HOME')+'/data/word2vec_ko.model'\n",
    "word_vectors = Word2VecKeyedVectors.load(word2vec_path)\n",
    "\n",
    "vector = word_vectors.wv['끝']\n",
    "vector"
   ]
  },
  {
   "cell_type": "code",
   "execution_count": 41,
   "id": "36e1cbec",
   "metadata": {},
   "outputs": [
    {
     "data": {
      "text/plain": [
       "array([ 1.038851  , -1.1634965 ,  2.2386286 ,  0.8971453 , -2.088168  ,\n",
       "       -4.1942534 , -0.02519768, -0.69813883, -0.2908033 , -1.4651134 ,\n",
       "       -2.6863668 ,  0.7999443 , -0.6957915 , -0.5018775 ,  3.5025773 ,\n",
       "        0.21326113, -0.6588098 , -1.1900496 ,  0.61399573,  2.1247969 ,\n",
       "        0.1549463 ,  3.0840218 ,  3.1680267 , -3.9143991 ,  3.6073153 ,\n",
       "        0.5315545 , -0.3511633 , -1.107248  ,  1.7767181 , -0.95981866,\n",
       "        2.6072454 , -0.00697957, -3.27628   ,  1.558644  ,  0.81922376,\n",
       "        1.9231955 ,  3.7026553 , -0.53824735, -0.4920138 ,  2.4657123 ,\n",
       "       -2.620749  , -0.08950733,  0.61453176,  1.8866426 ,  0.257866  ,\n",
       "       -2.7827141 ,  2.9129577 , -0.6313133 ,  2.0387425 , -4.222685  ,\n",
       "       -2.7560544 ,  1.7903243 , -1.3080189 , -2.5531402 , -0.43849912,\n",
       "       -3.1073573 , -0.29090825,  5.1817617 ,  1.9604833 , -5.1421604 ,\n",
       "       -0.71431434,  4.5624633 , -0.55525815, -3.3019137 ,  1.6761336 ,\n",
       "       -1.9606539 , -0.2726863 ,  0.2465995 ,  1.2685091 ,  1.6055685 ,\n",
       "        1.8344896 ,  1.2752469 ,  0.99503314, -2.3348706 , -0.9290329 ,\n",
       "       -1.5920266 ,  5.693834  ,  1.1132814 , -0.9603875 , -1.970055  ,\n",
       "       -1.0120267 , -2.7289615 , -2.7759619 ,  3.214084  ,  1.8573734 ,\n",
       "       -1.3495721 , -0.10321241,  3.434593  , -2.8573685 , -1.9004927 ,\n",
       "       -1.6801298 , -2.805677  ,  1.7723105 , -0.41865307, -2.310913  ,\n",
       "       -6.2761464 , -0.8376036 ,  2.4590037 ,  2.1697695 , -4.440443  ],\n",
       "      dtype=float32)"
      ]
     },
     "execution_count": 41,
     "metadata": {},
     "output_type": "execute_result"
    }
   ],
   "source": [
    "vector"
   ]
  },
  {
   "cell_type": "code",
   "execution_count": 42,
   "id": "58878af0",
   "metadata": {},
   "outputs": [],
   "source": [
    "vocab_size = 20000    # 어휘 사전의 크기\n",
    "word_vector_dim = 100  # 워드 벡터의 차원수\n",
    "embedding_matrix = np.random.rand(vocab_size, word_vector_dim)\n",
    "\n",
    "# embedding_matrix에 word_vectors.wv 워드 벡터를 단어 하나씩마다 차례차례 카피한다.\n",
    "for i in range(4,vocab_size):\n",
    "    if index_to_word[i] in word_vectors.wv:\n",
    "        embedding_matrix[i] = word_vectors.wv[index_to_word[i]]"
   ]
  },
  {
   "cell_type": "markdown",
   "id": "83e7b95c",
   "metadata": {},
   "source": [
    "- 새로운 모델을 만들어서 임베딩 벡터를 교체한 후 실험"
   ]
  },
  {
   "cell_type": "code",
   "execution_count": 45,
   "id": "25a6f83a",
   "metadata": {},
   "outputs": [
    {
     "name": "stdout",
     "output_type": "stream",
     "text": [
      "Model: \"sequential_5\"\n",
      "_________________________________________________________________\n",
      "Layer (type)                 Output Shape              Param #   \n",
      "=================================================================\n",
      "embedding_4 (Embedding)      (None, 45, 100)           2000000   \n",
      "_________________________________________________________________\n",
      "lstm_5 (LSTM)                (None, 45, 128)           117248    \n",
      "_________________________________________________________________\n",
      "lstm_6 (LSTM)                (None, 45, 128)           131584    \n",
      "_________________________________________________________________\n",
      "lstm_7 (LSTM)                (None, 64)                49408     \n",
      "_________________________________________________________________\n",
      "dense_6 (Dense)              (None, 8)                 520       \n",
      "_________________________________________________________________\n",
      "dense_7 (Dense)              (None, 1)                 9         \n",
      "=================================================================\n",
      "Total params: 2,298,769\n",
      "Trainable params: 2,298,769\n",
      "Non-trainable params: 0\n",
      "_________________________________________________________________\n"
     ]
    }
   ],
   "source": [
    "from tensorflow.keras.initializers import Constant\n",
    "\n",
    "vocab_size = 20000    # 어휘 사전의 크기\n",
    "word_vector_dim = 100  # 워드 벡터의 차원 수 \n",
    "\n",
    "# 모델 구성\n",
    "new_lstm_model = tf.keras.Sequential()\n",
    "new_lstm_model.add(tf.keras.layers.Embedding(vocab_size, \n",
    "                                 word_vector_dim, \n",
    "                                 embeddings_initializer=Constant(embedding_matrix),  # 카피한 임베딩을 여기서 활용\n",
    "                                 input_length=max_len, \n",
    "                                 trainable=True))   # trainable을 True로 주면 Fine-tuning\n",
    "new_lstm_model.add(tf.keras.layers.LSTM(units=128, return_sequences = True, dropout=0.2))\n",
    "new_lstm_model.add(tf.keras.layers.LSTM(units=128, return_sequences = True, dropout=0.2))\n",
    "new_lstm_model.add(tf.keras.layers.LSTM(units=64, return_sequences = False, dropout=0.2))\n",
    "new_lstm_model.add(tf.keras.layers.Dense(8, activation='relu'))\n",
    "new_lstm_model.add(tf.keras.layers.Dense(1, activation='sigmoid'))\n",
    "\n",
    "\n",
    "new_lstm_model.summary()"
   ]
  },
  {
   "cell_type": "code",
   "execution_count": 46,
   "id": "a91d5cea",
   "metadata": {},
   "outputs": [
    {
     "name": "stdout",
     "output_type": "stream",
     "text": [
      "Epoch 1/10\n",
      "229/229 [==============================] - 10s 30ms/step - loss: 0.5290 - accuracy: 0.7241 - val_loss: 0.4200 - val_accuracy: 0.8043\n",
      "Epoch 2/10\n",
      "229/229 [==============================] - 6s 27ms/step - loss: 0.4163 - accuracy: 0.8064 - val_loss: 0.3797 - val_accuracy: 0.8270\n",
      "Epoch 3/10\n",
      "229/229 [==============================] - 6s 27ms/step - loss: 0.3719 - accuracy: 0.8339 - val_loss: 0.3611 - val_accuracy: 0.8386\n",
      "Epoch 4/10\n",
      "229/229 [==============================] - 6s 27ms/step - loss: 0.3417 - accuracy: 0.8494 - val_loss: 0.3575 - val_accuracy: 0.8411\n",
      "Epoch 5/10\n",
      "229/229 [==============================] - 6s 27ms/step - loss: 0.3182 - accuracy: 0.8628 - val_loss: 0.3467 - val_accuracy: 0.8522\n",
      "Epoch 6/10\n",
      "229/229 [==============================] - 6s 27ms/step - loss: 0.3014 - accuracy: 0.8709 - val_loss: 0.3267 - val_accuracy: 0.8575\n",
      "Epoch 7/10\n",
      "229/229 [==============================] - 6s 27ms/step - loss: 0.2855 - accuracy: 0.8795 - val_loss: 0.3301 - val_accuracy: 0.8607\n",
      "Epoch 8/10\n",
      "229/229 [==============================] - 6s 28ms/step - loss: 0.2735 - accuracy: 0.8856 - val_loss: 0.3292 - val_accuracy: 0.8605\n",
      "Epoch 9/10\n",
      "229/229 [==============================] - 6s 28ms/step - loss: 0.2627 - accuracy: 0.8900 - val_loss: 0.3302 - val_accuracy: 0.8629\n",
      "Epoch 10/10\n",
      "229/229 [==============================] - 6s 28ms/step - loss: 0.2511 - accuracy: 0.8959 - val_loss: 0.3367 - val_accuracy: 0.8605\n"
     ]
    }
   ],
   "source": [
    "new_lstm_model.compile(optimizer='adam',\n",
    "              loss='binary_crossentropy',\n",
    "              metrics=['accuracy'])\n",
    "              \n",
    "epochs=10\n",
    "\n",
    "new_lstm_model_history = new_lstm_model.fit(x_train,\n",
    "                                        y_train,\n",
    "                                        epochs=epochs,\n",
    "                                        batch_size=512,\n",
    "                                        validation_data=(x_val, y_val),\n",
    "                                        verbose=1)"
   ]
  },
  {
   "cell_type": "code",
   "execution_count": 47,
   "id": "c0a2aec9",
   "metadata": {},
   "outputs": [
    {
     "data": {
      "image/png": "[encoded data removed]",
      "text/plain": [
       "<Figure size 432x288 with 1 Axes>"
      ]
     },
     "metadata": {
      "needs_background": "light"
     },
     "output_type": "display_data"
    },
    {
     "data": {
      "image/png": "[encoded data removed]",
      "text/plain": [
       "<Figure size 432x288 with 1 Axes>"
      ]
     },
     "metadata": {
      "needs_background": "light"
     },
     "output_type": "display_data"
    }
   ],
   "source": [
    "import matplotlib.pyplot as plt\n",
    "\n",
    "new_lstm_history_dict = new_lstm_model_history.history\n",
    "\n",
    "acc = new_lstm_history_dict['accuracy']\n",
    "val_acc = new_lstm_history_dict['val_accuracy']\n",
    "loss = new_lstm_history_dict['loss']\n",
    "val_loss = new_lstm_history_dict['val_loss']\n",
    "\n",
    "epochs = range(1, len(acc) + 1)\n",
    "\n",
    "# \"bo\"는 \"파란색 점\"입니다\n",
    "plt.plot(epochs, loss, 'bo', label='Training loss')\n",
    "# b는 \"파란 실선\"입니다\n",
    "plt.plot(epochs, val_loss, 'r', label='Validation loss')\n",
    "plt.title('Training and validation loss')\n",
    "plt.xlabel('Epochs')\n",
    "plt.ylabel('Loss')\n",
    "plt.legend()\n",
    "\n",
    "plt.show()\n",
    "\n",
    "plt.clf()   # 그림을 초기화합니다\n",
    "\n",
    "plt.plot(epochs, acc, 'bo', label='Training acc')\n",
    "plt.plot(epochs, val_acc, 'r', label='Validation acc')\n",
    "plt.title('Training and validation accuracy')\n",
    "plt.xlabel('Epochs')\n",
    "plt.ylabel('Accuracy')\n",
    "plt.legend()\n",
    "\n",
    "plt.show()"
   ]
  },
  {
   "cell_type": "code",
   "execution_count": 48,
   "id": "b866c712",
   "metadata": {},
   "outputs": [
    {
     "name": "stdout",
     "output_type": "stream",
     "text": [
      "1537/1537 - 6s - loss: 0.3423 - accuracy: 0.8595\n",
      "[0.34228208661079407, 0.8594706654548645]\n"
     ]
    }
   ],
   "source": [
    "new_lstm_model = new_lstm_model.evaluate(X_test,y_test, verbose=2)\n",
    "\n",
    "print(new_lstm_model)"
   ]
  },
  {
   "cell_type": "markdown",
   "id": "303d7ba5",
   "metadata": {},
   "source": [
    "## 모델 평가\n",
    "- 역시 맨땅에 헤딩하는것보다 전이학습을 시킨 모델의 성능이 좋게 나왔음\n",
    "- 또한 오버피팅도 어느정도 억제한것으로 생각됨"
   ]
  },
  {
   "cell_type": "markdown",
   "id": "ef20577f",
   "metadata": {},
   "source": [
    "# 전체 회고\n",
    "- stopwords나 전처리를 좀 더 세밀하게 했다면, baseline 모델로도 85%를 넘길 수 있었지 않았을까라는 생각이 든다.\n",
    "- 허깅페이스에 있는 모델로는 감성분류를 해봤지만, 직접 사전을 구축하고 모델을 구축해서 한것은 처음이라 재미있었다.\n",
    "- 딥러닝을 학습시킬때 마다 드는 생각이지만 항상 오버피팅과의 싸움이 되는 것 같다.\n",
    "- 아직 레이어를 얼마나 어떻게 쌓아야하는지 감은 못잡았지만, 열심히 공부하면 잘할 수 있을 것 같다."
   ]
  },
  {
   "cell_type": "code",
   "execution_count": null,
   "id": "3b111f4b",
   "metadata": {},
   "outputs": [],
   "source": []
  }
 ],
 "metadata": {
  "kernelspec": {
   "display_name": "Python 3 (ipykernel)",
   "language": "python",
   "name": "python3"
  },
  "language_info": {
   "codemirror_mode": {
    "name": "ipython",
    "version": 3
   },
   "file_extension": ".py",
   "mimetype": "text/x-python",
   "name": "python",
   "nbconvert_exporter": "python",
   "pygments_lexer": "ipython3",
   "version": "3.9.7"
  }
 },
 "nbformat": 4,
 "nbformat_minor": 5
}
